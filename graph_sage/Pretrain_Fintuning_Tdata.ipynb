{
 "cells": [
  {
   "cell_type": "code",
   "execution_count": 1,
   "metadata": {},
   "outputs": [],
   "source": [
    "import dataset\n",
    "import datetime\n",
    "from datetime import timedelta\n",
    "from parser import get_parser\n",
    "import numpy as np \n",
    "import pandas as pd \n",
    "import torch\n",
    "from pytorch_lightning import Trainer\n",
    "from torch_geometric.utils import to_undirected"
   ]
  },
  {
   "cell_type": "markdown",
   "metadata": {},
   "source": [
    "## Load data"
   ]
  },
  {
   "cell_type": "code",
   "execution_count": 2,
   "metadata": {},
   "outputs": [],
   "source": [
    "data = dataset.Tdata(path='../Custom-Semi-Supervised/data/tdata.csv')\n",
    "parser = get_parser()\n",
    "args = parser.parse_args(args=\n",
    "                         [\"--data\",\"real-t\", \n",
    "                          \"--sampling\",\"xgb\",\n",
    "                          \"--mode\",\"scratch\",\n",
    "                          \"--train_from\",\"20170101\",\n",
    "                          \"--test_from\",\"20190101\",\n",
    "                          \"--test_length\",\"365\",\n",
    "                          \"--valid_length\",\"90\",\n",
    "                          \"--initial_inspection_rate\", \"5\",\n",
    "                          \"--final_inspection_rate\", \"10\",\n",
    "                         ])"
   ]
  },
  {
   "cell_type": "code",
   "execution_count": 3,
   "metadata": {},
   "outputs": [
    {
     "name": "stdout",
     "output_type": "stream",
     "text": [
      "Data size:\n",
      "Train labeled: (77391, 41), Train unlabeled: (1470434, 41), Valid labeled: (134457, 41), Valid unlabeled: (0, 13), Test: (703090, 41)\n",
      "Checking label distribution\n",
      "Training: 0.09757342825942052\n",
      "Validation: 0.09589052260946108\n",
      "Testing: 0.10476480792437651\n"
     ]
    }
   ],
   "source": [
    "# args\n",
    "seed = args.seed\n",
    "epochs = args.epoch\n",
    "dim = args.dim\n",
    "lr = args.lr\n",
    "weight_decay = args.l2\n",
    "initial_inspection_rate = args.initial_inspection_rate\n",
    "inspection_rate_option = args.inspection_plan\n",
    "mode = args.mode\n",
    "train_begin = args.train_from \n",
    "test_begin = args.test_from\n",
    "test_length = args.test_length\n",
    "valid_length = args.valid_length\n",
    "chosen_data = args.data\n",
    "numWeeks = args.numweeks\n",
    "semi_supervised = args.semi_supervised\n",
    "save = args.save\n",
    "gpu_id = args.device\n",
    "\n",
    "# Initial dataset split\n",
    "np.random.seed(seed)\n",
    "torch.manual_seed(seed)\n",
    "if torch.cuda.is_available():\n",
    "    torch.cuda.manual_seed(seed)\n",
    "\n",
    "# Initial dataset split\n",
    "train_start_day = datetime.date(int(train_begin[:4]), int(train_begin[4:6]), int(train_begin[6:8]))\n",
    "test_start_day = datetime.date(int(test_begin[:4]), int(test_begin[4:6]), int(test_begin[6:8]))\n",
    "test_length = timedelta(days=test_length)    \n",
    "test_end_day = test_start_day + test_length\n",
    "valid_length = timedelta(days=valid_length)\n",
    "valid_start_day = test_start_day - valid_length\n",
    "\n",
    "# data\n",
    "data.split(train_start_day, valid_start_day, test_start_day, test_end_day, valid_length, test_length, args)\n",
    "data.featureEngineering()"
   ]
  },
  {
   "cell_type": "markdown",
   "metadata": {},
   "source": [
    "## Prepare DATA"
   ]
  },
  {
   "cell_type": "code",
   "execution_count": 4,
   "metadata": {},
   "outputs": [],
   "source": [
    "from utils import *\n",
    "from pygData_util import *"
   ]
  },
  {
   "cell_type": "code",
   "execution_count": 5,
   "metadata": {},
   "outputs": [
    {
     "name": "stdout",
     "output_type": "stream",
     "text": [
      "Training XGBoost model...\n"
     ]
    }
   ],
   "source": [
    "categories=[\"importer.id\",\"HS6\"]\n",
    "gdata = GraphData(data,use_xgb=True, categories=categories)"
   ]
  },
  {
   "cell_type": "code",
   "execution_count": 6,
   "metadata": {},
   "outputs": [
    {
     "name": "stdout",
     "output_type": "stream",
     "text": [
      "Checking top 1% suspicious transactions: 1345\n",
      "Precision: 0.6387, Recall: 0.0730, Revenue: 0.0754\n",
      "Checking top 2% suspicious transactions: 2690\n",
      "Precision: 0.5647, Recall: 0.1291, Revenue: 0.1244\n",
      "Checking top 5% suspicious transactions: 6723\n",
      "Precision: 0.4409, Recall: 0.2519, Revenue: 0.2514\n",
      "Checking top 10% suspicious transactions: 13446\n",
      "Precision: 0.3244, Recall: 0.3708, Revenue: 0.3665\n",
      "--------------------------------------------------\n",
      "Checking top 1% suspicious transactions: 7030\n",
      "Precision: 0.7296, Recall: 0.0769, Revenue: 0.1280\n",
      "Checking top 2% suspicious transactions: 14062\n",
      "Precision: 0.6358, Recall: 0.1341, Revenue: 0.2154\n",
      "Checking top 5% suspicious transactions: 35155\n",
      "Precision: 0.4679, Recall: 0.2467, Revenue: 0.3736\n",
      "Checking top 10% suspicious transactions: 70309\n",
      "Precision: 0.3369, Recall: 0.3553, Revenue: 0.4870\n"
     ]
    }
   ],
   "source": [
    "best_thresh, best_auc = find_best_threshold(gdata.xgb,data.dfvalidx_lab, data.valid_cls_label)\n",
    "xgb_test_pred = gdata.xgb.predict_proba(data.dfvalidx_lab)[:,-1]\n",
    "overall_f1,auc,pr, re, f, rev = metrics(xgb_test_pred, data.valid_cls_label,data.valid_reg_label,best_thresh)\n",
    "print(\"-\"*50)\n",
    "xgb_test_pred = gdata.xgb.predict_proba(data.dftestx)[:,-1]\n",
    "overall_f1,auc,pr, re, f, rev = metrics(xgb_test_pred, data.test_cls_label,data.test_reg_label,best_thresh)"
   ]
  },
  {
   "cell_type": "code",
   "execution_count": 7,
   "metadata": {},
   "outputs": [],
   "source": [
    "stage = \"train_lab\"\n",
    "trainLab_data = gdata.get_data(stage)\n",
    "train_nodeidx = torch.tensor(gdata.get_AttNode(stage))\n",
    "trainLab_data.node_idx = train_nodeidx"
   ]
  },
  {
   "cell_type": "code",
   "execution_count": 8,
   "metadata": {},
   "outputs": [],
   "source": [
    "stage = \"train_unlab\"\n",
    "unlab_data = gdata.get_data(stage)\n",
    "unlab_nodeidx = torch.tensor(gdata.get_AttNode(stage))\n",
    "unlab_data.node_idx = unlab_nodeidx"
   ]
  },
  {
   "cell_type": "code",
   "execution_count": 9,
   "metadata": {},
   "outputs": [],
   "source": [
    "stage = \"valid\"\n",
    "valid_data = gdata.get_data(stage)\n",
    "valid_nodeidx = torch.tensor(gdata.get_AttNode(stage))\n",
    "valid_data.node_idx = valid_nodeidx"
   ]
  },
  {
   "cell_type": "code",
   "execution_count": 10,
   "metadata": {},
   "outputs": [],
   "source": [
    "stage = \"test\"\n",
    "test_data = gdata.get_data(stage)\n",
    "test_nodeidx = torch.tensor(gdata.get_AttNode(stage))\n",
    "test_data.node_idx = test_nodeidx"
   ]
  },
  {
   "cell_type": "code",
   "execution_count": 11,
   "metadata": {},
   "outputs": [],
   "source": [
    "stacked_data = StackData(trainLab_data,unlab_data,valid_data, test_data)"
   ]
  },
  {
   "cell_type": "markdown",
   "metadata": {},
   "source": [
    "## New Sampler"
   ]
  },
  {
   "cell_type": "code",
   "execution_count": 12,
   "metadata": {},
   "outputs": [],
   "source": [
    "from torch_cluster import random_walk\n",
    "from torch_geometric.data import NeighborSampler \n",
    "from pytorch_lightning import LightningDataModule"
   ]
  },
  {
   "cell_type": "code",
   "execution_count": 13,
   "metadata": {},
   "outputs": [],
   "source": [
    "class UnsupSampler(NeighborSampler):\n",
    "    def sample(self, batch):\n",
    "        batch = torch.tensor(batch)\n",
    "        row, col, _ = self.adj_t.coo()\n",
    "\n",
    "        # For each node in `batch`, we sample a direct neighbor (as positive\n",
    "        # example) and a random node (as negative example):\n",
    "        pos_batch = random_walk(row, col, batch, walk_length=1,\n",
    "                                coalesced=False)[:, 1]\n",
    "\n",
    "        neg_batch = torch.randint(0, self.adj_t.size(1), (batch.numel(), ),\n",
    "                                  dtype=torch.long)\n",
    "\n",
    "        batch = torch.cat([batch, pos_batch, neg_batch], dim=0)\n",
    "        return super(UnsupSampler, self).sample(batch)"
   ]
  },
  {
   "cell_type": "code",
   "execution_count": 14,
   "metadata": {},
   "outputs": [],
   "source": [
    "class Batch(NamedTuple):\n",
    "    '''\n",
    "    convert batch data for pytorch-lightning\n",
    "    '''\n",
    "    x: Tensor\n",
    "    y: Tensor\n",
    "    rev: Tensor\n",
    "    adjs_t: NamedTuple\n",
    "    def to(self, *args, **kwargs):\n",
    "        return Batch(\n",
    "            x=self.x.to(*args, **kwargs),\n",
    "            y=self.y.to(*args, **kwargs),\n",
    "            rev=self.rev.to(*args, **kwargs),\n",
    "            adjs_t=[(adj_t.to(*args, **kwargs), eid.to(*args, **kwargs), size) for adj_t, eid, size in self.adjs_t],\n",
    "        )\n"
   ]
  },
  {
   "cell_type": "code",
   "execution_count": 15,
   "metadata": {},
   "outputs": [],
   "source": [
    "class UnsupData(LightningDataModule):\n",
    "    def __init__(self,data,sizes, batch_size = 128):\n",
    "        '''\n",
    "        defining dataloader with NeighborSampler to extract k-hop subgraph.\n",
    "        Args:\n",
    "            data (Graphdata): graph data for the edges and node index\n",
    "            sizes ([int]): The number of neighbors to sample for each node in each layer. \n",
    "                           If set to :obj:`sizes[l] = -1`, all neighbors are included\n",
    "            batch_size (int): batch size for training\n",
    "        '''\n",
    "        super(UnsupData,self).__init__()\n",
    "        self.data = data\n",
    "        self.sizes = sizes\n",
    "        self.valid_sizes = [-1 for i in self.sizes]\n",
    "        self.batch_size = batch_size\n",
    "\n",
    "    def train_dataloader(self):\n",
    "        return UnsupSampler(self.data.test_edge, sizes=self.sizes,\n",
    "                               batch_size=self.batch_size,transform=self.convert_batch,\n",
    "                               shuffle=True,num_workers=8)\n",
    "    \n",
    "    def test_dataloader(self):\n",
    "        return UnsupSampler(self.data.test_edge, sizes=self.sizes,node_idx=self.data.test_idx,\n",
    "                               batch_size=self.batch_size,transform=self.convert_batch,\n",
    "                               shuffle=False,num_workers=8)\n",
    "    \n",
    "    def label_loader(self):\n",
    "        return UnsupSampler(self.data.test_edge, sizes=self.sizes,node_idx=self.data.train_idx,\n",
    "                               batch_size=self.batch_size,transform=self.convert_batch,\n",
    "                               shuffle=False,num_workers=8)\n",
    "\n",
    "    def convert_batch(self, batch_size, n_id, adjs):\n",
    "        return Batch(\n",
    "            x=self.data.x[n_id],\n",
    "            y=self.data.y[n_id[:batch_size]],\n",
    "            rev = self.data.rev[n_id[:batch_size]],\n",
    "            adjs_t=adjs,\n",
    "        )"
   ]
  },
  {
   "cell_type": "markdown",
   "metadata": {},
   "source": [
    "## Model"
   ]
  },
  {
   "cell_type": "code",
   "execution_count": 16,
   "metadata": {},
   "outputs": [],
   "source": [
    "from models import MLP, GNNStack, UselessConv, Mish"
   ]
  },
  {
   "cell_type": "code",
   "execution_count": 17,
   "metadata": {},
   "outputs": [],
   "source": [
    "from pytorch_lightning.callbacks import ModelCheckpoint, EarlyStopping\n",
    "from pytorch_lightning import LightningModule, seed_everything\n",
    "from torchtools.optim import RangerLars\n",
    "from pytorch_lightning.loggers import TensorBoardLogger\n",
    "import torch\n",
    "import torch.nn as nn\n",
    "import torch.nn.functional as F"
   ]
  },
  {
   "cell_type": "code",
   "execution_count": 19,
   "metadata": {},
   "outputs": [],
   "source": [
    "class PretrainGNN(LightningModule):\n",
    "    def __init__(self,input_dim, hidden_dim, numLayers, useXGB=True):\n",
    "        super().__init__()\n",
    "        self.save_hyperparameters()\n",
    "        self.input_dim = input_dim\n",
    "        self.dim = hidden_dim*2\n",
    "        self.numLayers = numLayers\n",
    "        self.layers = [self.dim, self.dim//2] #* (numLayers+1)\n",
    "        self.bn = nn.BatchNorm1d(self.dim)\n",
    "        self.act = Mish()\n",
    "        self.useXGB = useXGB\n",
    "        \n",
    "        # GNN layer\n",
    "        if self.useXGB:\n",
    "            self.initEmbedding = nn.Embedding(self.input_dim, self.dim, padding_idx=0)\n",
    "        else:\n",
    "            self.initEmbedding = MLP(self.input_dim, self.dim, Numlayer=2)\n",
    "        self.initGNN = UselessConv()\n",
    "        self.GNNs = GNNStack(self.layers,self.numLayers)\n",
    "\n",
    "    def forward(self, x,adjs):\n",
    "        # update node embedding\n",
    "        leaf_emb = self.initEmbedding(x)\n",
    "        if self.useXGB:\n",
    "            leaf_emb = torch.sum(leaf_emb,dim=1) # summation over the trees\n",
    "            leaf_emb = self.bn(leaf_emb)\n",
    "            leaf_emb = self.act(leaf_emb)\n",
    "        \n",
    "        # first update \n",
    "        firstHop_neighbor = adjs[-1][0]\n",
    "        leaf_emb = self.initGNN(leaf_emb,to_undirected(firstHop_neighbor))\n",
    "        \n",
    "        # GNN \n",
    "        embeddings = self.GNNs(leaf_emb, adjs)\n",
    "        \n",
    "        return embeddings[-1]\n",
    "    \n",
    "    def training_step(self, batch, batch_idx: int):\n",
    "        out = self(batch.x, batch.adjs_t)\n",
    "        out, pos_out, neg_out = out.split(out.size(0) // 3, dim=0)\n",
    "        pos_loss = F.logsigmoid((out * pos_out).sum(-1)).mean()\n",
    "        neg_loss = F.logsigmoid(-(out * neg_out).sum(-1)).mean()\n",
    "        train_loss = -pos_loss - neg_loss\n",
    "        self.log('train_loss', train_loss)\n",
    "        return train_loss\n",
    "    \n",
    "    def test_step(self, batch, batch_idx: int):\n",
    "        out = self(batch.x, batch.adjs_t)\n",
    "        out, pos_out, neg_out = out.split(out.size(0) // 3, dim=0)\n",
    "        return out\n",
    "    \n",
    "    def test_epoch_end(self, val_step_outputs):\n",
    "        val_step_outputs = torch.cat(val_step_outputs)\n",
    "        val_step_outputs = val_step_outputs.cpu().detach().numpy()\n",
    "        return {\"log\":{\"predictions\":val_step_outputs}}\n",
    "    \n",
    "    def configure_optimizers(self):\n",
    "        optimizer = RangerLars(self.parameters(), lr=0.005, weight_decay=0.0001)\n",
    "        scheduler = torch.optim.lr_scheduler.ExponentialLR(optimizer,gamma=0.8)\n",
    "        return [optimizer], [scheduler]"
   ]
  },
  {
   "cell_type": "code",
   "execution_count": 20,
   "metadata": {
    "scrolled": false
   },
   "outputs": [
    {
     "name": "stderr",
     "output_type": "stream",
     "text": [
      "GPU available: True, used: True\n",
      "TPU available: None, using: 0 TPU cores\n",
      "LOCAL_RANK: 0 - CUDA_VISIBLE_DEVICES: [0,1,2,3]\n",
      "\n",
      "  | Name          | Type        | Params\n",
      "----------------------------------------------\n",
      "0 | bn            | BatchNorm1d | 128   \n",
      "1 | act           | Mish        | 0     \n",
      "2 | initEmbedding | Embedding   | 98.8 K\n",
      "3 | initGNN       | UselessConv | 0     \n",
      "4 | GNNs          | GNNStack    | 33.5 K\n",
      "----------------------------------------------\n",
      "132 K     Trainable params\n",
      "0         Non-trainable params\n",
      "132 K     Total params\n"
     ]
    },
    {
     "data": {
      "application/vnd.jupyter.widget-view+json": {
       "model_id": "9663b12e3e1a41349701a63e9f11f84b",
       "version_major": 2,
       "version_minor": 0
      },
      "text/plain": [
       "HBox(children=(HTML(value='Training'), FloatProgress(value=1.0, bar_style='info', layout=Layout(flex='2'), max…"
      ]
     },
     "metadata": {},
     "output_type": "display_data"
    },
    {
     "name": "stdout",
     "output_type": "stream",
     "text": [
      "\n"
     ]
    },
    {
     "data": {
      "text/plain": [
       "1"
      ]
     },
     "execution_count": 20,
     "metadata": {},
     "output_type": "execute_result"
    }
   ],
   "source": [
    "# model config\n",
    "# seed_everything(2345)\n",
    "input_dim = gdata.leaf_dim\n",
    "hidden_size = 32\n",
    "sizes = [50,20]\n",
    "numLayers = len(sizes)\n",
    "batch_size = 1024\n",
    "\n",
    "model = PretrainGNN(input_dim, hidden_size, numLayers, useXGB=gdata.use_xgb)\n",
    "\n",
    "# lightning config\n",
    "stacked_data = StackData(trainLab_data,unlab_data,valid_data, test_data)\n",
    "datamodule = UnsupData(stacked_data, sizes = sizes, batch_size=batch_size)\n",
    "checkpoint_callback = ModelCheckpoint(\n",
    "    monitor='train_loss',    \n",
    "    dirpath='./saved_model',\n",
    "    filename='Tdata5-pretrain-{train_loss:.4f}',\n",
    "    save_top_k=1,\n",
    "    mode='min',\n",
    ")\n",
    "trainer = Trainer(gpus=[0], max_epochs=2,\n",
    "#                   callbacks=[checkpoint_callback],\n",
    "                 )\n",
    "trainer.fit(model, train_dataloader=datamodule.train_dataloader(),\n",
    "           )"
   ]
  },
  {
   "cell_type": "code",
   "execution_count": null,
   "metadata": {},
   "outputs": [],
   "source": [
    "trainer.test()"
   ]
  },
  {
   "cell_type": "code",
   "execution_count": null,
   "metadata": {},
   "outputs": [],
   "source": [
    "# trainer.save_checkpoint(\"./saved_model/pretrained.ckpt\")"
   ]
  },
  {
   "cell_type": "code",
   "execution_count": null,
   "metadata": {},
   "outputs": [],
   "source": [
    "from tqdm import tqdm_notebook"
   ]
  },
  {
   "cell_type": "code",
   "execution_count": null,
   "metadata": {},
   "outputs": [],
   "source": [
    "test_embeddings = []\n",
    "for batch in tqdm_notebook(datamodule.test_dataloader()):\n",
    "    batch = batch.to(model.device)\n",
    "    out = model(batch.x, batch.adjs_t)\n",
    "    out, pos_out, neg_out = out.split(out.size(0) // 3, dim=0)\n",
    "    test_embeddings.append(out.cpu().detach().numpy())"
   ]
  },
  {
   "cell_type": "code",
   "execution_count": null,
   "metadata": {},
   "outputs": [],
   "source": [
    "embeddings = []\n",
    "for batch in tqdm_notebook(datamodule.label_loader()):\n",
    "    batch = batch.to(model.device)\n",
    "    out = model(batch.x, batch.adjs_t)\n",
    "    out, pos_out, neg_out = out.split(out.size(0) // 3, dim=0)\n",
    "    embeddings.append(out.cpu().detach().numpy())"
   ]
  },
  {
   "cell_type": "code",
   "execution_count": null,
   "metadata": {},
   "outputs": [],
   "source": [
    "embeddings = np.concatenate(embeddings)\n",
    "test_embeddings = np.concatenate(test_embeddings)"
   ]
  },
  {
   "cell_type": "code",
   "execution_count": null,
   "metadata": {},
   "outputs": [],
   "source": [
    "from sklearn.linear_model import LogisticRegression"
   ]
  },
  {
   "cell_type": "code",
   "execution_count": null,
   "metadata": {},
   "outputs": [],
   "source": [
    "lr = LogisticRegression(class_weight={1:50,0:1})\n",
    "lr.fit(embeddings,data.train_cls_label)"
   ]
  },
  {
   "cell_type": "code",
   "execution_count": null,
   "metadata": {},
   "outputs": [],
   "source": [
    "y_prob = lr.predict_proba(test_embeddings)[:,1]"
   ]
  },
  {
   "cell_type": "code",
   "execution_count": null,
   "metadata": {},
   "outputs": [],
   "source": [
    "_ = metrics(y_prob, data.test_cls_label,data.test_reg_label,None)"
   ]
  },
  {
   "cell_type": "markdown",
   "metadata": {},
   "source": [
    "## Fine tuning"
   ]
  },
  {
   "cell_type": "code",
   "execution_count": 21,
   "metadata": {},
   "outputs": [],
   "source": [
    "from torch_geometric.nn import GATConv,TransformerConv\n",
    "from pygData_util import *"
   ]
  },
  {
   "cell_type": "code",
   "execution_count": 22,
   "metadata": {},
   "outputs": [],
   "source": [
    "class Predictor(LightningModule):\n",
    "    def __init__(self,input_dim, hidden_dim, numLayers, useXGB=True):\n",
    "        super().__init__()\n",
    "        self.gnn_encoder = PretrainGNN(input_dim, hidden_size, numLayers, useXGB)\n",
    "        self.dim = hidden_dim * 2\n",
    "        \n",
    "        # output\n",
    "        self.clsLayer = nn.Linear(self.dim,1) #GATConv(self.dim,1)\n",
    "        self.revLayer = nn.Linear(self.dim,1) #GATConv(self.dim,1)\n",
    "        self.loss_func = nn.BCEWithLogitsLoss(pos_weight = torch.tensor([1])) #FocalLoss(logits=True)\n",
    "        \n",
    "    def load_fromPretrain(self,path):\n",
    "        self.gnn_encoder.load_from_checkpoint(path)\n",
    "        \n",
    "    def loadGNN_state(self,model):\n",
    "        self.gnn_encoder.load_state_dict(model.state_dict())\n",
    "\n",
    "    def forward(self, x,adjs):\n",
    "#         firstHop_neighbor = adjs[-1][0]\n",
    "        # get node embedding from pre-trained model\n",
    "        embedding = self.gnn_encoder(x,adjs)\n",
    "        logit = self.clsLayer(embedding)\n",
    "        revenue = self.revLayer(embedding)\n",
    "        \n",
    "        return logit, revenue\n",
    "    \n",
    "    def compute_CLS_loss(self,logit, label):\n",
    "        logit = logit.flatten()\n",
    "        loss = self.loss_func(logit,label)\n",
    "        return loss\n",
    "    \n",
    "    def compute_REG_loss(self,pred_rev, rev):\n",
    "        pred_rev = pred_rev.flatten()\n",
    "        loss = F.mse_loss(pred_rev,rev)\n",
    "        return loss \n",
    "\n",
    "    def training_step(self, batch, batch_idx: int):\n",
    "        logits, revenues = self(batch.x, batch.adjs_t)\n",
    "        CLS_loss = self.compute_CLS_loss(logits, batch.y)  \n",
    "        REG_loss = self.compute_REG_loss(revenues, batch.rev)\n",
    "        train_loss = CLS_loss + 10 * REG_loss\n",
    "        self.log('train_loss', train_loss)\n",
    "        return train_loss\n",
    "    \n",
    "    def validation_step(self, batch, batch_idx: int):\n",
    "        logits, revenues = self(batch.x, batch.adjs_t)\n",
    "        CLS_loss = self.compute_CLS_loss(logits, batch.y)  \n",
    "        REG_loss = self.compute_REG_loss(revenues, batch.rev)\n",
    "        valid_loss = CLS_loss + 1 * REG_loss\n",
    "        self.log('val_loss', valid_loss, on_step=True, on_epoch=True, sync_dist=True)\n",
    "        return logits\n",
    "    \n",
    "    def validation_epoch_end(self, val_step_outputs):\n",
    "        predictions = torch.cat(val_step_outputs).detach().cpu().numpy().ravel()\n",
    "        f,pr, re, rev = torch_metrics(predictions, self.data.valid_cls_label, self.data.valid_reg_label)\n",
    "        f1_top = np.mean(f)\n",
    "        self.log(\"F1-top\",f1_top)\n",
    "        performance = [*f, *pr, *re, *rev]\n",
    "        name_performance = [\"F1@1\",\"F1@2\",\"F1@5\",\"F1@10\",\"Pr@1\",\"Pr@2\",\"Pr@5\",\"Pr@10\",\n",
    "                            \"Re@1\",\"Re@2\",\"Re@5\",\"Re@10\",\"Rev@1\",\"Rev@2\",\"Rev@5\",\"Rev@10\"]\n",
    "        name_performance = [\"Val/\"+i for i in name_performance]\n",
    "        tensorboard_logs = dict(zip(name_performance,performance))\n",
    "        return {\"Val/F1-top\":f1_top, \"log\":tensorboard_logs}\n",
    "        \n",
    "    def test_step(self,batch, batch_idx):\n",
    "        return self.validation_step(batch, batch_idx)\n",
    "    \n",
    "    def test_epoch_end(self,val_step_outputs):\n",
    "        predictions = torch.cat(val_step_outputs).detach().cpu().numpy().ravel()\n",
    "        f,pr, re, rev = torch_metrics(predictions, self.data.test_cls_label, self.data.test_reg_label)\n",
    "        f1_top = np.mean(f)\n",
    "        performance = [*f, *pr, *re, *rev]\n",
    "        name_performance = [\"F1@1\",\"F1@2\",\"F1@5\",\"F1@10\",\"Pr@1\",\"Pr@2\",\"Pr@5\",\"Pr@10\",\n",
    "                            \"Re@1\",\"Re@2\",\"Re@5\",\"Re@10\",\"Rev@1\",\"Rev@2\",\"Rev@5\",\"Rev@10\"]\n",
    "        name_performance = [\"Test/\"+i for i in name_performance]\n",
    "        tensorboard_logs = dict(zip(name_performance,performance))\n",
    "        \n",
    "        return {\"F1-top\":f1_top, \"log\":tensorboard_logs}\n",
    "\n",
    "    def configure_optimizers(self):\n",
    "        optimizer = RangerLars(self.parameters(), lr=0.01, weight_decay=0.0001)\n",
    "        scheduler = torch.optim.lr_scheduler.ExponentialLR(optimizer,gamma=0.99)\n",
    "        return [optimizer], [scheduler]"
   ]
  },
  {
   "cell_type": "code",
   "execution_count": null,
   "metadata": {
    "scrolled": true
   },
   "outputs": [
    {
     "name": "stderr",
     "output_type": "stream",
     "text": [
      "GPU available: True, used: True\n",
      "TPU available: None, using: 0 TPU cores\n",
      "LOCAL_RANK: 0 - CUDA_VISIBLE_DEVICES: [0,1,2,3]\n",
      "\n",
      "  | Name        | Type              | Params\n",
      "--------------------------------------------------\n",
      "0 | gnn_encoder | PretrainGNN       | 132 K \n",
      "1 | clsLayer    | Linear            | 65    \n",
      "2 | revLayer    | Linear            | 65    \n",
      "3 | loss_func   | BCEWithLogitsLoss | 0     \n",
      "--------------------------------------------------\n",
      "132 K     Trainable params\n",
      "0         Non-trainable params\n",
      "132 K     Total params\n"
     ]
    },
    {
     "data": {
      "application/vnd.jupyter.widget-view+json": {
       "model_id": "0f0e40da3b724436967a932812f6fca0",
       "version_major": 2,
       "version_minor": 0
      },
      "text/plain": [
       "HBox(children=(HTML(value='Training'), FloatProgress(value=1.0, bar_style='info', layout=Layout(flex='2'), max…"
      ]
     },
     "metadata": {},
     "output_type": "display_data"
    },
    {
     "data": {
      "application/vnd.jupyter.widget-view+json": {
       "model_id": "",
       "version_major": 2,
       "version_minor": 0
      },
      "text/plain": [
       "HBox(children=(HTML(value='Validating'), FloatProgress(value=1.0, bar_style='info', layout=Layout(flex='2'), m…"
      ]
     },
     "metadata": {},
     "output_type": "display_data"
    },
    {
     "name": "stdout",
     "output_type": "stream",
     "text": [
      "Checking top 1% suspicious transactions: 1345\n",
      "Precision: 0.5100, Recall: 0.0583, Revenue: 0.0537\n",
      "Checking top 2% suspicious transactions: 2690\n",
      "Precision: 0.5257, Recall: 0.1202, Revenue: 0.1138\n",
      "Checking top 5% suspicious transactions: 6723\n",
      "Precision: 0.4428, Recall: 0.2530, Revenue: 0.2690\n",
      "Checking top 10% suspicious transactions: 13446\n",
      "Precision: 0.3258, Recall: 0.3724, Revenue: 0.4031\n"
     ]
    },
    {
     "data": {
      "application/vnd.jupyter.widget-view+json": {
       "model_id": "",
       "version_major": 2,
       "version_minor": 0
      },
      "text/plain": [
       "HBox(children=(HTML(value='Validating'), FloatProgress(value=1.0, bar_style='info', layout=Layout(flex='2'), m…"
      ]
     },
     "metadata": {},
     "output_type": "display_data"
    },
    {
     "name": "stdout",
     "output_type": "stream",
     "text": [
      "Checking top 1% suspicious transactions: 1345\n",
      "Precision: 0.5807, Recall: 0.0664, Revenue: 0.0538\n",
      "Checking top 2% suspicious transactions: 2689\n",
      "Precision: 0.6010, Recall: 0.1374, Revenue: 0.1313\n",
      "Checking top 5% suspicious transactions: 6723\n",
      "Precision: 0.4687, Recall: 0.2678, Revenue: 0.2837\n",
      "Checking top 10% suspicious transactions: 13446\n",
      "Precision: 0.3359, Recall: 0.3839, Revenue: 0.4121\n"
     ]
    },
    {
     "data": {
      "application/vnd.jupyter.widget-view+json": {
       "model_id": "",
       "version_major": 2,
       "version_minor": 0
      },
      "text/plain": [
       "HBox(children=(HTML(value='Validating'), FloatProgress(value=1.0, bar_style='info', layout=Layout(flex='2'), m…"
      ]
     },
     "metadata": {},
     "output_type": "display_data"
    },
    {
     "name": "stdout",
     "output_type": "stream",
     "text": [
      "Checking top 1% suspicious transactions: 1345\n",
      "Precision: 0.6885, Recall: 0.0787, Revenue: 0.0760\n",
      "Checking top 2% suspicious transactions: 2690\n",
      "Precision: 0.6346, Recall: 0.1451, Revenue: 0.1427\n",
      "Checking top 5% suspicious transactions: 6723\n",
      "Precision: 0.4840, Recall: 0.2766, Revenue: 0.3000\n",
      "Checking top 10% suspicious transactions: 13446\n",
      "Precision: 0.3427, Recall: 0.3917, Revenue: 0.4218\n"
     ]
    },
    {
     "data": {
      "application/vnd.jupyter.widget-view+json": {
       "model_id": "",
       "version_major": 2,
       "version_minor": 0
      },
      "text/plain": [
       "HBox(children=(HTML(value='Validating'), FloatProgress(value=1.0, bar_style='info', layout=Layout(flex='2'), m…"
      ]
     },
     "metadata": {},
     "output_type": "display_data"
    },
    {
     "name": "stdout",
     "output_type": "stream",
     "text": [
      "Checking top 1% suspicious transactions: 1345\n",
      "Precision: 0.7138, Recall: 0.0816, Revenue: 0.0804\n",
      "Checking top 2% suspicious transactions: 2690\n",
      "Precision: 0.6193, Recall: 0.1416, Revenue: 0.1396\n",
      "Checking top 5% suspicious transactions: 6723\n",
      "Precision: 0.4825, Recall: 0.2757, Revenue: 0.3074\n",
      "Checking top 10% suspicious transactions: 13446\n",
      "Precision: 0.3357, Recall: 0.3837, Revenue: 0.3986\n"
     ]
    },
    {
     "data": {
      "application/vnd.jupyter.widget-view+json": {
       "model_id": "",
       "version_major": 2,
       "version_minor": 0
      },
      "text/plain": [
       "HBox(children=(HTML(value='Validating'), FloatProgress(value=1.0, bar_style='info', layout=Layout(flex='2'), m…"
      ]
     },
     "metadata": {},
     "output_type": "display_data"
    },
    {
     "name": "stdout",
     "output_type": "stream",
     "text": [
      "Checking top 1% suspicious transactions: 1345\n",
      "Precision: 0.7175, Recall: 0.0820, Revenue: 0.0839\n",
      "Checking top 2% suspicious transactions: 2690\n",
      "Precision: 0.6152, Recall: 0.1407, Revenue: 0.1354\n",
      "Checking top 5% suspicious transactions: 6723\n",
      "Precision: 0.4794, Recall: 0.2739, Revenue: 0.3047\n",
      "Checking top 10% suspicious transactions: 13446\n",
      "Precision: 0.3371, Recall: 0.3853, Revenue: 0.4034\n"
     ]
    },
    {
     "data": {
      "application/vnd.jupyter.widget-view+json": {
       "model_id": "",
       "version_major": 2,
       "version_minor": 0
      },
      "text/plain": [
       "HBox(children=(HTML(value='Validating'), FloatProgress(value=1.0, bar_style='info', layout=Layout(flex='2'), m…"
      ]
     },
     "metadata": {},
     "output_type": "display_data"
    },
    {
     "name": "stdout",
     "output_type": "stream",
     "text": [
      "Checking top 1% suspicious transactions: 1345\n",
      "Precision: 0.7383, Recall: 0.0844, Revenue: 0.0877\n",
      "Checking top 2% suspicious transactions: 2690\n",
      "Precision: 0.6312, Recall: 0.1443, Revenue: 0.1461\n",
      "Checking top 5% suspicious transactions: 6720\n",
      "Precision: 0.4914, Recall: 0.2807, Revenue: 0.3143\n",
      "Checking top 10% suspicious transactions: 13446\n",
      "Precision: 0.3417, Recall: 0.3906, Revenue: 0.4211\n"
     ]
    },
    {
     "data": {
      "application/vnd.jupyter.widget-view+json": {
       "model_id": "",
       "version_major": 2,
       "version_minor": 0
      },
      "text/plain": [
       "HBox(children=(HTML(value='Validating'), FloatProgress(value=1.0, bar_style='info', layout=Layout(flex='2'), m…"
      ]
     },
     "metadata": {},
     "output_type": "display_data"
    },
    {
     "name": "stdout",
     "output_type": "stream",
     "text": [
      "Checking top 1% suspicious transactions: 1345\n",
      "Precision: 0.7569, Recall: 0.0865, Revenue: 0.0853\n",
      "Checking top 2% suspicious transactions: 2690\n",
      "Precision: 0.6312, Recall: 0.1443, Revenue: 0.1363\n",
      "Checking top 5% suspicious transactions: 6723\n",
      "Precision: 0.4795, Recall: 0.2740, Revenue: 0.2932\n",
      "Checking top 10% suspicious transactions: 13446\n",
      "Precision: 0.3397, Recall: 0.3882, Revenue: 0.4082\n"
     ]
    },
    {
     "data": {
      "application/vnd.jupyter.widget-view+json": {
       "model_id": "",
       "version_major": 2,
       "version_minor": 0
      },
      "text/plain": [
       "HBox(children=(HTML(value='Validating'), FloatProgress(value=1.0, bar_style='info', layout=Layout(flex='2'), m…"
      ]
     },
     "metadata": {},
     "output_type": "display_data"
    },
    {
     "name": "stdout",
     "output_type": "stream",
     "text": [
      "Checking top 1% suspicious transactions: 1345\n",
      "Precision: 0.6840, Recall: 0.0782, Revenue: 0.0828\n",
      "Checking top 2% suspicious transactions: 2690\n",
      "Precision: 0.5989, Recall: 0.1369, Revenue: 0.1321\n",
      "Checking top 5% suspicious transactions: 6723\n",
      "Precision: 0.4743, Recall: 0.2711, Revenue: 0.2971\n",
      "Checking top 10% suspicious transactions: 13446\n",
      "Precision: 0.3311, Recall: 0.3784, Revenue: 0.4118\n"
     ]
    },
    {
     "data": {
      "application/vnd.jupyter.widget-view+json": {
       "model_id": "",
       "version_major": 2,
       "version_minor": 0
      },
      "text/plain": [
       "HBox(children=(HTML(value='Validating'), FloatProgress(value=1.0, bar_style='info', layout=Layout(flex='2'), m…"
      ]
     },
     "metadata": {},
     "output_type": "display_data"
    },
    {
     "name": "stdout",
     "output_type": "stream",
     "text": [
      "Checking top 1% suspicious transactions: 1345\n",
      "Precision: 0.6996, Recall: 0.0800, Revenue: 0.0895\n",
      "Checking top 2% suspicious transactions: 2690\n",
      "Precision: 0.6037, Recall: 0.1380, Revenue: 0.1436\n",
      "Checking top 5% suspicious transactions: 6723\n",
      "Precision: 0.4836, Recall: 0.2763, Revenue: 0.3100\n",
      "Checking top 10% suspicious transactions: 13446\n",
      "Precision: 0.3390, Recall: 0.3874, Revenue: 0.4163\n"
     ]
    },
    {
     "data": {
      "application/vnd.jupyter.widget-view+json": {
       "model_id": "",
       "version_major": 2,
       "version_minor": 0
      },
      "text/plain": [
       "HBox(children=(HTML(value='Validating'), FloatProgress(value=1.0, bar_style='info', layout=Layout(flex='2'), m…"
      ]
     },
     "metadata": {},
     "output_type": "display_data"
    },
    {
     "name": "stdout",
     "output_type": "stream",
     "text": [
      "Checking top 1% suspicious transactions: 1345\n",
      "Precision: 0.6967, Recall: 0.0796, Revenue: 0.0832\n",
      "Checking top 2% suspicious transactions: 2690\n",
      "Precision: 0.6011, Recall: 0.1374, Revenue: 0.1434\n",
      "Checking top 5% suspicious transactions: 6723\n",
      "Precision: 0.4821, Recall: 0.2755, Revenue: 0.2988\n",
      "Checking top 10% suspicious transactions: 13446\n",
      "Precision: 0.3417, Recall: 0.3905, Revenue: 0.4145\n"
     ]
    },
    {
     "data": {
      "application/vnd.jupyter.widget-view+json": {
       "model_id": "",
       "version_major": 2,
       "version_minor": 0
      },
      "text/plain": [
       "HBox(children=(HTML(value='Validating'), FloatProgress(value=1.0, bar_style='info', layout=Layout(flex='2'), m…"
      ]
     },
     "metadata": {},
     "output_type": "display_data"
    },
    {
     "name": "stdout",
     "output_type": "stream",
     "text": [
      "Checking top 1% suspicious transactions: 1345\n",
      "Precision: 0.6974, Recall: 0.0797, Revenue: 0.0858\n",
      "Checking top 2% suspicious transactions: 2690\n",
      "Precision: 0.6145, Recall: 0.1405, Revenue: 0.1430\n",
      "Checking top 5% suspicious transactions: 6723\n",
      "Precision: 0.4971, Recall: 0.2841, Revenue: 0.3239\n",
      "Checking top 10% suspicious transactions: 13446\n",
      "Precision: 0.3452, Recall: 0.3945, Revenue: 0.4180\n"
     ]
    },
    {
     "data": {
      "application/vnd.jupyter.widget-view+json": {
       "model_id": "",
       "version_major": 2,
       "version_minor": 0
      },
      "text/plain": [
       "HBox(children=(HTML(value='Validating'), FloatProgress(value=1.0, bar_style='info', layout=Layout(flex='2'), m…"
      ]
     },
     "metadata": {},
     "output_type": "display_data"
    },
    {
     "name": "stdout",
     "output_type": "stream",
     "text": [
      "Checking top 1% suspicious transactions: 1345\n",
      "Precision: 0.7517, Recall: 0.0859, Revenue: 0.0973\n",
      "Checking top 2% suspicious transactions: 2690\n",
      "Precision: 0.6409, Recall: 0.1465, Revenue: 0.1663\n",
      "Checking top 5% suspicious transactions: 6723\n",
      "Precision: 0.4788, Recall: 0.2736, Revenue: 0.3176\n",
      "Checking top 10% suspicious transactions: 13446\n",
      "Precision: 0.3383, Recall: 0.3867, Revenue: 0.4135\n"
     ]
    },
    {
     "data": {
      "application/vnd.jupyter.widget-view+json": {
       "model_id": "",
       "version_major": 2,
       "version_minor": 0
      },
      "text/plain": [
       "HBox(children=(HTML(value='Validating'), FloatProgress(value=1.0, bar_style='info', layout=Layout(flex='2'), m…"
      ]
     },
     "metadata": {},
     "output_type": "display_data"
    },
    {
     "name": "stdout",
     "output_type": "stream",
     "text": [
      "Checking top 1% suspicious transactions: 1345\n",
      "Precision: 0.6944, Recall: 0.0794, Revenue: 0.0878\n",
      "Checking top 2% suspicious transactions: 2690\n",
      "Precision: 0.6112, Recall: 0.1397, Revenue: 0.1537\n",
      "Checking top 5% suspicious transactions: 6723\n",
      "Precision: 0.4784, Recall: 0.2734, Revenue: 0.3131\n",
      "Checking top 10% suspicious transactions: 13446\n",
      "Precision: 0.3338, Recall: 0.3815, Revenue: 0.4153\n"
     ]
    },
    {
     "data": {
      "application/vnd.jupyter.widget-view+json": {
       "model_id": "",
       "version_major": 2,
       "version_minor": 0
      },
      "text/plain": [
       "HBox(children=(HTML(value='Validating'), FloatProgress(value=1.0, bar_style='info', layout=Layout(flex='2'), m…"
      ]
     },
     "metadata": {},
     "output_type": "display_data"
    },
    {
     "name": "stdout",
     "output_type": "stream",
     "text": [
      "Checking top 1% suspicious transactions: 1345\n",
      "Precision: 0.7063, Recall: 0.0807, Revenue: 0.0945\n",
      "Checking top 2% suspicious transactions: 2690\n",
      "Precision: 0.6275, Recall: 0.1435, Revenue: 0.1559\n",
      "Checking top 5% suspicious transactions: 6723\n",
      "Precision: 0.4746, Recall: 0.2712, Revenue: 0.3186\n",
      "Checking top 10% suspicious transactions: 13446\n",
      "Precision: 0.3362, Recall: 0.3843, Revenue: 0.4274\n"
     ]
    },
    {
     "data": {
      "application/vnd.jupyter.widget-view+json": {
       "model_id": "",
       "version_major": 2,
       "version_minor": 0
      },
      "text/plain": [
       "HBox(children=(HTML(value='Validating'), FloatProgress(value=1.0, bar_style='info', layout=Layout(flex='2'), m…"
      ]
     },
     "metadata": {},
     "output_type": "display_data"
    },
    {
     "name": "stdout",
     "output_type": "stream",
     "text": [
      "Checking top 1% suspicious transactions: 1345\n",
      "Precision: 0.7457, Recall: 0.0853, Revenue: 0.0971\n",
      "Checking top 2% suspicious transactions: 2690\n",
      "Precision: 0.6446, Recall: 0.1474, Revenue: 0.1605\n",
      "Checking top 5% suspicious transactions: 6723\n",
      "Precision: 0.4922, Recall: 0.2813, Revenue: 0.3467\n",
      "Checking top 10% suspicious transactions: 13446\n",
      "Precision: 0.3386, Recall: 0.3870, Revenue: 0.4393\n"
     ]
    },
    {
     "data": {
      "application/vnd.jupyter.widget-view+json": {
       "model_id": "",
       "version_major": 2,
       "version_minor": 0
      },
      "text/plain": [
       "HBox(children=(HTML(value='Validating'), FloatProgress(value=1.0, bar_style='info', layout=Layout(flex='2'), m…"
      ]
     },
     "metadata": {},
     "output_type": "display_data"
    },
    {
     "name": "stdout",
     "output_type": "stream",
     "text": [
      "Checking top 1% suspicious transactions: 1345\n",
      "Precision: 0.6625, Recall: 0.0757, Revenue: 0.0857\n",
      "Checking top 2% suspicious transactions: 2690\n",
      "Precision: 0.6045, Recall: 0.1382, Revenue: 0.1558\n",
      "Checking top 5% suspicious transactions: 6723\n",
      "Precision: 0.4788, Recall: 0.2736, Revenue: 0.3280\n",
      "Checking top 10% suspicious transactions: 13446\n",
      "Precision: 0.3400, Recall: 0.3886, Revenue: 0.4220\n"
     ]
    },
    {
     "data": {
      "application/vnd.jupyter.widget-view+json": {
       "model_id": "",
       "version_major": 2,
       "version_minor": 0
      },
      "text/plain": [
       "HBox(children=(HTML(value='Validating'), FloatProgress(value=1.0, bar_style='info', layout=Layout(flex='2'), m…"
      ]
     },
     "metadata": {},
     "output_type": "display_data"
    },
    {
     "name": "stdout",
     "output_type": "stream",
     "text": [
      "Checking top 1% suspicious transactions: 1345\n",
      "Precision: 0.7004, Recall: 0.0801, Revenue: 0.0938\n",
      "Checking top 2% suspicious transactions: 2690\n",
      "Precision: 0.6089, Recall: 0.1392, Revenue: 0.1531\n",
      "Checking top 5% suspicious transactions: 6723\n",
      "Precision: 0.4819, Recall: 0.2754, Revenue: 0.3270\n",
      "Checking top 10% suspicious transactions: 13446\n",
      "Precision: 0.3429, Recall: 0.3918, Revenue: 0.4240\n"
     ]
    },
    {
     "data": {
      "application/vnd.jupyter.widget-view+json": {
       "model_id": "",
       "version_major": 2,
       "version_minor": 0
      },
      "text/plain": [
       "HBox(children=(HTML(value='Validating'), FloatProgress(value=1.0, bar_style='info', layout=Layout(flex='2'), m…"
      ]
     },
     "metadata": {},
     "output_type": "display_data"
    },
    {
     "name": "stdout",
     "output_type": "stream",
     "text": [
      "Checking top 1% suspicious transactions: 1345\n",
      "Precision: 0.7747, Recall: 0.0886, Revenue: 0.1175\n",
      "Checking top 2% suspicious transactions: 2690\n",
      "Precision: 0.6335, Recall: 0.1448, Revenue: 0.1632\n",
      "Checking top 5% suspicious transactions: 6723\n",
      "Precision: 0.4681, Recall: 0.2675, Revenue: 0.3089\n",
      "Checking top 10% suspicious transactions: 13446\n",
      "Precision: 0.3282, Recall: 0.3751, Revenue: 0.4229\n"
     ]
    },
    {
     "data": {
      "application/vnd.jupyter.widget-view+json": {
       "model_id": "",
       "version_major": 2,
       "version_minor": 0
      },
      "text/plain": [
       "HBox(children=(HTML(value='Validating'), FloatProgress(value=1.0, bar_style='info', layout=Layout(flex='2'), m…"
      ]
     },
     "metadata": {},
     "output_type": "display_data"
    },
    {
     "name": "stdout",
     "output_type": "stream",
     "text": [
      "Checking top 1% suspicious transactions: 1345\n",
      "Precision: 0.6848, Recall: 0.0783, Revenue: 0.0997\n",
      "Checking top 2% suspicious transactions: 2690\n",
      "Precision: 0.6004, Recall: 0.1373, Revenue: 0.1541\n",
      "Checking top 5% suspicious transactions: 6723\n",
      "Precision: 0.4641, Recall: 0.2652, Revenue: 0.3193\n",
      "Checking top 10% suspicious transactions: 13446\n",
      "Precision: 0.3334, Recall: 0.3810, Revenue: 0.4137\n"
     ]
    },
    {
     "data": {
      "application/vnd.jupyter.widget-view+json": {
       "model_id": "",
       "version_major": 2,
       "version_minor": 0
      },
      "text/plain": [
       "HBox(children=(HTML(value='Validating'), FloatProgress(value=1.0, bar_style='info', layout=Layout(flex='2'), m…"
      ]
     },
     "metadata": {},
     "output_type": "display_data"
    },
    {
     "name": "stdout",
     "output_type": "stream",
     "text": [
      "Checking top 1% suspicious transactions: 1345\n",
      "Precision: 0.6766, Recall: 0.0773, Revenue: 0.1079\n",
      "Checking top 2% suspicious transactions: 2690\n",
      "Precision: 0.6059, Recall: 0.1385, Revenue: 0.1591\n",
      "Checking top 5% suspicious transactions: 6723\n",
      "Precision: 0.4760, Recall: 0.2720, Revenue: 0.3191\n",
      "Checking top 10% suspicious transactions: 13446\n",
      "Precision: 0.3318, Recall: 0.3792, Revenue: 0.4184\n"
     ]
    },
    {
     "data": {
      "application/vnd.jupyter.widget-view+json": {
       "model_id": "",
       "version_major": 2,
       "version_minor": 0
      },
      "text/plain": [
       "HBox(children=(HTML(value='Validating'), FloatProgress(value=1.0, bar_style='info', layout=Layout(flex='2'), m…"
      ]
     },
     "metadata": {},
     "output_type": "display_data"
    },
    {
     "name": "stdout",
     "output_type": "stream",
     "text": [
      "Checking top 1% suspicious transactions: 1345\n",
      "Precision: 0.7234, Recall: 0.0827, Revenue: 0.1098\n",
      "Checking top 2% suspicious transactions: 2690\n",
      "Precision: 0.5989, Recall: 0.1369, Revenue: 0.1578\n",
      "Checking top 5% suspicious transactions: 6723\n",
      "Precision: 0.4581, Recall: 0.2618, Revenue: 0.3077\n",
      "Checking top 10% suspicious transactions: 13446\n",
      "Precision: 0.3308, Recall: 0.3781, Revenue: 0.4108\n"
     ]
    },
    {
     "data": {
      "application/vnd.jupyter.widget-view+json": {
       "model_id": "",
       "version_major": 2,
       "version_minor": 0
      },
      "text/plain": [
       "HBox(children=(HTML(value='Validating'), FloatProgress(value=1.0, bar_style='info', layout=Layout(flex='2'), m…"
      ]
     },
     "metadata": {},
     "output_type": "display_data"
    },
    {
     "name": "stdout",
     "output_type": "stream",
     "text": [
      "Checking top 1% suspicious transactions: 1345\n",
      "Precision: 0.6900, Recall: 0.0789, Revenue: 0.1080\n",
      "Checking top 2% suspicious transactions: 2690\n",
      "Precision: 0.6048, Recall: 0.1383, Revenue: 0.1711\n",
      "Checking top 5% suspicious transactions: 6723\n",
      "Precision: 0.4754, Recall: 0.2717, Revenue: 0.3218\n",
      "Checking top 10% suspicious transactions: 13446\n",
      "Precision: 0.3350, Recall: 0.3828, Revenue: 0.4217\n"
     ]
    },
    {
     "data": {
      "application/vnd.jupyter.widget-view+json": {
       "model_id": "",
       "version_major": 2,
       "version_minor": 0
      },
      "text/plain": [
       "HBox(children=(HTML(value='Validating'), FloatProgress(value=1.0, bar_style='info', layout=Layout(flex='2'), m…"
      ]
     },
     "metadata": {},
     "output_type": "display_data"
    },
    {
     "name": "stdout",
     "output_type": "stream",
     "text": [
      "Checking top 1% suspicious transactions: 1345\n",
      "Precision: 0.7078, Recall: 0.0809, Revenue: 0.1022\n",
      "Checking top 2% suspicious transactions: 2690\n",
      "Precision: 0.6167, Recall: 0.1410, Revenue: 0.1788\n",
      "Checking top 5% suspicious transactions: 6723\n",
      "Precision: 0.4764, Recall: 0.2722, Revenue: 0.3406\n",
      "Checking top 10% suspicious transactions: 13446\n",
      "Precision: 0.3323, Recall: 0.3798, Revenue: 0.4260\n"
     ]
    },
    {
     "data": {
      "application/vnd.jupyter.widget-view+json": {
       "model_id": "",
       "version_major": 2,
       "version_minor": 0
      },
      "text/plain": [
       "HBox(children=(HTML(value='Validating'), FloatProgress(value=1.0, bar_style='info', layout=Layout(flex='2'), m…"
      ]
     },
     "metadata": {},
     "output_type": "display_data"
    },
    {
     "name": "stdout",
     "output_type": "stream",
     "text": [
      "Checking top 1% suspicious transactions: 1345\n",
      "Precision: 0.7301, Recall: 0.0835, Revenue: 0.1093\n",
      "Checking top 2% suspicious transactions: 2690\n",
      "Precision: 0.6257, Recall: 0.1431, Revenue: 0.1623\n",
      "Checking top 5% suspicious transactions: 6723\n",
      "Precision: 0.4684, Recall: 0.2677, Revenue: 0.3120\n",
      "Checking top 10% suspicious transactions: 13446\n",
      "Precision: 0.3389, Recall: 0.3873, Revenue: 0.4249\n"
     ]
    },
    {
     "data": {
      "application/vnd.jupyter.widget-view+json": {
       "model_id": "",
       "version_major": 2,
       "version_minor": 0
      },
      "text/plain": [
       "HBox(children=(HTML(value='Validating'), FloatProgress(value=1.0, bar_style='info', layout=Layout(flex='2'), m…"
      ]
     },
     "metadata": {},
     "output_type": "display_data"
    },
    {
     "name": "stdout",
     "output_type": "stream",
     "text": [
      "Checking top 1% suspicious transactions: 1345\n",
      "Precision: 0.6900, Recall: 0.0789, Revenue: 0.1075\n",
      "Checking top 2% suspicious transactions: 2690\n",
      "Precision: 0.6059, Recall: 0.1385, Revenue: 0.1628\n",
      "Checking top 5% suspicious transactions: 6723\n",
      "Precision: 0.4672, Recall: 0.2670, Revenue: 0.3138\n",
      "Checking top 10% suspicious transactions: 13446\n",
      "Precision: 0.3387, Recall: 0.3871, Revenue: 0.4196\n"
     ]
    },
    {
     "data": {
      "application/vnd.jupyter.widget-view+json": {
       "model_id": "",
       "version_major": 2,
       "version_minor": 0
      },
      "text/plain": [
       "HBox(children=(HTML(value='Validating'), FloatProgress(value=1.0, bar_style='info', layout=Layout(flex='2'), m…"
      ]
     },
     "metadata": {},
     "output_type": "display_data"
    },
    {
     "name": "stdout",
     "output_type": "stream",
     "text": [
      "Checking top 1% suspicious transactions: 1345\n",
      "Precision: 0.6186, Recall: 0.0707, Revenue: 0.0965\n",
      "Checking top 2% suspicious transactions: 2690\n",
      "Precision: 0.5755, Recall: 0.1316, Revenue: 0.1506\n",
      "Checking top 5% suspicious transactions: 6723\n",
      "Precision: 0.4647, Recall: 0.2655, Revenue: 0.3095\n",
      "Checking top 10% suspicious transactions: 13446\n",
      "Precision: 0.3304, Recall: 0.3776, Revenue: 0.4194\n"
     ]
    },
    {
     "data": {
      "application/vnd.jupyter.widget-view+json": {
       "model_id": "",
       "version_major": 2,
       "version_minor": 0
      },
      "text/plain": [
       "HBox(children=(HTML(value='Validating'), FloatProgress(value=1.0, bar_style='info', layout=Layout(flex='2'), m…"
      ]
     },
     "metadata": {},
     "output_type": "display_data"
    },
    {
     "name": "stdout",
     "output_type": "stream",
     "text": [
      "Checking top 1% suspicious transactions: 1345\n",
      "Precision: 0.7011, Recall: 0.0802, Revenue: 0.1079\n",
      "Checking top 2% suspicious transactions: 2690\n",
      "Precision: 0.6186, Recall: 0.1414, Revenue: 0.1672\n",
      "Checking top 5% suspicious transactions: 6723\n",
      "Precision: 0.4639, Recall: 0.2651, Revenue: 0.3172\n",
      "Checking top 10% suspicious transactions: 13446\n",
      "Precision: 0.3360, Recall: 0.3840, Revenue: 0.4222\n"
     ]
    },
    {
     "data": {
      "application/vnd.jupyter.widget-view+json": {
       "model_id": "",
       "version_major": 2,
       "version_minor": 0
      },
      "text/plain": [
       "HBox(children=(HTML(value='Validating'), FloatProgress(value=1.0, bar_style='info', layout=Layout(flex='2'), m…"
      ]
     },
     "metadata": {},
     "output_type": "display_data"
    },
    {
     "name": "stdout",
     "output_type": "stream",
     "text": [
      "Checking top 1% suspicious transactions: 1345\n",
      "Precision: 0.7026, Recall: 0.0803, Revenue: 0.1068\n",
      "Checking top 2% suspicious transactions: 2690\n",
      "Precision: 0.6093, Recall: 0.1393, Revenue: 0.1608\n",
      "Checking top 5% suspicious transactions: 6723\n",
      "Precision: 0.4674, Recall: 0.2671, Revenue: 0.3204\n",
      "Checking top 10% suspicious transactions: 13446\n",
      "Precision: 0.3365, Recall: 0.3846, Revenue: 0.4119\n"
     ]
    }
   ],
   "source": [
    "# model config\n",
    "seed_everything(1324)\n",
    "input_dim = gdata.leaf_dim\n",
    "hidden_size = 32\n",
    "sizes = [-1,200]\n",
    "numLayers = len(sizes)\n",
    "batch_size = 512\n",
    "pretrain_path = \"./saved_model/pretrained.ckpt\"\n",
    "\n",
    "predictor = Predictor(input_dim, hidden_size, numLayers)\n",
    "predictor.loadGNN_state(model)\n",
    "# predictor.load_fromPretrain(pretrain_path)\n",
    "predictor.data = data\n",
    "\n",
    "# lightning config\n",
    "stacked_data = StackData(trainLab_data,unlab_data,valid_data, test_data)\n",
    "datamodule = CustomData(stacked_data, sizes = sizes, batch_size=batch_size)\n",
    "logger = TensorBoardLogger(\"ssl_exp\",name=\"Tdata\")\n",
    "logger.log_hyperparams(model.hparams, metrics={\"F1-top\":0})\n",
    "checkpoint_callback = ModelCheckpoint(\n",
    "    monitor='F1-top',    \n",
    "    dirpath='./saved_model',\n",
    "    filename='Analysis-Tdata5-{F1-top:.4f}',\n",
    "    save_top_k=1,\n",
    "    mode='max',\n",
    ")\n",
    "trainer = Trainer(gpus=[0], max_epochs=40,\n",
    "                 num_sanity_val_steps=0,\n",
    "                  check_val_every_n_epoch=1,\n",
    "                  callbacks=[checkpoint_callback],\n",
    "                 )\n",
    "trainer.fit(predictor, datamodule=datamodule)"
   ]
  },
  {
   "cell_type": "code",
   "execution_count": 25,
   "metadata": {
    "scrolled": true
   },
   "outputs": [
    {
     "data": {
      "application/vnd.jupyter.widget-view+json": {
       "model_id": "ba3ff05ff1014dd78ec65c77faf8ea5e",
       "version_major": 2,
       "version_minor": 0
      },
      "text/plain": [
       "HBox(children=(HTML(value='Testing'), FloatProgress(value=1.0, bar_style='info', layout=Layout(flex='2'), max=…"
      ]
     },
     "metadata": {},
     "output_type": "display_data"
    },
    {
     "name": "stdout",
     "output_type": "stream",
     "text": [
      "Checking top 1% suspicious transactions: 7031\n",
      "Precision: 0.8175, Recall: 0.0862, Revenue: 0.1513\n",
      "Checking top 2% suspicious transactions: 14062\n",
      "Precision: 0.7298, Recall: 0.1539, Revenue: 0.2582\n",
      "Checking top 5% suspicious transactions: 35155\n",
      "Precision: 0.5184, Recall: 0.2733, Revenue: 0.4318\n",
      "Checking top 10% suspicious transactions: 70309\n",
      "Precision: 0.3510, Recall: 0.3702, Revenue: 0.5326\n",
      "\n",
      "--------------------------------------------------------------------------------\n",
      "DATALOADER:0 TEST RESULTS\n",
      "{'F1-top': 0.2821087085208171,\n",
      " 'Test/F1@1': 0.15597313615087172,\n",
      " 'Test/F1@10': 0.36033668411408715,\n",
      " 'Test/F1@2': 0.25421125644074516,\n",
      " 'Test/F1@5': 0.3579137573775643,\n",
      " 'Test/Pr@1': 0.8175224007964728,\n",
      " 'Test/Pr@10': 0.35102191753545064,\n",
      " 'Test/Pr@2': 0.7297681695349167,\n",
      " 'Test/Pr@5': 0.5183615417437064,\n",
      " 'Test/Re@1': 0.08621051684314725,\n",
      " 'Test/Re@10': 0.3701592824789273,\n",
      " 'Test/Re@2': 0.15391306956234815,\n",
      " 'Test/Re@5': 0.2733149353571107,\n",
      " 'Test/Rev@1': 0.15128984825490807,\n",
      " 'Test/Rev@10': 0.5325944658083146,\n",
      " 'Test/Rev@2': 0.2581825200543137,\n",
      " 'Test/Rev@5': 0.4317528452617966,\n",
      " 'Val/F1-top': 0.26713715287047246,\n",
      " 'Val/F1@1': 0.147673531655225,\n",
      " 'Val/F1@10': 0.3514338979017096,\n",
      " 'Val/F1@2': 0.2285714285714286,\n",
      " 'Val/F1@5': 0.3408697533535266,\n",
      " 'Val/Pr@1': 0.7197026022304833,\n",
      " 'Val/Pr@10': 0.3294660121969359,\n",
      " 'Val/Pr@2': 0.6141263940520446,\n",
      " 'Val/Pr@5': 0.4686895731072438,\n",
      " 'Val/Re@1': 0.08227794305142372,\n",
      " 'Val/Re@10': 0.3765405864853379,\n",
      " 'Val/Re@2': 0.14041648958776032,\n",
      " 'Val/Re@5': 0.2678283042923927,\n",
      " 'Val/Rev@1': 0.11586621962382296,\n",
      " 'Val/Rev@10': 0.40749603087728126,\n",
      " 'Val/Rev@2': 0.1882495897078097,\n",
      " 'Val/Rev@5': 0.31872473064183954,\n",
      " 'val_loss': tensor(0.3130, device='cuda:0'),\n",
      " 'val_loss_epoch': tensor(0.3281, device='cuda:0')}\n",
      "--------------------------------------------------------------------------------\n"
     ]
    },
    {
     "data": {
      "text/plain": [
       "[{'Test/F1@1': 0.15597313615087172,\n",
       "  'Test/F1@2': 0.25421125644074516,\n",
       "  'Test/F1@5': 0.3579137573775643,\n",
       "  'Test/F1@10': 0.36033668411408715,\n",
       "  'Test/Pr@1': 0.8175224007964728,\n",
       "  'Test/Pr@2': 0.7297681695349167,\n",
       "  'Test/Pr@5': 0.5183615417437064,\n",
       "  'Test/Pr@10': 0.35102191753545064,\n",
       "  'Test/Re@1': 0.08621051684314725,\n",
       "  'Test/Re@2': 0.15391306956234815,\n",
       "  'Test/Re@5': 0.2733149353571107,\n",
       "  'Test/Re@10': 0.3701592824789273,\n",
       "  'Test/Rev@1': 0.15128984825490807,\n",
       "  'Test/Rev@2': 0.2581825200543137,\n",
       "  'Test/Rev@5': 0.4317528452617966,\n",
       "  'Test/Rev@10': 0.5325944658083146,\n",
       "  'F1-top': 0.2821087085208171,\n",
       "  'val_loss_epoch': 0.3280564844608307,\n",
       "  'val_loss': 0.31299495697021484,\n",
       "  'Val/F1-top': 0.26713715287047246,\n",
       "  'Val/F1@1': 0.147673531655225,\n",
       "  'Val/F1@2': 0.2285714285714286,\n",
       "  'Val/F1@5': 0.3408697533535266,\n",
       "  'Val/F1@10': 0.3514338979017096,\n",
       "  'Val/Pr@1': 0.7197026022304833,\n",
       "  'Val/Pr@2': 0.6141263940520446,\n",
       "  'Val/Pr@5': 0.4686895731072438,\n",
       "  'Val/Pr@10': 0.3294660121969359,\n",
       "  'Val/Re@1': 0.08227794305142372,\n",
       "  'Val/Re@2': 0.14041648958776032,\n",
       "  'Val/Re@5': 0.2678283042923927,\n",
       "  'Val/Re@10': 0.3765405864853379,\n",
       "  'Val/Rev@1': 0.11586621962382296,\n",
       "  'Val/Rev@2': 0.1882495897078097,\n",
       "  'Val/Rev@5': 0.31872473064183954,\n",
       "  'Val/Rev@10': 0.40749603087728126}]"
      ]
     },
     "execution_count": 25,
     "metadata": {},
     "output_type": "execute_result"
    }
   ],
   "source": [
    "trainer.test()"
   ]
  },
  {
   "cell_type": "code",
   "execution_count": null,
   "metadata": {},
   "outputs": [],
   "source": []
  }
 ],
 "metadata": {
  "kernelspec": {
   "display_name": "Python 3",
   "language": "python",
   "name": "python3"
  },
  "language_info": {
   "codemirror_mode": {
    "name": "ipython",
    "version": 3
   },
   "file_extension": ".py",
   "mimetype": "text/x-python",
   "name": "python",
   "nbconvert_exporter": "python",
   "pygments_lexer": "ipython3",
   "version": "3.8.6"
  }
 },
 "nbformat": 4,
 "nbformat_minor": 4
}
