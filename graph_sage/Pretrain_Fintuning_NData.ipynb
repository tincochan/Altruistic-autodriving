{
 "cells": [
  {
   "cell_type": "code",
   "execution_count": 1,
   "metadata": {},
   "outputs": [],
   "source": [
    "import dataset\n",
    "import datetime\n",
    "from datetime import timedelta\n",
    "from parser import get_parser\n",
    "import numpy as np \n",
    "import pandas as pd \n",
    "import torch\n",
    "from pytorch_lightning import Trainer\n",
    "from torch_geometric.utils import to_undirected"
   ]
  },
  {
   "cell_type": "markdown",
   "metadata": {},
   "source": [
    "## Load data"
   ]
  },
  {
   "cell_type": "code",
   "execution_count": 2,
   "metadata": {},
   "outputs": [],
   "source": [
    "data = dataset.Ndata(path='../Custom-Semi-Supervised/data/ndata.csv')\n",
    "parser = get_parser()\n",
    "args = parser.parse_args(args=\n",
    "                         [\"--data\",\"real-n\", \n",
    "                          \"--sampling\",\"xgb\",\n",
    "                          \"--train_from\",\"20140101\",\n",
    "                          \"--test_from\",\"20170101\",\n",
    "                          \"--test_length\",\"365\",\n",
    "                          \"--valid_length\",\"90\",\n",
    "                          \"--initial_inspection_rate\", \"5\",\n",
    "                          \"--final_inspection_rate\", \"10\",\n",
    "                         ])"
   ]
  },
  {
   "cell_type": "code",
   "execution_count": 3,
   "metadata": {},
   "outputs": [
    {
     "name": "stdout",
     "output_type": "stream",
     "text": [
      "Data size:\n",
      "Train labeled: (54134, 52), Train unlabeled: (1028538, 52), Valid labeled: (70917, 52), Valid unlabeled: (0, 26), Test: (274808, 52)\n",
      "Checking label distribution\n",
      "Training: 0.05022795615481618\n",
      "Validation: 0.035556788645191434\n",
      "Testing: 0.025360899366070794\n"
     ]
    }
   ],
   "source": [
    "# args\n",
    "seed = args.seed\n",
    "epochs = args.epoch\n",
    "dim = args.dim\n",
    "lr = args.lr\n",
    "weight_decay = args.l2\n",
    "initial_inspection_rate = args.initial_inspection_rate\n",
    "inspection_rate_option = args.inspection_plan\n",
    "train_begin = args.train_from \n",
    "test_begin = args.test_from\n",
    "test_length = args.test_length\n",
    "valid_length = args.valid_length\n",
    "chosen_data = args.data\n",
    "numWeeks = args.numweeks\n",
    "semi_supervised = args.semi_supervised\n",
    "save = args.save\n",
    "gpu_id = args.device\n",
    "\n",
    "# Initial dataset split\n",
    "np.random.seed(seed)\n",
    "torch.manual_seed(seed)\n",
    "if torch.cuda.is_available():\n",
    "    torch.cuda.manual_seed(seed)\n",
    "\n",
    "# Initial dataset split\n",
    "train_start_day = datetime.date(int(train_begin[:4]), int(train_begin[4:6]), int(train_begin[6:8]))\n",
    "test_start_day = datetime.date(int(test_begin[:4]), int(test_begin[4:6]), int(test_begin[6:8]))\n",
    "test_length = timedelta(days=test_length)    \n",
    "test_end_day = test_start_day + test_length\n",
    "valid_length = timedelta(days=valid_length)\n",
    "valid_start_day = test_start_day - valid_length\n",
    "\n",
    "# data\n",
    "data.split(train_start_day, valid_start_day, test_start_day, test_end_day, valid_length, test_length, args)\n",
    "data.featureEngineering()"
   ]
  },
  {
   "cell_type": "markdown",
   "metadata": {},
   "source": [
    "## Prepare DATA"
   ]
  },
  {
   "cell_type": "code",
   "execution_count": 4,
   "metadata": {},
   "outputs": [],
   "source": [
    "from utils import *\n",
    "from pygData_util import *"
   ]
  },
  {
   "cell_type": "code",
   "execution_count": 5,
   "metadata": {},
   "outputs": [
    {
     "name": "stdout",
     "output_type": "stream",
     "text": [
      "Training XGBoost model...\n"
     ]
    }
   ],
   "source": [
    "categories=[\"importer.id\",\"HS6\"]\n",
    "gdata = GraphData(data,use_xgb=True, categories=categories, pos_weight = 50)"
   ]
  },
  {
   "cell_type": "code",
   "execution_count": 6,
   "metadata": {},
   "outputs": [
    {
     "name": "stdout",
     "output_type": "stream",
     "text": [
      "Checking top 1% suspicious transactions: 710\n",
      "Precision: 0.2915, Recall: 0.0850, Revenue: 0.0443\n",
      "Checking top 2% suspicious transactions: 1419\n",
      "Precision: 0.1677, Recall: 0.0977, Revenue: 0.0501\n",
      "Checking top 5% suspicious transactions: 3546\n",
      "Precision: 0.0832, Recall: 0.1211, Revenue: 0.0844\n",
      "Checking top 10% suspicious transactions: 7092\n",
      "Precision: 0.0495, Recall: 0.1441, Revenue: 0.1336\n",
      "--------------------------------------------------\n",
      "Checking top 1% suspicious transactions: 2749\n",
      "Precision: 0.1404, Recall: 0.0568, Revenue: 0.0942\n",
      "Checking top 2% suspicious transactions: 5497\n",
      "Precision: 0.0871, Recall: 0.0705, Revenue: 0.1269\n",
      "Checking top 5% suspicious transactions: 13741\n",
      "Precision: 0.0442, Recall: 0.0893, Revenue: 0.1859\n",
      "Checking top 10% suspicious transactions: 27481\n",
      "Precision: 0.0888, Recall: 0.3590, Revenue: 0.3713\n"
     ]
    }
   ],
   "source": [
    "best_thresh, best_auc = find_best_threshold(gdata.xgb,data.dfvalidx_lab, data.valid_cls_label)\n",
    "xgb_test_pred = gdata.xgb.predict_proba(data.dfvalidx_lab)[:,-1]\n",
    "overall_f1,auc,pr, re, f, rev = metrics(xgb_test_pred, data.valid_cls_label,data.valid_reg_label,best_thresh)\n",
    "print(\"-\"*50)\n",
    "xgb_test_pred = gdata.xgb.predict_proba(data.dftestx)[:,-1]\n",
    "overall_f1,auc,pr, re, f, rev = metrics(xgb_test_pred, data.test_cls_label,data.test_reg_label,best_thresh)"
   ]
  },
  {
   "cell_type": "code",
   "execution_count": 7,
   "metadata": {},
   "outputs": [],
   "source": [
    "stage = \"train_lab\"\n",
    "trainLab_data = gdata.get_data(stage)\n",
    "train_nodeidx = torch.tensor(gdata.get_AttNode(stage))\n",
    "trainLab_data.node_idx = train_nodeidx"
   ]
  },
  {
   "cell_type": "code",
   "execution_count": 8,
   "metadata": {},
   "outputs": [],
   "source": [
    "stage = \"train_unlab\"\n",
    "unlab_data = gdata.get_data(stage)\n",
    "unlab_nodeidx = torch.tensor(gdata.get_AttNode(stage))\n",
    "unlab_data.node_idx = unlab_nodeidx"
   ]
  },
  {
   "cell_type": "code",
   "execution_count": 9,
   "metadata": {},
   "outputs": [],
   "source": [
    "stage = \"valid\"\n",
    "valid_data = gdata.get_data(stage)\n",
    "valid_nodeidx = torch.tensor(gdata.get_AttNode(stage))\n",
    "valid_data.node_idx = valid_nodeidx"
   ]
  },
  {
   "cell_type": "code",
   "execution_count": 10,
   "metadata": {},
   "outputs": [],
   "source": [
    "stage = \"test\"\n",
    "test_data = gdata.get_data(stage)\n",
    "test_nodeidx = torch.tensor(gdata.get_AttNode(stage))\n",
    "test_data.node_idx = test_nodeidx"
   ]
  },
  {
   "cell_type": "code",
   "execution_count": 11,
   "metadata": {},
   "outputs": [],
   "source": [
    "stacked_data = StackData(trainLab_data,unlab_data,valid_data, test_data)"
   ]
  },
  {
   "cell_type": "markdown",
   "metadata": {},
   "source": [
    "## New Sampler"
   ]
  },
  {
   "cell_type": "code",
   "execution_count": 12,
   "metadata": {},
   "outputs": [],
   "source": [
    "from torch_cluster import random_walk\n",
    "from torch_geometric.data import NeighborSampler \n",
    "from pytorch_lightning import LightningDataModule"
   ]
  },
  {
   "cell_type": "code",
   "execution_count": 13,
   "metadata": {},
   "outputs": [],
   "source": [
    "class UnsupSampler(NeighborSampler):\n",
    "    def sample(self, batch):\n",
    "        batch = torch.tensor(batch)\n",
    "        row, col, _ = self.adj_t.coo()\n",
    "\n",
    "        # For each node in `batch`, we sample a direct neighbor (as positive\n",
    "        # example) and a random node (as negative example):\n",
    "        pos_batch = random_walk(row, col, batch, walk_length=1,\n",
    "                                coalesced=False)[:, 1]\n",
    "\n",
    "        neg_batch = torch.randint(0, self.adj_t.size(1), (batch.numel(), ),\n",
    "                                  dtype=torch.long)\n",
    "\n",
    "        batch = torch.cat([batch, pos_batch, neg_batch], dim=0)\n",
    "        return super(UnsupSampler, self).sample(batch)"
   ]
  },
  {
   "cell_type": "code",
   "execution_count": 14,
   "metadata": {},
   "outputs": [],
   "source": [
    "class Batch(NamedTuple):\n",
    "    '''\n",
    "    convert batch data for pytorch-lightning\n",
    "    '''\n",
    "    x: Tensor\n",
    "    y: Tensor\n",
    "    rev: Tensor\n",
    "    adjs_t: NamedTuple\n",
    "    def to(self, *args, **kwargs):\n",
    "        return Batch(\n",
    "            x=self.x.to(*args, **kwargs),\n",
    "            y=self.y.to(*args, **kwargs),\n",
    "            rev=self.rev.to(*args, **kwargs),\n",
    "            adjs_t=[(adj_t.to(*args, **kwargs), eid.to(*args, **kwargs), size) for adj_t, eid, size in self.adjs_t],\n",
    "        )\n"
   ]
  },
  {
   "cell_type": "code",
   "execution_count": 15,
   "metadata": {},
   "outputs": [],
   "source": [
    "class UnsupData(LightningDataModule):\n",
    "    def __init__(self,data,sizes, batch_size = 128):\n",
    "        '''\n",
    "        defining dataloader with NeighborSampler to extract k-hop subgraph.\n",
    "        Args:\n",
    "            data (Graphdata): graph data for the edges and node index\n",
    "            sizes ([int]): The number of neighbors to sample for each node in each layer. \n",
    "                           If set to :obj:`sizes[l] = -1`, all neighbors are included\n",
    "            batch_size (int): batch size for training\n",
    "        '''\n",
    "        super(UnsupData,self).__init__()\n",
    "        self.data = data\n",
    "        self.sizes = sizes\n",
    "        self.valid_sizes = [-1 for i in self.sizes]\n",
    "        self.batch_size = batch_size\n",
    "\n",
    "    def train_dataloader(self):\n",
    "        return UnsupSampler(self.data.train_edge, sizes=self.sizes,\n",
    "                               batch_size=self.batch_size,transform=self.convert_batch,\n",
    "                               shuffle=True,num_workers=8)\n",
    "    \n",
    "    def test_dataloader(self):\n",
    "        return UnsupSampler(self.data.test_edge, sizes=self.sizes,node_idx=self.data.test_idx,\n",
    "                               batch_size=self.batch_size,transform=self.convert_batch,\n",
    "                               shuffle=False,num_workers=8)\n",
    "    \n",
    "    def label_loader(self):\n",
    "        return UnsupSampler(self.data.test_edge, sizes=self.sizes,node_idx=self.data.train_idx,\n",
    "                               batch_size=self.batch_size,transform=self.convert_batch,\n",
    "                               shuffle=False,num_workers=8)\n",
    "\n",
    "    def convert_batch(self, batch_size, n_id, adjs):\n",
    "        return Batch(\n",
    "            x=self.data.x[n_id],\n",
    "            y=self.data.y[n_id[:batch_size]],\n",
    "            rev = self.data.rev[n_id[:batch_size]],\n",
    "            adjs_t=adjs,\n",
    "        )"
   ]
  },
  {
   "cell_type": "markdown",
   "metadata": {},
   "source": [
    "## Model"
   ]
  },
  {
   "cell_type": "code",
   "execution_count": 16,
   "metadata": {},
   "outputs": [],
   "source": [
    "from models import MLP, GNNStack, UselessConv, Mish"
   ]
  },
  {
   "cell_type": "code",
   "execution_count": 17,
   "metadata": {},
   "outputs": [],
   "source": [
    "from pytorch_lightning.callbacks import ModelCheckpoint, EarlyStopping\n",
    "from pytorch_lightning import LightningModule, seed_everything\n",
    "from torchtools.optim import RangerLars\n",
    "from pytorch_lightning.loggers import TensorBoardLogger\n",
    "import torch\n",
    "import torch.nn as nn\n",
    "import torch.nn.functional as F"
   ]
  },
  {
   "cell_type": "code",
   "execution_count": 18,
   "metadata": {},
   "outputs": [],
   "source": [
    "class PretrainGNN(LightningModule):\n",
    "    def __init__(self,input_dim, hidden_dim, numLayers, useXGB=True):\n",
    "        super().__init__()\n",
    "        self.save_hyperparameters()\n",
    "        self.input_dim = input_dim\n",
    "        self.dim = hidden_dim*2\n",
    "        self.numLayers = numLayers\n",
    "        self.layers = [self.dim, self.dim//2] #* (numLayers+1)\n",
    "        self.bn = nn.BatchNorm1d(self.dim)\n",
    "        self.act = Mish()\n",
    "        self.useXGB = useXGB\n",
    "        \n",
    "        # GNN layer\n",
    "        if self.useXGB:\n",
    "            self.initEmbedding = nn.Embedding(self.input_dim, self.dim, padding_idx=0)\n",
    "        else:\n",
    "            self.initEmbedding = MLP(self.input_dim, self.dim, Numlayer=2)\n",
    "        self.initGNN = UselessConv()\n",
    "        self.GNNs = GNNStack(self.layers,self.numLayers)\n",
    "\n",
    "    def forward(self, x,adjs):\n",
    "        # update node embedding\n",
    "        leaf_emb = self.initEmbedding(x)\n",
    "        if self.useXGB:\n",
    "            leaf_emb = torch.sum(leaf_emb,dim=1) # summation over the trees\n",
    "            leaf_emb = self.bn(leaf_emb)\n",
    "            leaf_emb = self.act(leaf_emb)\n",
    "        \n",
    "        # first update \n",
    "        firstHop_neighbor = adjs[-1][0]\n",
    "        leaf_emb = self.initGNN(leaf_emb,to_undirected(firstHop_neighbor))\n",
    "        \n",
    "        # GNN \n",
    "        embeddings = self.GNNs(leaf_emb, adjs)\n",
    "        \n",
    "        return embeddings[-1]\n",
    "    \n",
    "    def training_step(self, batch, batch_idx: int):\n",
    "        out = self(batch.x, batch.adjs_t)\n",
    "        out, pos_out, neg_out = out.split(out.size(0) // 3, dim=0)\n",
    "        pos_loss = F.logsigmoid((out * pos_out).sum(-1)).mean()\n",
    "        neg_loss = F.logsigmoid(-(out * neg_out).sum(-1)).mean()\n",
    "        train_loss = -pos_loss - neg_loss\n",
    "        self.log('train_loss', train_loss)\n",
    "        return train_loss\n",
    "    \n",
    "    def test_step(self, batch, batch_idx: int):\n",
    "        out = self(batch.x, batch.adjs_t)\n",
    "        out, pos_out, neg_out = out.split(out.size(0) // 3, dim=0)\n",
    "        return out\n",
    "    \n",
    "    def test_epoch_end(self, val_step_outputs):\n",
    "        val_step_outputs = torch.cat(val_step_outputs)\n",
    "        val_step_outputs = val_step_outputs.cpu().detach().numpy()\n",
    "        return {\"log\":{\"predictions\":val_step_outputs}}\n",
    "    \n",
    "    def configure_optimizers(self):\n",
    "        optimizer = RangerLars(self.parameters(), lr=0.01, weight_decay=0.0001)\n",
    "        scheduler = torch.optim.lr_scheduler.ExponentialLR(optimizer,gamma=0.8)\n",
    "        return [optimizer], [scheduler]"
   ]
  },
  {
   "cell_type": "code",
   "execution_count": 19,
   "metadata": {
    "scrolled": false
   },
   "outputs": [
    {
     "name": "stderr",
     "output_type": "stream",
     "text": [
      "GPU available: True, used: True\n",
      "TPU available: None, using: 0 TPU cores\n",
      "LOCAL_RANK: 0 - CUDA_VISIBLE_DEVICES: [0,1,2,3]\n",
      "\n",
      "  | Name          | Type        | Params\n",
      "----------------------------------------------\n",
      "0 | bn            | BatchNorm1d | 128   \n",
      "1 | act           | Mish        | 0     \n",
      "2 | initEmbedding | Embedding   | 86.1 K\n",
      "3 | initGNN       | UselessConv | 0     \n",
      "4 | GNNs          | GNNStack    | 33.5 K\n",
      "----------------------------------------------\n",
      "119 K     Trainable params\n",
      "0         Non-trainable params\n",
      "119 K     Total params\n"
     ]
    },
    {
     "data": {
      "application/vnd.jupyter.widget-view+json": {
       "model_id": "090db1a701234a0d97676123a94949c9",
       "version_major": 2,
       "version_minor": 0
      },
      "text/plain": [
       "HBox(children=(HTML(value='Training'), FloatProgress(value=1.0, bar_style='info', layout=Layout(flex='2'), max…"
      ]
     },
     "metadata": {},
     "output_type": "display_data"
    },
    {
     "name": "stdout",
     "output_type": "stream",
     "text": [
      "\n"
     ]
    },
    {
     "data": {
      "text/plain": [
       "1"
      ]
     },
     "execution_count": 19,
     "metadata": {},
     "output_type": "execute_result"
    }
   ],
   "source": [
    "# model config\n",
    "seed_everything(2345)\n",
    "input_dim = gdata.leaf_dim\n",
    "hidden_size = 32\n",
    "sizes = [50,20]\n",
    "numLayers = len(sizes)\n",
    "batch_size = 1024\n",
    "\n",
    "model = PretrainGNN(input_dim, hidden_size, numLayers, useXGB=gdata.use_xgb)\n",
    "\n",
    "# lightning config\n",
    "stacked_data = StackData(trainLab_data,unlab_data,valid_data, test_data)\n",
    "datamodule = UnsupData(stacked_data, sizes = sizes, batch_size=batch_size)\n",
    "checkpoint_callback = ModelCheckpoint(\n",
    "    monitor='train_loss',    \n",
    "    dirpath='./saved_model',\n",
    "    filename='Tdata5-pretrain-{train_loss:.4f}',\n",
    "    save_top_k=1,\n",
    "    mode='min',\n",
    ")\n",
    "trainer = Trainer(gpus=[1], max_epochs=3,\n",
    "#                   callbacks=[checkpoint_callback],\n",
    "                 )\n",
    "trainer.fit(model, train_dataloader=datamodule.train_dataloader(),\n",
    "           )"
   ]
  },
  {
   "cell_type": "code",
   "execution_count": 20,
   "metadata": {},
   "outputs": [
    {
     "data": {
      "text/plain": [
       "1"
      ]
     },
     "execution_count": 20,
     "metadata": {},
     "output_type": "execute_result"
    }
   ],
   "source": [
    "trainer.test()"
   ]
  },
  {
   "cell_type": "code",
   "execution_count": 21,
   "metadata": {},
   "outputs": [],
   "source": [
    "# trainer.save_checkpoint(\"./saved_model/pretrained.ckpt\")"
   ]
  },
  {
   "cell_type": "code",
   "execution_count": 22,
   "metadata": {},
   "outputs": [],
   "source": [
    "from tqdm import tqdm_notebook"
   ]
  },
  {
   "cell_type": "code",
   "execution_count": 23,
   "metadata": {},
   "outputs": [
    {
     "data": {
      "application/vnd.jupyter.widget-view+json": {
       "model_id": "4bdcc2b9b89340db882d4793fa8021e7",
       "version_major": 2,
       "version_minor": 0
      },
      "text/plain": [
       "HBox(children=(HTML(value=''), FloatProgress(value=0.0, max=269.0), HTML(value='')))"
      ]
     },
     "metadata": {},
     "output_type": "display_data"
    },
    {
     "name": "stdout",
     "output_type": "stream",
     "text": [
      "\n"
     ]
    }
   ],
   "source": [
    "test_embeddings = []\n",
    "for batch in tqdm_notebook(datamodule.test_dataloader()):\n",
    "    batch = batch.to(model.device)\n",
    "    out = model(batch.x, batch.adjs_t)\n",
    "    out, pos_out, neg_out = out.split(out.size(0) // 3, dim=0)\n",
    "    test_embeddings.append(out.cpu().detach().numpy())"
   ]
  },
  {
   "cell_type": "code",
   "execution_count": 24,
   "metadata": {},
   "outputs": [
    {
     "data": {
      "application/vnd.jupyter.widget-view+json": {
       "model_id": "c56423d897eb48be9637935409c25b08",
       "version_major": 2,
       "version_minor": 0
      },
      "text/plain": [
       "HBox(children=(HTML(value=''), FloatProgress(value=0.0, max=53.0), HTML(value='')))"
      ]
     },
     "metadata": {},
     "output_type": "display_data"
    },
    {
     "name": "stdout",
     "output_type": "stream",
     "text": [
      "\n"
     ]
    }
   ],
   "source": [
    "embeddings = []\n",
    "for batch in tqdm_notebook(datamodule.label_loader()):\n",
    "    batch = batch.to(model.device)\n",
    "    out = model(batch.x, batch.adjs_t)\n",
    "    out, pos_out, neg_out = out.split(out.size(0) // 3, dim=0)\n",
    "    embeddings.append(out.cpu().detach().numpy())"
   ]
  },
  {
   "cell_type": "code",
   "execution_count": 25,
   "metadata": {},
   "outputs": [],
   "source": [
    "embeddings = np.concatenate(embeddings)\n",
    "test_embeddings = np.concatenate(test_embeddings)"
   ]
  },
  {
   "cell_type": "code",
   "execution_count": 26,
   "metadata": {},
   "outputs": [],
   "source": [
    "from sklearn.linear_model import LogisticRegression"
   ]
  },
  {
   "cell_type": "code",
   "execution_count": 27,
   "metadata": {},
   "outputs": [
    {
     "data": {
      "text/plain": [
       "LogisticRegression(class_weight={0: 1, 1: 50})"
      ]
     },
     "execution_count": 27,
     "metadata": {},
     "output_type": "execute_result"
    }
   ],
   "source": [
    "lr = LogisticRegression(class_weight={1:50,0:1})\n",
    "lr.fit(embeddings,data.train_cls_label)"
   ]
  },
  {
   "cell_type": "code",
   "execution_count": 28,
   "metadata": {},
   "outputs": [],
   "source": [
    "y_prob = lr.predict_proba(test_embeddings)[:,1]"
   ]
  },
  {
   "cell_type": "code",
   "execution_count": 29,
   "metadata": {},
   "outputs": [
    {
     "name": "stdout",
     "output_type": "stream",
     "text": [
      "Checking top 1% suspicious transactions: 2749\n",
      "Precision: 0.0517, Recall: 0.0209, Revenue: 0.0244\n",
      "Checking top 2% suspicious transactions: 5497\n",
      "Precision: 0.0446, Recall: 0.0360, Revenue: 0.0544\n",
      "Checking top 5% suspicious transactions: 13741\n",
      "Precision: 0.0387, Recall: 0.0783, Revenue: 0.1310\n",
      "Checking top 10% suspicious transactions: 27481\n",
      "Precision: 0.0343, Recall: 0.1386, Revenue: 0.2171\n"
     ]
    }
   ],
   "source": [
    "_ = metrics(y_prob, data.test_cls_label,data.test_reg_label,None)"
   ]
  },
  {
   "cell_type": "markdown",
   "metadata": {},
   "source": [
    "## Fine tuning"
   ]
  },
  {
   "cell_type": "code",
   "execution_count": 30,
   "metadata": {},
   "outputs": [],
   "source": [
    "from torch_geometric.nn import GATConv,TransformerConv\n",
    "from pygData_util import *"
   ]
  },
  {
   "cell_type": "code",
   "execution_count": 31,
   "metadata": {},
   "outputs": [],
   "source": [
    "class Predictor(LightningModule):\n",
    "    def __init__(self,input_dim, hidden_dim, numLayers, useXGB=True):\n",
    "        super().__init__()\n",
    "        self.gnn_encoder = PretrainGNN(input_dim, hidden_size, numLayers, useXGB)\n",
    "        self.dim = hidden_dim * 2\n",
    "        \n",
    "        # output\n",
    "        self.clsLayer = nn.Linear(self.dim,1) #GATConv(self.dim,1)\n",
    "        self.revLayer = nn.Linear(self.dim,1) #GATConv(self.dim,1)\n",
    "        self.loss_func = nn.BCEWithLogitsLoss(pos_weight = torch.tensor([20])) #FocalLoss(logits=True)\n",
    "        \n",
    "    def load_fromPretrain(self,path):\n",
    "        self.gnn_encoder.load_from_checkpoint(path)\n",
    "        \n",
    "    def loadGNN_state(self,model):\n",
    "        self.gnn_encoder.load_state_dict(model.state_dict())\n",
    "\n",
    "    def forward(self, x,adjs):\n",
    "#         firstHop_neighbor = adjs[-1][0]\n",
    "        # get node embedding from pre-trained model\n",
    "        embedding = self.gnn_encoder(x,adjs)\n",
    "        logit = self.clsLayer(embedding)\n",
    "        revenue = self.revLayer(embedding)\n",
    "        \n",
    "        return logit, revenue\n",
    "    \n",
    "    def compute_CLS_loss(self,logit, label):\n",
    "        logit = logit.flatten()\n",
    "        loss = self.loss_func(logit,label)\n",
    "        return loss\n",
    "    \n",
    "    def compute_REG_loss(self,pred_rev, rev):\n",
    "        pred_rev = pred_rev.flatten()\n",
    "        loss = F.mse_loss(pred_rev,rev)\n",
    "        return loss \n",
    "\n",
    "    def training_step(self, batch, batch_idx: int):\n",
    "        logits, revenues = self(batch.x, batch.adjs_t)\n",
    "        CLS_loss = self.compute_CLS_loss(logits, batch.y)  \n",
    "        REG_loss = self.compute_REG_loss(revenues, batch.rev)\n",
    "        train_loss = CLS_loss + 10 * REG_loss\n",
    "        self.log('train_loss', train_loss)\n",
    "        return train_loss\n",
    "    \n",
    "    def validation_step(self, batch, batch_idx: int):\n",
    "        logits, revenues = self(batch.x, batch.adjs_t)\n",
    "        CLS_loss = self.compute_CLS_loss(logits, batch.y)  \n",
    "        REG_loss = self.compute_REG_loss(revenues, batch.rev)\n",
    "        valid_loss = CLS_loss + 1 * REG_loss\n",
    "        self.log('val_loss', valid_loss, on_step=True, on_epoch=True, sync_dist=True)\n",
    "        return logits\n",
    "    \n",
    "    def validation_epoch_end(self, val_step_outputs):\n",
    "        predictions = torch.cat(val_step_outputs).detach().cpu().numpy().ravel()\n",
    "        f,pr, re, rev = torch_metrics(predictions, self.data.valid_cls_label, self.data.valid_reg_label)\n",
    "        f1_top = np.mean(f)\n",
    "        self.log(\"F1-top\",f1_top)\n",
    "        performance = [*f, *pr, *re, *rev]\n",
    "        name_performance = [\"F1@1\",\"F1@2\",\"F1@5\",\"F1@10\",\"Pr@1\",\"Pr@2\",\"Pr@5\",\"Pr@10\",\n",
    "                            \"Re@1\",\"Re@2\",\"Re@5\",\"Re@10\",\"Rev@1\",\"Rev@2\",\"Rev@5\",\"Rev@10\"]\n",
    "        name_performance = [\"Val/\"+i for i in name_performance]\n",
    "        tensorboard_logs = dict(zip(name_performance,performance))\n",
    "        return {\"Val/F1-top\":f1_top, \"log\":tensorboard_logs}\n",
    "        \n",
    "    def test_step(self,batch, batch_idx):\n",
    "        return self.validation_step(batch, batch_idx)\n",
    "    \n",
    "    def test_epoch_end(self,val_step_outputs):\n",
    "        predictions = torch.cat(val_step_outputs).detach().cpu().numpy().ravel()\n",
    "        f,pr, re, rev = torch_metrics(predictions, self.data.test_cls_label, self.data.test_reg_label)\n",
    "        f1_top = np.mean(f)\n",
    "        performance = [*f, *pr, *re, *rev]\n",
    "        name_performance = [\"F1@1\",\"F1@2\",\"F1@5\",\"F1@10\",\"Pr@1\",\"Pr@2\",\"Pr@5\",\"Pr@10\",\n",
    "                            \"Re@1\",\"Re@2\",\"Re@5\",\"Re@10\",\"Rev@1\",\"Rev@2\",\"Rev@5\",\"Rev@10\"]\n",
    "        name_performance = [\"Test/\"+i for i in name_performance]\n",
    "        tensorboard_logs = dict(zip(name_performance,performance))\n",
    "        \n",
    "        return {\"F1-top\":f1_top, \"log\":tensorboard_logs}\n",
    "\n",
    "    def configure_optimizers(self):\n",
    "        optimizer = RangerLars(self.parameters(), lr=0.05, weight_decay=0.0001)\n",
    "        scheduler = torch.optim.lr_scheduler.ExponentialLR(optimizer,gamma=0.99)\n",
    "        return [optimizer], [scheduler]"
   ]
  },
  {
   "cell_type": "code",
   "execution_count": 32,
   "metadata": {},
   "outputs": [
    {
     "name": "stderr",
     "output_type": "stream",
     "text": [
      "GPU available: True, used: True\n",
      "TPU available: None, using: 0 TPU cores\n",
      "LOCAL_RANK: 0 - CUDA_VISIBLE_DEVICES: [0,1,2,3]\n",
      "\n",
      "  | Name        | Type              | Params\n",
      "--------------------------------------------------\n",
      "0 | gnn_encoder | PretrainGNN       | 119 K \n",
      "1 | clsLayer    | Linear            | 65    \n",
      "2 | revLayer    | Linear            | 65    \n",
      "3 | loss_func   | BCEWithLogitsLoss | 0     \n",
      "--------------------------------------------------\n",
      "119 K     Trainable params\n",
      "0         Non-trainable params\n",
      "119 K     Total params\n"
     ]
    },
    {
     "data": {
      "application/vnd.jupyter.widget-view+json": {
       "model_id": "435ec508f20d42febaa60c9d105bdb23",
       "version_major": 2,
       "version_minor": 0
      },
      "text/plain": [
       "HBox(children=(HTML(value='Training'), FloatProgress(value=1.0, bar_style='info', layout=Layout(flex='2'), max…"
      ]
     },
     "metadata": {},
     "output_type": "display_data"
    },
    {
     "data": {
      "application/vnd.jupyter.widget-view+json": {
       "model_id": "",
       "version_major": 2,
       "version_minor": 0
      },
      "text/plain": [
       "HBox(children=(HTML(value='Validating'), FloatProgress(value=1.0, bar_style='info', layout=Layout(flex='2'), m…"
      ]
     },
     "metadata": {},
     "output_type": "display_data"
    },
    {
     "name": "stdout",
     "output_type": "stream",
     "text": [
      "Checking top 1% suspicious transactions: 710\n",
      "Precision: 0.1577, Recall: 0.0460, Revenue: 0.0256\n",
      "Checking top 2% suspicious transactions: 1419\n",
      "Precision: 0.1071, Recall: 0.0624, Revenue: 0.0508\n",
      "Checking top 5% suspicious transactions: 3546\n",
      "Precision: 0.0804, Recall: 0.1170, Revenue: 0.0991\n",
      "Checking top 10% suspicious transactions: 7091\n",
      "Precision: 0.0656, Recall: 0.1910, Revenue: 0.2237\n"
     ]
    },
    {
     "data": {
      "application/vnd.jupyter.widget-view+json": {
       "model_id": "",
       "version_major": 2,
       "version_minor": 0
      },
      "text/plain": [
       "HBox(children=(HTML(value='Validating'), FloatProgress(value=1.0, bar_style='info', layout=Layout(flex='2'), m…"
      ]
     },
     "metadata": {},
     "output_type": "display_data"
    },
    {
     "name": "stdout",
     "output_type": "stream",
     "text": [
      "Checking top 1% suspicious transactions: 710\n",
      "Precision: 0.1887, Recall: 0.0550, Revenue: 0.0401\n",
      "Checking top 2% suspicious transactions: 1419\n",
      "Precision: 0.1325, Recall: 0.0772, Revenue: 0.0513\n",
      "Checking top 5% suspicious transactions: 3546\n",
      "Precision: 0.0905, Recall: 0.1318, Revenue: 0.1154\n",
      "Checking top 10% suspicious transactions: 7089\n",
      "Precision: 0.0633, Recall: 0.1844, Revenue: 0.1711\n"
     ]
    },
    {
     "data": {
      "application/vnd.jupyter.widget-view+json": {
       "model_id": "",
       "version_major": 2,
       "version_minor": 0
      },
      "text/plain": [
       "HBox(children=(HTML(value='Validating'), FloatProgress(value=1.0, bar_style='info', layout=Layout(flex='2'), m…"
      ]
     },
     "metadata": {},
     "output_type": "display_data"
    },
    {
     "name": "stdout",
     "output_type": "stream",
     "text": [
      "Checking top 1% suspicious transactions: 710\n",
      "Precision: 0.2451, Recall: 0.0715, Revenue: 0.0466\n",
      "Checking top 2% suspicious transactions: 1419\n",
      "Precision: 0.1501, Recall: 0.0875, Revenue: 0.0518\n",
      "Checking top 5% suspicious transactions: 3545\n",
      "Precision: 0.0934, Recall: 0.1359, Revenue: 0.0988\n",
      "Checking top 10% suspicious transactions: 7092\n",
      "Precision: 0.0626, Recall: 0.1823, Revenue: 0.2102\n"
     ]
    },
    {
     "data": {
      "application/vnd.jupyter.widget-view+json": {
       "model_id": "",
       "version_major": 2,
       "version_minor": 0
      },
      "text/plain": [
       "HBox(children=(HTML(value='Validating'), FloatProgress(value=1.0, bar_style='info', layout=Layout(flex='2'), m…"
      ]
     },
     "metadata": {},
     "output_type": "display_data"
    },
    {
     "name": "stdout",
     "output_type": "stream",
     "text": [
      "Checking top 1% suspicious transactions: 710\n",
      "Precision: 0.2155, Recall: 0.0628, Revenue: 0.0425\n",
      "Checking top 2% suspicious transactions: 1419\n",
      "Precision: 0.1445, Recall: 0.0842, Revenue: 0.0502\n",
      "Checking top 5% suspicious transactions: 3546\n",
      "Precision: 0.0936, Recall: 0.1363, Revenue: 0.1061\n",
      "Checking top 10% suspicious transactions: 7092\n",
      "Precision: 0.0718, Recall: 0.2090, Revenue: 0.2232\n"
     ]
    },
    {
     "data": {
      "application/vnd.jupyter.widget-view+json": {
       "model_id": "",
       "version_major": 2,
       "version_minor": 0
      },
      "text/plain": [
       "HBox(children=(HTML(value='Validating'), FloatProgress(value=1.0, bar_style='info', layout=Layout(flex='2'), m…"
      ]
     },
     "metadata": {},
     "output_type": "display_data"
    },
    {
     "name": "stdout",
     "output_type": "stream",
     "text": [
      "Checking top 1% suspicious transactions: 710\n",
      "Precision: 0.2732, Recall: 0.0797, Revenue: 0.0481\n",
      "Checking top 2% suspicious transactions: 1419\n",
      "Precision: 0.1705, Recall: 0.0994, Revenue: 0.0553\n",
      "Checking top 5% suspicious transactions: 3546\n",
      "Precision: 0.0956, Recall: 0.1392, Revenue: 0.1240\n",
      "Checking top 10% suspicious transactions: 7092\n",
      "Precision: 0.0746, Recall: 0.2172, Revenue: 0.2242\n"
     ]
    },
    {
     "data": {
      "application/vnd.jupyter.widget-view+json": {
       "model_id": "",
       "version_major": 2,
       "version_minor": 0
      },
      "text/plain": [
       "HBox(children=(HTML(value='Validating'), FloatProgress(value=1.0, bar_style='info', layout=Layout(flex='2'), m…"
      ]
     },
     "metadata": {},
     "output_type": "display_data"
    },
    {
     "name": "stdout",
     "output_type": "stream",
     "text": [
      "Checking top 1% suspicious transactions: 710\n",
      "Precision: 0.2845, Recall: 0.0830, Revenue: 0.0484\n",
      "Checking top 2% suspicious transactions: 1419\n",
      "Precision: 0.1875, Recall: 0.1092, Revenue: 0.0831\n",
      "Checking top 5% suspicious transactions: 3546\n",
      "Precision: 0.1111, Recall: 0.1618, Revenue: 0.1372\n",
      "Checking top 10% suspicious transactions: 7092\n",
      "Precision: 0.0842, Recall: 0.2452, Revenue: 0.1993\n"
     ]
    },
    {
     "data": {
      "application/vnd.jupyter.widget-view+json": {
       "model_id": "",
       "version_major": 2,
       "version_minor": 0
      },
      "text/plain": [
       "HBox(children=(HTML(value='Validating'), FloatProgress(value=1.0, bar_style='info', layout=Layout(flex='2'), m…"
      ]
     },
     "metadata": {},
     "output_type": "display_data"
    },
    {
     "name": "stdout",
     "output_type": "stream",
     "text": [
      "Checking top 1% suspicious transactions: 710\n",
      "Precision: 0.2944, Recall: 0.0858, Revenue: 0.0469\n",
      "Checking top 2% suspicious transactions: 1419\n",
      "Precision: 0.1720, Recall: 0.1002, Revenue: 0.0531\n",
      "Checking top 5% suspicious transactions: 3546\n",
      "Precision: 0.0894, Recall: 0.1302, Revenue: 0.1010\n",
      "Checking top 10% suspicious transactions: 7091\n",
      "Precision: 0.0753, Recall: 0.2193, Revenue: 0.1738\n"
     ]
    },
    {
     "data": {
      "application/vnd.jupyter.widget-view+json": {
       "model_id": "",
       "version_major": 2,
       "version_minor": 0
      },
      "text/plain": [
       "HBox(children=(HTML(value='Validating'), FloatProgress(value=1.0, bar_style='info', layout=Layout(flex='2'), m…"
      ]
     },
     "metadata": {},
     "output_type": "display_data"
    },
    {
     "name": "stdout",
     "output_type": "stream",
     "text": [
      "Checking top 1% suspicious transactions: 710\n",
      "Precision: 0.2901, Recall: 0.0846, Revenue: 0.0479\n",
      "Checking top 2% suspicious transactions: 1419\n",
      "Precision: 0.1846, Recall: 0.1076, Revenue: 0.0687\n",
      "Checking top 5% suspicious transactions: 3546\n",
      "Precision: 0.1108, Recall: 0.1614, Revenue: 0.1250\n",
      "Checking top 10% suspicious transactions: 7089\n",
      "Precision: 0.0959, Recall: 0.2793, Revenue: 0.2152\n"
     ]
    },
    {
     "data": {
      "application/vnd.jupyter.widget-view+json": {
       "model_id": "",
       "version_major": 2,
       "version_minor": 0
      },
      "text/plain": [
       "HBox(children=(HTML(value='Validating'), FloatProgress(value=1.0, bar_style='info', layout=Layout(flex='2'), m…"
      ]
     },
     "metadata": {},
     "output_type": "display_data"
    },
    {
     "name": "stdout",
     "output_type": "stream",
     "text": [
      "Checking top 1% suspicious transactions: 710\n",
      "Precision: 0.3042, Recall: 0.0887, Revenue: 0.0485\n",
      "Checking top 2% suspicious transactions: 1419\n",
      "Precision: 0.1917, Recall: 0.1117, Revenue: 0.0736\n",
      "Checking top 5% suspicious transactions: 3546\n",
      "Precision: 0.1089, Recall: 0.1585, Revenue: 0.1241\n",
      "Checking top 10% suspicious transactions: 7092\n",
      "Precision: 0.0936, Recall: 0.2727, Revenue: 0.2549\n"
     ]
    },
    {
     "data": {
      "application/vnd.jupyter.widget-view+json": {
       "model_id": "",
       "version_major": 2,
       "version_minor": 0
      },
      "text/plain": [
       "HBox(children=(HTML(value='Validating'), FloatProgress(value=1.0, bar_style='info', layout=Layout(flex='2'), m…"
      ]
     },
     "metadata": {},
     "output_type": "display_data"
    },
    {
     "name": "stdout",
     "output_type": "stream",
     "text": [
      "Checking top 1% suspicious transactions: 710\n",
      "Precision: 0.3225, Recall: 0.0940, Revenue: 0.0550\n",
      "Checking top 2% suspicious transactions: 1419\n",
      "Precision: 0.1882, Recall: 0.1097, Revenue: 0.0800\n",
      "Checking top 5% suspicious transactions: 3546\n",
      "Precision: 0.1153, Recall: 0.1680, Revenue: 0.1423\n",
      "Checking top 10% suspicious transactions: 7092\n",
      "Precision: 0.1008, Recall: 0.2936, Revenue: 0.2218\n"
     ]
    },
    {
     "data": {
      "application/vnd.jupyter.widget-view+json": {
       "model_id": "",
       "version_major": 2,
       "version_minor": 0
      },
      "text/plain": [
       "HBox(children=(HTML(value='Validating'), FloatProgress(value=1.0, bar_style='info', layout=Layout(flex='2'), m…"
      ]
     },
     "metadata": {},
     "output_type": "display_data"
    },
    {
     "name": "stdout",
     "output_type": "stream",
     "text": [
      "Checking top 1% suspicious transactions: 709\n",
      "Precision: 0.3061, Recall: 0.0891, Revenue: 0.0502\n",
      "Checking top 2% suspicious transactions: 1419\n",
      "Precision: 0.1924, Recall: 0.1121, Revenue: 0.0722\n",
      "Checking top 5% suspicious transactions: 3546\n",
      "Precision: 0.1156, Recall: 0.1684, Revenue: 0.1366\n",
      "Checking top 10% suspicious transactions: 7091\n",
      "Precision: 0.1121, Recall: 0.3265, Revenue: 0.2863\n"
     ]
    },
    {
     "data": {
      "application/vnd.jupyter.widget-view+json": {
       "model_id": "",
       "version_major": 2,
       "version_minor": 0
      },
      "text/plain": [
       "HBox(children=(HTML(value='Validating'), FloatProgress(value=1.0, bar_style='info', layout=Layout(flex='2'), m…"
      ]
     },
     "metadata": {},
     "output_type": "display_data"
    },
    {
     "name": "stdout",
     "output_type": "stream",
     "text": [
      "Checking top 1% suspicious transactions: 710\n",
      "Precision: 0.3099, Recall: 0.0903, Revenue: 0.0510\n",
      "Checking top 2% suspicious transactions: 1418\n",
      "Precision: 0.1968, Recall: 0.1146, Revenue: 0.0706\n",
      "Checking top 5% suspicious transactions: 3546\n",
      "Precision: 0.1368, Recall: 0.1992, Revenue: 0.1399\n",
      "Checking top 10% suspicious transactions: 7092\n",
      "Precision: 0.1447, Recall: 0.4214, Revenue: 0.2497\n"
     ]
    },
    {
     "data": {
      "application/vnd.jupyter.widget-view+json": {
       "model_id": "",
       "version_major": 2,
       "version_minor": 0
      },
      "text/plain": [
       "HBox(children=(HTML(value='Validating'), FloatProgress(value=1.0, bar_style='info', layout=Layout(flex='2'), m…"
      ]
     },
     "metadata": {},
     "output_type": "display_data"
    },
    {
     "name": "stdout",
     "output_type": "stream",
     "text": [
      "Checking top 1% suspicious transactions: 710\n",
      "Precision: 0.3070, Recall: 0.0895, Revenue: 0.0579\n",
      "Checking top 2% suspicious transactions: 1417\n",
      "Precision: 0.1870, Recall: 0.1088, Revenue: 0.0660\n",
      "Checking top 5% suspicious transactions: 3546\n",
      "Precision: 0.1221, Recall: 0.1778, Revenue: 0.1263\n",
      "Checking top 10% suspicious transactions: 7092\n",
      "Precision: 0.1574, Recall: 0.4583, Revenue: 0.2805\n"
     ]
    },
    {
     "data": {
      "application/vnd.jupyter.widget-view+json": {
       "model_id": "",
       "version_major": 2,
       "version_minor": 0
      },
      "text/plain": [
       "HBox(children=(HTML(value='Validating'), FloatProgress(value=1.0, bar_style='info', layout=Layout(flex='2'), m…"
      ]
     },
     "metadata": {},
     "output_type": "display_data"
    },
    {
     "name": "stdout",
     "output_type": "stream",
     "text": [
      "Checking top 1% suspicious transactions: 710\n",
      "Precision: 0.3479, Recall: 0.1014, Revenue: 0.0624\n",
      "Checking top 2% suspicious transactions: 1419\n",
      "Precision: 0.2255, Recall: 0.1314, Revenue: 0.0890\n",
      "Checking top 5% suspicious transactions: 3546\n",
      "Precision: 0.1627, Recall: 0.2370, Revenue: 0.1642\n",
      "Checking top 10% suspicious transactions: 7092\n",
      "Precision: 0.1578, Recall: 0.4595, Revenue: 0.2844\n"
     ]
    },
    {
     "data": {
      "application/vnd.jupyter.widget-view+json": {
       "model_id": "",
       "version_major": 2,
       "version_minor": 0
      },
      "text/plain": [
       "HBox(children=(HTML(value='Validating'), FloatProgress(value=1.0, bar_style='info', layout=Layout(flex='2'), m…"
      ]
     },
     "metadata": {},
     "output_type": "display_data"
    },
    {
     "name": "stdout",
     "output_type": "stream",
     "text": [
      "Checking top 1% suspicious transactions: 710\n",
      "Precision: 0.3268, Recall: 0.0953, Revenue: 0.0615\n",
      "Checking top 2% suspicious transactions: 1419\n",
      "Precision: 0.2178, Recall: 0.1269, Revenue: 0.0888\n",
      "Checking top 5% suspicious transactions: 3546\n",
      "Precision: 0.1579, Recall: 0.2300, Revenue: 0.1661\n",
      "Checking top 10% suspicious transactions: 7092\n",
      "Precision: 0.1506, Recall: 0.4386, Revenue: 0.2766\n"
     ]
    },
    {
     "data": {
      "application/vnd.jupyter.widget-view+json": {
       "model_id": "",
       "version_major": 2,
       "version_minor": 0
      },
      "text/plain": [
       "HBox(children=(HTML(value='Validating'), FloatProgress(value=1.0, bar_style='info', layout=Layout(flex='2'), m…"
      ]
     },
     "metadata": {},
     "output_type": "display_data"
    },
    {
     "name": "stdout",
     "output_type": "stream",
     "text": [
      "Checking top 1% suspicious transactions: 710\n",
      "Precision: 0.3408, Recall: 0.0994, Revenue: 0.0581\n",
      "Checking top 2% suspicious transactions: 1419\n",
      "Precision: 0.2156, Recall: 0.1257, Revenue: 0.0831\n",
      "Checking top 5% suspicious transactions: 3546\n",
      "Precision: 0.1399, Recall: 0.2037, Revenue: 0.1734\n",
      "Checking top 10% suspicious transactions: 7092\n",
      "Precision: 0.1389, Recall: 0.4045, Revenue: 0.3199\n"
     ]
    },
    {
     "data": {
      "application/vnd.jupyter.widget-view+json": {
       "model_id": "",
       "version_major": 2,
       "version_minor": 0
      },
      "text/plain": [
       "HBox(children=(HTML(value='Validating'), FloatProgress(value=1.0, bar_style='info', layout=Layout(flex='2'), m…"
      ]
     },
     "metadata": {},
     "output_type": "display_data"
    },
    {
     "name": "stdout",
     "output_type": "stream",
     "text": [
      "Checking top 1% suspicious transactions: 710\n",
      "Precision: 0.3408, Recall: 0.0994, Revenue: 0.0606\n",
      "Checking top 2% suspicious transactions: 1419\n",
      "Precision: 0.2340, Recall: 0.1363, Revenue: 0.0896\n",
      "Checking top 5% suspicious transactions: 3546\n",
      "Precision: 0.1929, Recall: 0.2809, Revenue: 0.1900\n",
      "Checking top 10% suspicious transactions: 7091\n",
      "Precision: 0.1722, Recall: 0.5014, Revenue: 0.2861\n"
     ]
    },
    {
     "data": {
      "application/vnd.jupyter.widget-view+json": {
       "model_id": "",
       "version_major": 2,
       "version_minor": 0
      },
      "text/plain": [
       "HBox(children=(HTML(value='Validating'), FloatProgress(value=1.0, bar_style='info', layout=Layout(flex='2'), m…"
      ]
     },
     "metadata": {},
     "output_type": "display_data"
    },
    {
     "name": "stdout",
     "output_type": "stream",
     "text": [
      "Checking top 1% suspicious transactions: 710\n",
      "Precision: 0.3254, Recall: 0.0949, Revenue: 0.0630\n",
      "Checking top 2% suspicious transactions: 1419\n",
      "Precision: 0.2100, Recall: 0.1224, Revenue: 0.0875\n",
      "Checking top 5% suspicious transactions: 3546\n",
      "Precision: 0.1362, Recall: 0.1984, Revenue: 0.1461\n",
      "Checking top 10% suspicious transactions: 7092\n",
      "Precision: 0.1337, Recall: 0.3893, Revenue: 0.2594\n"
     ]
    },
    {
     "data": {
      "application/vnd.jupyter.widget-view+json": {
       "model_id": "",
       "version_major": 2,
       "version_minor": 0
      },
      "text/plain": [
       "HBox(children=(HTML(value='Validating'), FloatProgress(value=1.0, bar_style='info', layout=Layout(flex='2'), m…"
      ]
     },
     "metadata": {},
     "output_type": "display_data"
    },
    {
     "name": "stdout",
     "output_type": "stream",
     "text": [
      "Checking top 1% suspicious transactions: 709\n",
      "Precision: 0.3413, Recall: 0.0994, Revenue: 0.0719\n",
      "Checking top 2% suspicious transactions: 1419\n",
      "Precision: 0.2304, Recall: 0.1343, Revenue: 0.1070\n",
      "Checking top 5% suspicious transactions: 3546\n",
      "Precision: 0.1813, Recall: 0.2641, Revenue: 0.1818\n",
      "Checking top 10% suspicious transactions: 7092\n",
      "Precision: 0.1722, Recall: 0.5014, Revenue: 0.2906\n"
     ]
    },
    {
     "data": {
      "application/vnd.jupyter.widget-view+json": {
       "model_id": "",
       "version_major": 2,
       "version_minor": 0
      },
      "text/plain": [
       "HBox(children=(HTML(value='Validating'), FloatProgress(value=1.0, bar_style='info', layout=Layout(flex='2'), m…"
      ]
     },
     "metadata": {},
     "output_type": "display_data"
    },
    {
     "name": "stdout",
     "output_type": "stream",
     "text": [
      "Checking top 1% suspicious transactions: 710\n",
      "Precision: 0.2775, Recall: 0.0809, Revenue: 0.0479\n",
      "Checking top 2% suspicious transactions: 1418\n",
      "Precision: 0.1989, Recall: 0.1158, Revenue: 0.0587\n",
      "Checking top 5% suspicious transactions: 3546\n",
      "Precision: 0.1906, Recall: 0.2776, Revenue: 0.1927\n",
      "Checking top 10% suspicious transactions: 7092\n",
      "Precision: 0.1806, Recall: 0.5261, Revenue: 0.3373\n"
     ]
    },
    {
     "data": {
      "application/vnd.jupyter.widget-view+json": {
       "model_id": "",
       "version_major": 2,
       "version_minor": 0
      },
      "text/plain": [
       "HBox(children=(HTML(value='Validating'), FloatProgress(value=1.0, bar_style='info', layout=Layout(flex='2'), m…"
      ]
     },
     "metadata": {},
     "output_type": "display_data"
    },
    {
     "name": "stdout",
     "output_type": "stream",
     "text": [
      "Checking top 1% suspicious transactions: 710\n",
      "Precision: 0.3028, Recall: 0.0883, Revenue: 0.0496\n",
      "Checking top 2% suspicious transactions: 1419\n",
      "Precision: 0.2149, Recall: 0.1253, Revenue: 0.0788\n",
      "Checking top 5% suspicious transactions: 3546\n",
      "Precision: 0.1968, Recall: 0.2867, Revenue: 0.1774\n",
      "Checking top 10% suspicious transactions: 7092\n",
      "Precision: 0.1805, Recall: 0.5257, Revenue: 0.3091\n"
     ]
    },
    {
     "data": {
      "application/vnd.jupyter.widget-view+json": {
       "model_id": "",
       "version_major": 2,
       "version_minor": 0
      },
      "text/plain": [
       "HBox(children=(HTML(value='Validating'), FloatProgress(value=1.0, bar_style='info', layout=Layout(flex='2'), m…"
      ]
     },
     "metadata": {},
     "output_type": "display_data"
    },
    {
     "name": "stdout",
     "output_type": "stream",
     "text": [
      "Checking top 1% suspicious transactions: 710\n",
      "Precision: 0.3141, Recall: 0.0916, Revenue: 0.0570\n",
      "Checking top 2% suspicious transactions: 1419\n",
      "Precision: 0.2361, Recall: 0.1376, Revenue: 0.0895\n",
      "Checking top 5% suspicious transactions: 3535\n",
      "Precision: 0.2260, Recall: 0.3281, Revenue: 0.1904\n",
      "Checking top 10% suspicious transactions: 7092\n",
      "Precision: 0.1809, Recall: 0.5269, Revenue: 0.3053\n"
     ]
    },
    {
     "data": {
      "application/vnd.jupyter.widget-view+json": {
       "model_id": "",
       "version_major": 2,
       "version_minor": 0
      },
      "text/plain": [
       "HBox(children=(HTML(value='Validating'), FloatProgress(value=1.0, bar_style='info', layout=Layout(flex='2'), m…"
      ]
     },
     "metadata": {},
     "output_type": "display_data"
    },
    {
     "name": "stdout",
     "output_type": "stream",
     "text": [
      "Checking top 1% suspicious transactions: 710\n",
      "Precision: 0.3296, Recall: 0.0961, Revenue: 0.0696\n",
      "Checking top 2% suspicious transactions: 1419\n",
      "Precision: 0.2502, Recall: 0.1458, Revenue: 0.0969\n",
      "Checking top 5% suspicious transactions: 3546\n",
      "Precision: 0.2431, Recall: 0.3540, Revenue: 0.2241\n",
      "Checking top 10% suspicious transactions: 7092\n",
      "Precision: 0.2023, Recall: 0.5893, Revenue: 0.3495\n"
     ]
    },
    {
     "data": {
      "application/vnd.jupyter.widget-view+json": {
       "model_id": "",
       "version_major": 2,
       "version_minor": 0
      },
      "text/plain": [
       "HBox(children=(HTML(value='Validating'), FloatProgress(value=1.0, bar_style='info', layout=Layout(flex='2'), m…"
      ]
     },
     "metadata": {},
     "output_type": "display_data"
    },
    {
     "name": "stdout",
     "output_type": "stream",
     "text": [
      "Checking top 1% suspicious transactions: 710\n",
      "Precision: 0.3521, Recall: 0.1027, Revenue: 0.0710\n",
      "Checking top 2% suspicious transactions: 1419\n",
      "Precision: 0.2664, Recall: 0.1552, Revenue: 0.0971\n",
      "Checking top 5% suspicious transactions: 3546\n",
      "Precision: 0.2521, Recall: 0.3671, Revenue: 0.2132\n",
      "Checking top 10% suspicious transactions: 7092\n",
      "Precision: 0.1981, Recall: 0.5770, Revenue: 0.3308\n"
     ]
    },
    {
     "data": {
      "application/vnd.jupyter.widget-view+json": {
       "model_id": "",
       "version_major": 2,
       "version_minor": 0
      },
      "text/plain": [
       "HBox(children=(HTML(value='Validating'), FloatProgress(value=1.0, bar_style='info', layout=Layout(flex='2'), m…"
      ]
     },
     "metadata": {},
     "output_type": "display_data"
    },
    {
     "name": "stdout",
     "output_type": "stream",
     "text": [
      "Checking top 1% suspicious transactions: 710\n",
      "Precision: 0.3704, Recall: 0.1080, Revenue: 0.0711\n",
      "Checking top 2% suspicious transactions: 1419\n",
      "Precision: 0.2657, Recall: 0.1548, Revenue: 0.0969\n",
      "Checking top 5% suspicious transactions: 3543\n",
      "Precision: 0.2433, Recall: 0.3540, Revenue: 0.2084\n",
      "Checking top 10% suspicious transactions: 7092\n",
      "Precision: 0.1881, Recall: 0.5478, Revenue: 0.3068\n"
     ]
    },
    {
     "data": {
      "application/vnd.jupyter.widget-view+json": {
       "model_id": "",
       "version_major": 2,
       "version_minor": 0
      },
      "text/plain": [
       "HBox(children=(HTML(value='Validating'), FloatProgress(value=1.0, bar_style='info', layout=Layout(flex='2'), m…"
      ]
     },
     "metadata": {},
     "output_type": "display_data"
    },
    {
     "name": "stdout",
     "output_type": "stream",
     "text": [
      "Checking top 1% suspicious transactions: 710\n",
      "Precision: 0.3662, Recall: 0.1068, Revenue: 0.0734\n",
      "Checking top 2% suspicious transactions: 1419\n",
      "Precision: 0.2875, Recall: 0.1676, Revenue: 0.0996\n",
      "Checking top 5% suspicious transactions: 3546\n",
      "Precision: 0.2840, Recall: 0.4136, Revenue: 0.2398\n",
      "Checking top 10% suspicious transactions: 7092\n",
      "Precision: 0.2064, Recall: 0.6012, Revenue: 0.3502\n"
     ]
    },
    {
     "data": {
      "application/vnd.jupyter.widget-view+json": {
       "model_id": "",
       "version_major": 2,
       "version_minor": 0
      },
      "text/plain": [
       "HBox(children=(HTML(value='Validating'), FloatProgress(value=1.0, bar_style='info', layout=Layout(flex='2'), m…"
      ]
     },
     "metadata": {},
     "output_type": "display_data"
    },
    {
     "name": "stdout",
     "output_type": "stream",
     "text": [
      "Checking top 1% suspicious transactions: 710\n",
      "Precision: 0.3606, Recall: 0.1051, Revenue: 0.0737\n",
      "Checking top 2% suspicious transactions: 1419\n",
      "Precision: 0.2889, Recall: 0.1684, Revenue: 0.1013\n",
      "Checking top 5% suspicious transactions: 3546\n",
      "Precision: 0.2882, Recall: 0.4197, Revenue: 0.2371\n",
      "Checking top 10% suspicious transactions: 7092\n",
      "Precision: 0.1994, Recall: 0.5807, Revenue: 0.3351\n"
     ]
    },
    {
     "data": {
      "application/vnd.jupyter.widget-view+json": {
       "model_id": "",
       "version_major": 2,
       "version_minor": 0
      },
      "text/plain": [
       "HBox(children=(HTML(value='Validating'), FloatProgress(value=1.0, bar_style='info', layout=Layout(flex='2'), m…"
      ]
     },
     "metadata": {},
     "output_type": "display_data"
    },
    {
     "name": "stdout",
     "output_type": "stream",
     "text": [
      "Checking top 1% suspicious transactions: 710\n",
      "Precision: 0.3831, Recall: 0.1117, Revenue: 0.0775\n",
      "Checking top 2% suspicious transactions: 1419\n",
      "Precision: 0.3206, Recall: 0.1869, Revenue: 0.1058\n",
      "Checking top 5% suspicious transactions: 3546\n",
      "Precision: 0.3029, Recall: 0.4411, Revenue: 0.2545\n",
      "Checking top 10% suspicious transactions: 7088\n",
      "Precision: 0.2091, Recall: 0.6086, Revenue: 0.3474\n"
     ]
    },
    {
     "data": {
      "application/vnd.jupyter.widget-view+json": {
       "model_id": "",
       "version_major": 2,
       "version_minor": 0
      },
      "text/plain": [
       "HBox(children=(HTML(value='Validating'), FloatProgress(value=1.0, bar_style='info', layout=Layout(flex='2'), m…"
      ]
     },
     "metadata": {},
     "output_type": "display_data"
    },
    {
     "name": "stdout",
     "output_type": "stream",
     "text": [
      "Checking top 1% suspicious transactions: 710\n",
      "Precision: 0.3437, Recall: 0.1002, Revenue: 0.0702\n",
      "Checking top 2% suspicious transactions: 1419\n",
      "Precision: 0.2932, Recall: 0.1708, Revenue: 0.1012\n",
      "Checking top 5% suspicious transactions: 3546\n",
      "Precision: 0.2871, Recall: 0.4181, Revenue: 0.2420\n",
      "Checking top 10% suspicious transactions: 7092\n",
      "Precision: 0.2046, Recall: 0.5959, Revenue: 0.3480\n"
     ]
    },
    {
     "data": {
      "application/vnd.jupyter.widget-view+json": {
       "model_id": "",
       "version_major": 2,
       "version_minor": 0
      },
      "text/plain": [
       "HBox(children=(HTML(value='Validating'), FloatProgress(value=1.0, bar_style='info', layout=Layout(flex='2'), m…"
      ]
     },
     "metadata": {},
     "output_type": "display_data"
    },
    {
     "name": "stdout",
     "output_type": "stream",
     "text": [
      "Checking top 1% suspicious transactions: 710\n",
      "Precision: 0.3817, Recall: 0.1113, Revenue: 0.0792\n",
      "Checking top 2% suspicious transactions: 1419\n",
      "Precision: 0.3369, Recall: 0.1963, Revenue: 0.1112\n",
      "Checking top 5% suspicious transactions: 3546\n",
      "Precision: 0.3096, Recall: 0.4509, Revenue: 0.2585\n",
      "Checking top 10% suspicious transactions: 7092\n",
      "Precision: 0.2016, Recall: 0.5873, Revenue: 0.3348\n"
     ]
    },
    {
     "data": {
      "application/vnd.jupyter.widget-view+json": {
       "model_id": "",
       "version_major": 2,
       "version_minor": 0
      },
      "text/plain": [
       "HBox(children=(HTML(value='Validating'), FloatProgress(value=1.0, bar_style='info', layout=Layout(flex='2'), m…"
      ]
     },
     "metadata": {},
     "output_type": "display_data"
    },
    {
     "name": "stdout",
     "output_type": "stream",
     "text": [
      "Checking top 1% suspicious transactions: 710\n",
      "Precision: 0.3648, Recall: 0.1064, Revenue: 0.0747\n",
      "Checking top 2% suspicious transactions: 1419\n",
      "Precision: 0.3263, Recall: 0.1901, Revenue: 0.1082\n",
      "Checking top 5% suspicious transactions: 3546\n",
      "Precision: 0.2981, Recall: 0.4341, Revenue: 0.2530\n",
      "Checking top 10% suspicious transactions: 7053\n",
      "Precision: 0.1979, Recall: 0.5733, Revenue: 0.3323\n"
     ]
    },
    {
     "data": {
      "application/vnd.jupyter.widget-view+json": {
       "model_id": "",
       "version_major": 2,
       "version_minor": 0
      },
      "text/plain": [
       "HBox(children=(HTML(value='Validating'), FloatProgress(value=1.0, bar_style='info', layout=Layout(flex='2'), m…"
      ]
     },
     "metadata": {},
     "output_type": "display_data"
    },
    {
     "name": "stdout",
     "output_type": "stream",
     "text": [
      "Checking top 1% suspicious transactions: 709\n",
      "Precision: 0.3992, Recall: 0.1162, Revenue: 0.0834\n",
      "Checking top 2% suspicious transactions: 1419\n",
      "Precision: 0.3298, Recall: 0.1922, Revenue: 0.1083\n",
      "Checking top 5% suspicious transactions: 3546\n",
      "Precision: 0.2930, Recall: 0.4267, Revenue: 0.2445\n",
      "Checking top 10% suspicious transactions: 7092\n",
      "Precision: 0.2025, Recall: 0.5897, Revenue: 0.3446\n"
     ]
    },
    {
     "data": {
      "application/vnd.jupyter.widget-view+json": {
       "model_id": "",
       "version_major": 2,
       "version_minor": 0
      },
      "text/plain": [
       "HBox(children=(HTML(value='Validating'), FloatProgress(value=1.0, bar_style='info', layout=Layout(flex='2'), m…"
      ]
     },
     "metadata": {},
     "output_type": "display_data"
    },
    {
     "name": "stdout",
     "output_type": "stream",
     "text": [
      "Checking top 1% suspicious transactions: 710\n",
      "Precision: 0.3535, Recall: 0.1031, Revenue: 0.0718\n",
      "Checking top 2% suspicious transactions: 1419\n",
      "Precision: 0.3122, Recall: 0.1819, Revenue: 0.1079\n",
      "Checking top 5% suspicious transactions: 3546\n",
      "Precision: 0.2978, Recall: 0.4337, Revenue: 0.2578\n",
      "Checking top 10% suspicious transactions: 7092\n",
      "Precision: 0.2002, Recall: 0.5832, Revenue: 0.3420\n"
     ]
    },
    {
     "data": {
      "application/vnd.jupyter.widget-view+json": {
       "model_id": "",
       "version_major": 2,
       "version_minor": 0
      },
      "text/plain": [
       "HBox(children=(HTML(value='Validating'), FloatProgress(value=1.0, bar_style='info', layout=Layout(flex='2'), m…"
      ]
     },
     "metadata": {},
     "output_type": "display_data"
    },
    {
     "name": "stdout",
     "output_type": "stream",
     "text": [
      "Checking top 1% suspicious transactions: 710\n",
      "Precision: 0.3901, Recall: 0.1138, Revenue: 0.0777\n",
      "Checking top 2% suspicious transactions: 1419\n",
      "Precision: 0.3411, Recall: 0.1988, Revenue: 0.1117\n",
      "Checking top 5% suspicious transactions: 3541\n",
      "Precision: 0.3047, Recall: 0.4431, Revenue: 0.2455\n",
      "Checking top 10% suspicious transactions: 7092\n",
      "Precision: 0.2046, Recall: 0.5959, Revenue: 0.3453\n"
     ]
    },
    {
     "data": {
      "application/vnd.jupyter.widget-view+json": {
       "model_id": "",
       "version_major": 2,
       "version_minor": 0
      },
      "text/plain": [
       "HBox(children=(HTML(value='Validating'), FloatProgress(value=1.0, bar_style='info', layout=Layout(flex='2'), m…"
      ]
     },
     "metadata": {},
     "output_type": "display_data"
    },
    {
     "name": "stdout",
     "output_type": "stream",
     "text": [
      "Checking top 1% suspicious transactions: 710\n",
      "Precision: 0.3662, Recall: 0.1068, Revenue: 0.0748\n",
      "Checking top 2% suspicious transactions: 1419\n",
      "Precision: 0.3136, Recall: 0.1828, Revenue: 0.1068\n",
      "Checking top 5% suspicious transactions: 3546\n",
      "Precision: 0.2876, Recall: 0.4189, Revenue: 0.2469\n",
      "Checking top 10% suspicious transactions: 7090\n",
      "Precision: 0.1965, Recall: 0.5721, Revenue: 0.3296\n"
     ]
    },
    {
     "data": {
      "application/vnd.jupyter.widget-view+json": {
       "model_id": "",
       "version_major": 2,
       "version_minor": 0
      },
      "text/plain": [
       "HBox(children=(HTML(value='Validating'), FloatProgress(value=1.0, bar_style='info', layout=Layout(flex='2'), m…"
      ]
     },
     "metadata": {},
     "output_type": "display_data"
    },
    {
     "name": "stdout",
     "output_type": "stream",
     "text": [
      "Checking top 1% suspicious transactions: 709\n",
      "Precision: 0.4175, Recall: 0.1216, Revenue: 0.0810\n",
      "Checking top 2% suspicious transactions: 1419\n",
      "Precision: 0.3686, Recall: 0.2148, Revenue: 0.1181\n",
      "Checking top 5% suspicious transactions: 3544\n",
      "Precision: 0.3287, Recall: 0.4784, Revenue: 0.2466\n",
      "Checking top 10% suspicious transactions: 7092\n",
      "Precision: 0.2016, Recall: 0.5873, Revenue: 0.3380\n"
     ]
    },
    {
     "data": {
      "application/vnd.jupyter.widget-view+json": {
       "model_id": "",
       "version_major": 2,
       "version_minor": 0
      },
      "text/plain": [
       "HBox(children=(HTML(value='Validating'), FloatProgress(value=1.0, bar_style='info', layout=Layout(flex='2'), m…"
      ]
     },
     "metadata": {},
     "output_type": "display_data"
    },
    {
     "name": "stdout",
     "output_type": "stream",
     "text": [
      "Checking top 1% suspicious transactions: 710\n",
      "Precision: 0.4127, Recall: 0.1203, Revenue: 0.0821\n",
      "Checking top 2% suspicious transactions: 1419\n",
      "Precision: 0.3841, Recall: 0.2238, Revenue: 0.1288\n",
      "Checking top 5% suspicious transactions: 3539\n",
      "Precision: 0.3227, Recall: 0.4690, Revenue: 0.2634\n",
      "Checking top 10% suspicious transactions: 7091\n",
      "Precision: 0.1986, Recall: 0.5782, Revenue: 0.3322\n"
     ]
    },
    {
     "data": {
      "application/vnd.jupyter.widget-view+json": {
       "model_id": "",
       "version_major": 2,
       "version_minor": 0
      },
      "text/plain": [
       "HBox(children=(HTML(value='Validating'), FloatProgress(value=1.0, bar_style='info', layout=Layout(flex='2'), m…"
      ]
     },
     "metadata": {},
     "output_type": "display_data"
    },
    {
     "name": "stdout",
     "output_type": "stream",
     "text": [
      "Checking top 1% suspicious transactions: 710\n",
      "Precision: 0.3803, Recall: 0.1109, Revenue: 0.0779\n",
      "Checking top 2% suspicious transactions: 1419\n",
      "Precision: 0.3510, Recall: 0.2045, Revenue: 0.1169\n",
      "Checking top 5% suspicious transactions: 3546\n",
      "Precision: 0.3254, Recall: 0.4739, Revenue: 0.2702\n",
      "Checking top 10% suspicious transactions: 7092\n",
      "Precision: 0.2032, Recall: 0.5918, Revenue: 0.3426\n"
     ]
    },
    {
     "data": {
      "application/vnd.jupyter.widget-view+json": {
       "model_id": "",
       "version_major": 2,
       "version_minor": 0
      },
      "text/plain": [
       "HBox(children=(HTML(value='Validating'), FloatProgress(value=1.0, bar_style='info', layout=Layout(flex='2'), m…"
      ]
     },
     "metadata": {},
     "output_type": "display_data"
    },
    {
     "name": "stdout",
     "output_type": "stream",
     "text": [
      "Checking top 1% suspicious transactions: 710\n",
      "Precision: 0.3746, Recall: 0.1092, Revenue: 0.0689\n",
      "Checking top 2% suspicious transactions: 1419\n",
      "Precision: 0.3594, Recall: 0.2094, Revenue: 0.1213\n",
      "Checking top 5% suspicious transactions: 3540\n",
      "Precision: 0.3223, Recall: 0.4686, Revenue: 0.2563\n",
      "Checking top 10% suspicious transactions: 7061\n",
      "Precision: 0.2039, Recall: 0.5914, Revenue: 0.3484\n"
     ]
    },
    {
     "data": {
      "application/vnd.jupyter.widget-view+json": {
       "model_id": "",
       "version_major": 2,
       "version_minor": 0
      },
      "text/plain": [
       "HBox(children=(HTML(value='Validating'), FloatProgress(value=1.0, bar_style='info', layout=Layout(flex='2'), m…"
      ]
     },
     "metadata": {},
     "output_type": "display_data"
    },
    {
     "name": "stdout",
     "output_type": "stream",
     "text": [
      "Checking top 1% suspicious transactions: 710\n",
      "Precision: 0.3606, Recall: 0.1051, Revenue: 0.0690\n",
      "Checking top 2% suspicious transactions: 1419\n",
      "Precision: 0.3573, Recall: 0.2082, Revenue: 0.1221\n",
      "Checking top 5% suspicious transactions: 3546\n",
      "Precision: 0.3204, Recall: 0.4665, Revenue: 0.2689\n",
      "Checking top 10% suspicious transactions: 7003\n",
      "Precision: 0.2018, Recall: 0.5803, Revenue: 0.3387\n",
      "\n"
     ]
    },
    {
     "data": {
      "text/plain": [
       "1"
      ]
     },
     "execution_count": 32,
     "metadata": {},
     "output_type": "execute_result"
    }
   ],
   "source": [
    "# model config\n",
    "seed_everything(5674)\n",
    "input_dim = gdata.leaf_dim\n",
    "hidden_size = 32\n",
    "sizes = [-1,200]\n",
    "numLayers = len(sizes)\n",
    "batch_size = 512\n",
    "pretrain_path = \"./saved_model/pretrained.ckpt\"\n",
    "\n",
    "predictor = Predictor(input_dim, hidden_size, numLayers)\n",
    "predictor.loadGNN_state(model)\n",
    "# predictor.load_fromPretrain(pretrain_path)\n",
    "predictor.data = data\n",
    "\n",
    "# lightning config\n",
    "stacked_data = StackData(trainLab_data,unlab_data,valid_data, test_data)\n",
    "datamodule = CustomData(stacked_data, sizes = sizes, batch_size=batch_size)\n",
    "logger = TensorBoardLogger(\"ssl_exp\",name=\"Tdata\")\n",
    "logger.log_hyperparams(model.hparams, metrics={\"F1-top\":0})\n",
    "checkpoint_callback = ModelCheckpoint(\n",
    "    monitor='F1-top',    \n",
    "    dirpath='./saved_model',\n",
    "    filename='Analysis-Tdata5-{F1-top:.4f}',\n",
    "    save_top_k=1,\n",
    "    mode='max',\n",
    ")\n",
    "trainer = Trainer(gpus=[1], max_epochs=40,\n",
    "                 num_sanity_val_steps=0,\n",
    "                  check_val_every_n_epoch=1,\n",
    "                  callbacks=[checkpoint_callback],\n",
    "                 )\n",
    "trainer.fit(predictor, datamodule=datamodule)"
   ]
  },
  {
   "cell_type": "code",
   "execution_count": 33,
   "metadata": {
    "scrolled": true
   },
   "outputs": [
    {
     "data": {
      "application/vnd.jupyter.widget-view+json": {
       "model_id": "e1219db123e749c9bec8809ca33df3d2",
       "version_major": 2,
       "version_minor": 0
      },
      "text/plain": [
       "HBox(children=(HTML(value='Testing'), FloatProgress(value=1.0, bar_style='info', layout=Layout(flex='2'), max=…"
      ]
     },
     "metadata": {},
     "output_type": "display_data"
    },
    {
     "name": "stdout",
     "output_type": "stream",
     "text": [
      "Checking top 1% suspicious transactions: 2749\n",
      "Precision: 0.3965, Recall: 0.1604, Revenue: 0.1398\n",
      "Checking top 2% suspicious transactions: 5497\n",
      "Precision: 0.3955, Recall: 0.3198, Revenue: 0.2228\n",
      "Checking top 5% suspicious transactions: 13741\n",
      "Precision: 0.2857, Recall: 0.5776, Revenue: 0.3950\n",
      "Checking top 10% suspicious transactions: 27481\n",
      "Precision: 0.1666, Recall: 0.6735, Revenue: 0.4737\n",
      "\n",
      "--------------------------------------------------------------------------------\n",
      "DATALOADER:0 TEST RESULTS\n",
      "{'F1-top': 0.30786554154637824,\n",
      " 'Test/F1@1': 0.22836790278650743,\n",
      " 'Test/F1@10': 0.26711009977244876,\n",
      " 'Test/F1@2': 0.35366845615747516,\n",
      " 'Test/F1@5': 0.38231570746908167,\n",
      " 'Test/Pr@1': 0.3965078210258276,\n",
      " 'Test/Pr@10': 0.16658782431498126,\n",
      " 'Test/Pr@2': 0.39548844824449697,\n",
      " 'Test/Pr@5': 0.2857142857142857,\n",
      " 'Test/Re@1': 0.1603648668530234,\n",
      " 'Test/Re@10': 0.6735324407826982,\n",
      " 'Test/Re@2': 0.31984699131969985,\n",
      " 'Test/Re@5': 0.5776077681329999,\n",
      " 'Test/Rev@1': 0.1398259733054742,\n",
      " 'Test/Rev@10': 0.4737276623781135,\n",
      " 'Test/Rev@2': 0.22284642973679733,\n",
      " 'Test/Rev@5': 0.39500999701544054,\n",
      " 'Val/F1-top': 0.27629969836209844,\n",
      " 'Val/F1@1': 0.16279809220985691,\n",
      " 'Val/F1@10': 0.2994278448823903,\n",
      " 'Val/F1@2': 0.2631032693305656,\n",
      " 'Val/F1@5': 0.379869587025581,\n",
      " 'Val/Pr@1': 0.36056338028169016,\n",
      " 'Val/Pr@10': 0.20177066971298016,\n",
      " 'Val/Pr@2': 0.3572938689217759,\n",
      " 'Val/Pr@5': 0.320360970107163,\n",
      " 'Val/Re@1': 0.10513347022587269,\n",
      " 'Val/Re@10': 0.5802874743326488,\n",
      " 'Val/Re@2': 0.2082135523613963,\n",
      " 'Val/Re@5': 0.46652977412731006,\n",
      " 'Val/Rev@1': 0.0689652404634378,\n",
      " 'Val/Rev@10': 0.338659646555767,\n",
      " 'Val/Rev@2': 0.12210054940479408,\n",
      " 'Val/Rev@5': 0.2688933461472034,\n",
      " 'val_loss': tensor(1.4028, device='cuda:1'),\n",
      " 'val_loss_epoch': tensor(3.0153, device='cuda:1')}\n",
      "--------------------------------------------------------------------------------\n"
     ]
    },
    {
     "data": {
      "text/plain": [
       "[{'Test/F1@1': 0.22836790278650743,\n",
       "  'Test/F1@2': 0.35366845615747516,\n",
       "  'Test/F1@5': 0.38231570746908167,\n",
       "  'Test/F1@10': 0.26711009977244876,\n",
       "  'Test/Pr@1': 0.3965078210258276,\n",
       "  'Test/Pr@2': 0.39548844824449697,\n",
       "  'Test/Pr@5': 0.2857142857142857,\n",
       "  'Test/Pr@10': 0.16658782431498126,\n",
       "  'Test/Re@1': 0.1603648668530234,\n",
       "  'Test/Re@2': 0.31984699131969985,\n",
       "  'Test/Re@5': 0.5776077681329999,\n",
       "  'Test/Re@10': 0.6735324407826982,\n",
       "  'Test/Rev@1': 0.1398259733054742,\n",
       "  'Test/Rev@2': 0.22284642973679733,\n",
       "  'Test/Rev@5': 0.39500999701544054,\n",
       "  'Test/Rev@10': 0.4737276623781135,\n",
       "  'F1-top': 0.30786554154637824,\n",
       "  'val_loss_epoch': 3.0153324604034424,\n",
       "  'val_loss': 1.4027796983718872,\n",
       "  'Val/F1-top': 0.27629969836209844,\n",
       "  'Val/F1@1': 0.16279809220985691,\n",
       "  'Val/F1@2': 0.2631032693305656,\n",
       "  'Val/F1@5': 0.379869587025581,\n",
       "  'Val/F1@10': 0.2994278448823903,\n",
       "  'Val/Pr@1': 0.36056338028169016,\n",
       "  'Val/Pr@2': 0.3572938689217759,\n",
       "  'Val/Pr@5': 0.320360970107163,\n",
       "  'Val/Pr@10': 0.20177066971298016,\n",
       "  'Val/Re@1': 0.10513347022587269,\n",
       "  'Val/Re@2': 0.2082135523613963,\n",
       "  'Val/Re@5': 0.46652977412731006,\n",
       "  'Val/Re@10': 0.5802874743326488,\n",
       "  'Val/Rev@1': 0.0689652404634378,\n",
       "  'Val/Rev@2': 0.12210054940479408,\n",
       "  'Val/Rev@5': 0.2688933461472034,\n",
       "  'Val/Rev@10': 0.338659646555767}]"
      ]
     },
     "execution_count": 33,
     "metadata": {},
     "output_type": "execute_result"
    }
   ],
   "source": [
    "trainer.test()"
   ]
  },
  {
   "cell_type": "code",
   "execution_count": null,
   "metadata": {},
   "outputs": [],
   "source": [
    " "
   ]
  }
 ],
 "metadata": {
  "kernelspec": {
   "display_name": "Python 3",
   "language": "python",
   "name": "python3"
  },
  "language_info": {
   "codemirror_mode": {
    "name": "ipython",
    "version": 3
   },
   "file_extension": ".py",
   "mimetype": "text/x-python",
   "name": "python",
   "nbconvert_exporter": "python",
   "pygments_lexer": "ipython3",
   "version": "3.8.6"
  }
 },
 "nbformat": 4,
 "nbformat_minor": 4
}
