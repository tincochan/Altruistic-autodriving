{
 "cells": [
  {
   "cell_type": "code",
   "execution_count": 1,
   "metadata": {},
   "outputs": [],
   "source": [
    "import dataset\n",
    "import datetime\n",
    "from datetime import timedelta\n",
    "from parser import get_parser\n",
    "import numpy as np \n",
    "import pandas as pd \n",
    "import torch\n",
    "from pytorch_lightning import Trainer\n",
    "from torch_geometric.utils import to_undirected"
   ]
  },
  {
   "cell_type": "markdown",
   "metadata": {},
   "source": [
    "## Load data"
   ]
  },
  {
   "cell_type": "code",
   "execution_count": 2,
   "metadata": {},
   "outputs": [],
   "source": [
    "data = dataset.Ndata(path='../Custom-Semi-Supervised/data/ndata.csv')\n",
    "parser = get_parser()\n",
    "args = parser.parse_args(args=\n",
    "                         [\"--data\",\"real-n\", \n",
    "                          \"--sampling\",\"xgb\",\n",
    "                          \"--mode\",\"scratch\",\n",
    "                          \"--train_from\",\"20140101\",\n",
    "                          \"--test_from\",\"20170101\",\n",
    "                          \"--test_length\",\"365\",\n",
    "                          \"--valid_length\",\"90\",\n",
    "                          \"--initial_inspection_rate\", \"5\",\n",
    "                          \"--final_inspection_rate\", \"10\",\n",
    "                         ])"
   ]
  },
  {
   "cell_type": "code",
   "execution_count": 3,
   "metadata": {},
   "outputs": [
    {
     "name": "stdout",
     "output_type": "stream",
     "text": [
      "Data size:\n",
      "Train labeled: (54134, 52), Train unlabeled: (1028538, 52), Valid labeled: (70917, 52), Valid unlabeled: (0, 26), Test: (274808, 52)\n",
      "Checking label distribution\n",
      "Training: 0.05022795615481618\n",
      "Validation: 0.035556788645191434\n",
      "Testing: 0.025360899366070794\n"
     ]
    }
   ],
   "source": [
    "# args\n",
    "seed = args.seed\n",
    "epochs = args.epoch\n",
    "dim = args.dim\n",
    "lr = args.lr\n",
    "weight_decay = args.l2\n",
    "initial_inspection_rate = args.initial_inspection_rate\n",
    "inspection_rate_option = args.inspection_plan\n",
    "mode = args.mode\n",
    "train_begin = args.train_from \n",
    "test_begin = args.test_from\n",
    "test_length = args.test_length\n",
    "valid_length = args.valid_length\n",
    "chosen_data = args.data\n",
    "numWeeks = args.numweeks\n",
    "semi_supervised = args.semi_supervised\n",
    "save = args.save\n",
    "gpu_id = args.device\n",
    "\n",
    "# Initial dataset split\n",
    "np.random.seed(seed)\n",
    "torch.manual_seed(seed)\n",
    "if torch.cuda.is_available():\n",
    "    torch.cuda.manual_seed(seed)\n",
    "\n",
    "# Initial dataset split\n",
    "train_start_day = datetime.date(int(train_begin[:4]), int(train_begin[4:6]), int(train_begin[6:8]))\n",
    "test_start_day = datetime.date(int(test_begin[:4]), int(test_begin[4:6]), int(test_begin[6:8]))\n",
    "test_length = timedelta(days=test_length)    \n",
    "test_end_day = test_start_day + test_length\n",
    "valid_length = timedelta(days=valid_length)\n",
    "valid_start_day = test_start_day - valid_length\n",
    "\n",
    "# data\n",
    "data.split(train_start_day, valid_start_day, test_start_day, test_end_day, valid_length, test_length, args)\n",
    "data.featureEngineering()"
   ]
  },
  {
   "cell_type": "markdown",
   "metadata": {},
   "source": [
    "## Prepare DATA"
   ]
  },
  {
   "cell_type": "code",
   "execution_count": 4,
   "metadata": {},
   "outputs": [],
   "source": [
    "from utils import *\n",
    "from pygData_util import *"
   ]
  },
  {
   "cell_type": "code",
   "execution_count": 5,
   "metadata": {},
   "outputs": [
    {
     "name": "stdout",
     "output_type": "stream",
     "text": [
      "Training XGBoost model...\n"
     ]
    }
   ],
   "source": [
    "categories=[\"importer.id\",\"HS6\"]\n",
    "gdata = GraphData(data,use_xgb=True, categories=categories)"
   ]
  },
  {
   "cell_type": "code",
   "execution_count": 6,
   "metadata": {},
   "outputs": [
    {
     "name": "stdout",
     "output_type": "stream",
     "text": [
      "Checking top 1% suspicious transactions: 710\n",
      "Precision: 0.2915, Recall: 0.0850, Revenue: 0.0443\n",
      "Checking top 2% suspicious transactions: 1419\n",
      "Precision: 0.1677, Recall: 0.0977, Revenue: 0.0501\n",
      "Checking top 5% suspicious transactions: 3546\n",
      "Precision: 0.0832, Recall: 0.1211, Revenue: 0.0844\n",
      "Checking top 10% suspicious transactions: 7092\n",
      "Precision: 0.0495, Recall: 0.1441, Revenue: 0.1336\n",
      "--------------------------------------------------\n",
      "Checking top 1% suspicious transactions: 2749\n",
      "Precision: 0.1404, Recall: 0.0568, Revenue: 0.0942\n",
      "Checking top 2% suspicious transactions: 5497\n",
      "Precision: 0.0871, Recall: 0.0705, Revenue: 0.1269\n",
      "Checking top 5% suspicious transactions: 13741\n",
      "Precision: 0.0442, Recall: 0.0893, Revenue: 0.1859\n",
      "Checking top 10% suspicious transactions: 27481\n",
      "Precision: 0.0888, Recall: 0.3590, Revenue: 0.3713\n"
     ]
    }
   ],
   "source": [
    "best_thresh, best_auc = find_best_threshold(gdata.xgb,data.dfvalidx_lab, data.valid_cls_label)\n",
    "xgb_test_pred = gdata.xgb.predict_proba(data.dfvalidx_lab)[:,-1]\n",
    "overall_f1,auc,pr, re, f, rev = metrics(xgb_test_pred, data.valid_cls_label,data.valid_reg_label,best_thresh)\n",
    "print(\"-\"*50)\n",
    "xgb_test_pred = gdata.xgb.predict_proba(data.dftestx)[:,-1]\n",
    "overall_f1,auc,pr, re, f, rev = metrics(xgb_test_pred, data.test_cls_label,data.test_reg_label,best_thresh)"
   ]
  },
  {
   "cell_type": "code",
   "execution_count": 7,
   "metadata": {},
   "outputs": [],
   "source": [
    "stage = \"train_lab\"\n",
    "trainLab_data = gdata.get_data(stage)\n",
    "train_nodeidx = torch.tensor(gdata.get_AttNode(stage))\n",
    "trainLab_data.node_idx = train_nodeidx"
   ]
  },
  {
   "cell_type": "code",
   "execution_count": 8,
   "metadata": {},
   "outputs": [],
   "source": [
    "stage = \"train_unlab\"\n",
    "unlab_data = gdata.get_data(stage)\n",
    "unlab_nodeidx = torch.tensor(gdata.get_AttNode(stage))\n",
    "unlab_data.node_idx = unlab_nodeidx"
   ]
  },
  {
   "cell_type": "code",
   "execution_count": 9,
   "metadata": {},
   "outputs": [],
   "source": [
    "stage = \"valid\"\n",
    "valid_data = gdata.get_data(stage)\n",
    "valid_nodeidx = torch.tensor(gdata.get_AttNode(stage))\n",
    "valid_data.node_idx = valid_nodeidx"
   ]
  },
  {
   "cell_type": "code",
   "execution_count": 10,
   "metadata": {},
   "outputs": [],
   "source": [
    "stage = \"test\"\n",
    "test_data = gdata.get_data(stage)\n",
    "test_nodeidx = torch.tensor(gdata.get_AttNode(stage))\n",
    "test_data.node_idx = test_nodeidx"
   ]
  },
  {
   "cell_type": "code",
   "execution_count": 11,
   "metadata": {},
   "outputs": [],
   "source": [
    "stacked_data = StackData(trainLab_data,unlab_data,valid_data, test_data)"
   ]
  },
  {
   "cell_type": "markdown",
   "metadata": {},
   "source": [
    "## New Sampler"
   ]
  },
  {
   "cell_type": "code",
   "execution_count": 12,
   "metadata": {},
   "outputs": [],
   "source": [
    "from torch_cluster import random_walk\n",
    "from torch_geometric.data import NeighborSampler \n",
    "from pytorch_lightning import LightningDataModule"
   ]
  },
  {
   "cell_type": "code",
   "execution_count": 13,
   "metadata": {},
   "outputs": [],
   "source": [
    "class UnsupSampler(NeighborSampler):\n",
    "    def sample(self, batch):\n",
    "        batch = torch.tensor(batch)\n",
    "        row, col, _ = self.adj_t.coo()\n",
    "\n",
    "        # For each node in `batch`, we sample a direct neighbor (as positive\n",
    "        # example) and a random node (as negative example):\n",
    "        pos_batch = random_walk(row, col, batch, walk_length=1,\n",
    "                                coalesced=False)[:, 1]\n",
    "\n",
    "        neg_batch = torch.randint(0, self.adj_t.size(1), (batch.numel(), ),\n",
    "                                  dtype=torch.long)\n",
    "\n",
    "        batch = torch.cat([batch, pos_batch, neg_batch], dim=0)\n",
    "        return super(UnsupSampler, self).sample(batch)"
   ]
  },
  {
   "cell_type": "code",
   "execution_count": 14,
   "metadata": {},
   "outputs": [],
   "source": [
    "class Batch(NamedTuple):\n",
    "    '''\n",
    "    convert batch data for pytorch-lightning\n",
    "    '''\n",
    "    x: Tensor\n",
    "    y: Tensor\n",
    "    rev: Tensor\n",
    "    adjs_t: NamedTuple\n",
    "    def to(self, *args, **kwargs):\n",
    "        return Batch(\n",
    "            x=self.x.to(*args, **kwargs),\n",
    "            y=self.y.to(*args, **kwargs),\n",
    "            rev=self.rev.to(*args, **kwargs),\n",
    "            adjs_t=[(adj_t.to(*args, **kwargs), eid.to(*args, **kwargs), size) for adj_t, eid, size in self.adjs_t],\n",
    "        )\n"
   ]
  },
  {
   "cell_type": "code",
   "execution_count": 15,
   "metadata": {},
   "outputs": [],
   "source": [
    "class UnsupData(LightningDataModule):\n",
    "    def __init__(self,data,sizes, batch_size = 128):\n",
    "        '''\n",
    "        defining dataloader with NeighborSampler to extract k-hop subgraph.\n",
    "        Args:\n",
    "            data (Graphdata): graph data for the edges and node index\n",
    "            sizes ([int]): The number of neighbors to sample for each node in each layer. \n",
    "                           If set to :obj:`sizes[l] = -1`, all neighbors are included\n",
    "            batch_size (int): batch size for training\n",
    "        '''\n",
    "        super(UnsupData,self).__init__()\n",
    "        self.data = data\n",
    "        self.sizes = sizes\n",
    "        self.valid_sizes = [-1 for i in self.sizes]\n",
    "        self.batch_size = batch_size\n",
    "\n",
    "    def train_dataloader(self):\n",
    "        return UnsupSampler(self.data.test_edge, sizes=self.sizes,\n",
    "                               batch_size=self.batch_size,transform=self.convert_batch,\n",
    "                               shuffle=True,num_workers=8)\n",
    "    \n",
    "    def test_dataloader(self):\n",
    "        return UnsupSampler(self.data.test_edge, sizes=self.sizes,node_idx=self.data.test_idx,\n",
    "                               batch_size=self.batch_size,transform=self.convert_batch,\n",
    "                               shuffle=False,num_workers=8)\n",
    "    \n",
    "    def label_loader(self):\n",
    "        return UnsupSampler(self.data.test_edge, sizes=self.sizes,node_idx=self.data.train_idx,\n",
    "                               batch_size=self.batch_size,transform=self.convert_batch,\n",
    "                               shuffle=False,num_workers=8)\n",
    "\n",
    "    def convert_batch(self, batch_size, n_id, adjs):\n",
    "        return Batch(\n",
    "            x=self.data.x[n_id],\n",
    "            y=self.data.y[n_id[:batch_size]],\n",
    "            rev = self.data.rev[n_id[:batch_size]],\n",
    "            adjs_t=adjs,\n",
    "        )"
   ]
  },
  {
   "cell_type": "markdown",
   "metadata": {},
   "source": [
    "## Model"
   ]
  },
  {
   "cell_type": "code",
   "execution_count": 16,
   "metadata": {},
   "outputs": [],
   "source": [
    "from models import MLP, GNNStack, UselessConv, Mish"
   ]
  },
  {
   "cell_type": "code",
   "execution_count": 17,
   "metadata": {},
   "outputs": [],
   "source": [
    "from pytorch_lightning.callbacks import ModelCheckpoint, EarlyStopping\n",
    "from pytorch_lightning import LightningModule, seed_everything\n",
    "from torchtools.optim import RangerLars\n",
    "from pytorch_lightning.loggers import TensorBoardLogger\n",
    "import torch\n",
    "import torch.nn as nn\n",
    "import torch.nn.functional as F"
   ]
  },
  {
   "cell_type": "code",
   "execution_count": 18,
   "metadata": {},
   "outputs": [],
   "source": [
    "class PretrainGNN(LightningModule):\n",
    "    def __init__(self,input_dim, hidden_dim, numLayers, useXGB=True):\n",
    "        super().__init__()\n",
    "        self.save_hyperparameters()\n",
    "        self.input_dim = input_dim\n",
    "        self.dim = hidden_dim*2\n",
    "        self.numLayers = numLayers\n",
    "        self.layers = [self.dim, self.dim//2] #* (numLayers+1)\n",
    "        self.bn = nn.BatchNorm1d(self.dim)\n",
    "        self.act = Mish()\n",
    "        self.useXGB = useXGB\n",
    "        \n",
    "        # GNN layer\n",
    "        if self.useXGB:\n",
    "            self.initEmbedding = nn.Embedding(self.input_dim, self.dim, padding_idx=0)\n",
    "        else:\n",
    "            self.initEmbedding = MLP(self.input_dim, self.dim, Numlayer=2)\n",
    "        self.initGNN = UselessConv()\n",
    "        self.GNNs = GNNStack(self.layers,self.numLayers)\n",
    "\n",
    "    def forward(self, x,adjs):\n",
    "        # update node embedding\n",
    "        leaf_emb = self.initEmbedding(x)\n",
    "        if self.useXGB:\n",
    "            leaf_emb = torch.sum(leaf_emb,dim=1) # summation over the trees\n",
    "            leaf_emb = self.bn(leaf_emb)\n",
    "            leaf_emb = self.act(leaf_emb)\n",
    "        \n",
    "        # first update \n",
    "        firstHop_neighbor = adjs[-1][0]\n",
    "        leaf_emb = self.initGNN(leaf_emb,to_undirected(firstHop_neighbor))\n",
    "        \n",
    "        # GNN \n",
    "        embeddings = self.GNNs(leaf_emb, adjs)\n",
    "        \n",
    "        return embeddings[-1]\n",
    "    \n",
    "    def training_step(self, batch, batch_idx: int):\n",
    "        out = self(batch.x, batch.adjs_t)\n",
    "        out, pos_out, neg_out = out.split(out.size(0) // 3, dim=0)\n",
    "        pos_loss = F.logsigmoid((out * pos_out).sum(-1)).mean()\n",
    "        neg_loss = F.logsigmoid(-(out * neg_out).sum(-1)).mean()\n",
    "        train_loss = -pos_loss - neg_loss\n",
    "        self.log('train_loss', train_loss)\n",
    "        return train_loss\n",
    "    \n",
    "    def test_step(self, batch, batch_idx: int):\n",
    "        out = self(batch.x, batch.adjs_t)\n",
    "        out, pos_out, neg_out = out.split(out.size(0) // 3, dim=0)\n",
    "        return out\n",
    "    \n",
    "    def test_epoch_end(self, val_step_outputs):\n",
    "        val_step_outputs = torch.cat(val_step_outputs)\n",
    "        val_step_outputs = val_step_outputs.cpu().detach().numpy()\n",
    "        return {\"log\":{\"predictions\":val_step_outputs}}\n",
    "    \n",
    "    def configure_optimizers(self):\n",
    "        optimizer = RangerLars(self.parameters(), lr=0.01, weight_decay=0.0001)\n",
    "        scheduler = torch.optim.lr_scheduler.ExponentialLR(optimizer,gamma=0.8)\n",
    "        return [optimizer], [scheduler]"
   ]
  },
  {
   "cell_type": "code",
   "execution_count": 19,
   "metadata": {
    "scrolled": false
   },
   "outputs": [
    {
     "name": "stderr",
     "output_type": "stream",
     "text": [
      "GPU available: True, used: True\n",
      "TPU available: None, using: 0 TPU cores\n",
      "LOCAL_RANK: 0 - CUDA_VISIBLE_DEVICES: [0,1,2,3]\n",
      "\n",
      "  | Name          | Type        | Params\n",
      "----------------------------------------------\n",
      "0 | bn            | BatchNorm1d | 128   \n",
      "1 | act           | Mish        | 0     \n",
      "2 | initEmbedding | Embedding   | 86.1 K\n",
      "3 | initGNN       | UselessConv | 0     \n",
      "4 | GNNs          | GNNStack    | 33.5 K\n",
      "----------------------------------------------\n",
      "119 K     Trainable params\n",
      "0         Non-trainable params\n",
      "119 K     Total params\n"
     ]
    },
    {
     "data": {
      "application/vnd.jupyter.widget-view+json": {
       "model_id": "3d4777a0ea2c49c3a26b233d1abddfc3",
       "version_major": 2,
       "version_minor": 0
      },
      "text/plain": [
       "HBox(children=(HTML(value='Training'), FloatProgress(value=1.0, bar_style='info', layout=Layout(flex='2'), max…"
      ]
     },
     "metadata": {},
     "output_type": "display_data"
    },
    {
     "name": "stdout",
     "output_type": "stream",
     "text": [
      "\n"
     ]
    },
    {
     "data": {
      "text/plain": [
       "1"
      ]
     },
     "execution_count": 19,
     "metadata": {},
     "output_type": "execute_result"
    }
   ],
   "source": [
    "# model config\n",
    "seed_everything(2345)\n",
    "input_dim = gdata.leaf_dim\n",
    "hidden_size = 32\n",
    "sizes = [50,20]\n",
    "numLayers = len(sizes)\n",
    "batch_size = 1024\n",
    "\n",
    "model = PretrainGNN(input_dim, hidden_size, numLayers, useXGB=gdata.use_xgb)\n",
    "\n",
    "# lightning config\n",
    "stacked_data = StackData(trainLab_data,unlab_data,valid_data, test_data)\n",
    "datamodule = UnsupData(stacked_data, sizes = sizes, batch_size=batch_size)\n",
    "checkpoint_callback = ModelCheckpoint(\n",
    "    monitor='train_loss',    \n",
    "    dirpath='./saved_model',\n",
    "    filename='Tdata5-pretrain-{train_loss:.4f}',\n",
    "    save_top_k=1,\n",
    "    mode='min',\n",
    ")\n",
    "trainer = Trainer(gpus=[0], max_epochs=3,\n",
    "#                   callbacks=[checkpoint_callback],\n",
    "                 )\n",
    "trainer.fit(model, train_dataloader=datamodule.train_dataloader(),\n",
    "           )"
   ]
  },
  {
   "cell_type": "code",
   "execution_count": 20,
   "metadata": {},
   "outputs": [
    {
     "data": {
      "text/plain": [
       "1"
      ]
     },
     "execution_count": 20,
     "metadata": {},
     "output_type": "execute_result"
    }
   ],
   "source": [
    "trainer.test()"
   ]
  },
  {
   "cell_type": "code",
   "execution_count": 21,
   "metadata": {},
   "outputs": [],
   "source": [
    "# trainer.save_checkpoint(\"./saved_model/pretrained.ckpt\")"
   ]
  },
  {
   "cell_type": "code",
   "execution_count": 22,
   "metadata": {},
   "outputs": [],
   "source": [
    "from tqdm import tqdm_notebook"
   ]
  },
  {
   "cell_type": "code",
   "execution_count": 23,
   "metadata": {},
   "outputs": [
    {
     "data": {
      "application/vnd.jupyter.widget-view+json": {
       "model_id": "4d84cfa8904d4883a079a79a3de709de",
       "version_major": 2,
       "version_minor": 0
      },
      "text/plain": [
       "HBox(children=(HTML(value=''), FloatProgress(value=0.0, max=269.0), HTML(value='')))"
      ]
     },
     "metadata": {},
     "output_type": "display_data"
    },
    {
     "name": "stdout",
     "output_type": "stream",
     "text": [
      "\n"
     ]
    }
   ],
   "source": [
    "test_embeddings = []\n",
    "for batch in tqdm_notebook(datamodule.test_dataloader()):\n",
    "    batch = batch.to(model.device)\n",
    "    out = model(batch.x, batch.adjs_t)\n",
    "    out, pos_out, neg_out = out.split(out.size(0) // 3, dim=0)\n",
    "    test_embeddings.append(out.cpu().detach().numpy())"
   ]
  },
  {
   "cell_type": "code",
   "execution_count": 24,
   "metadata": {},
   "outputs": [
    {
     "data": {
      "application/vnd.jupyter.widget-view+json": {
       "model_id": "e3aba3451cb745559a02fb9c49c64c97",
       "version_major": 2,
       "version_minor": 0
      },
      "text/plain": [
       "HBox(children=(HTML(value=''), FloatProgress(value=0.0, max=53.0), HTML(value='')))"
      ]
     },
     "metadata": {},
     "output_type": "display_data"
    },
    {
     "name": "stdout",
     "output_type": "stream",
     "text": [
      "\n"
     ]
    }
   ],
   "source": [
    "embeddings = []\n",
    "for batch in tqdm_notebook(datamodule.label_loader()):\n",
    "    batch = batch.to(model.device)\n",
    "    out = model(batch.x, batch.adjs_t)\n",
    "    out, pos_out, neg_out = out.split(out.size(0) // 3, dim=0)\n",
    "    embeddings.append(out.cpu().detach().numpy())"
   ]
  },
  {
   "cell_type": "code",
   "execution_count": 25,
   "metadata": {},
   "outputs": [],
   "source": [
    "embeddings = np.concatenate(embeddings)\n",
    "test_embeddings = np.concatenate(test_embeddings)"
   ]
  },
  {
   "cell_type": "code",
   "execution_count": 26,
   "metadata": {},
   "outputs": [],
   "source": [
    "from sklearn.linear_model import LogisticRegression"
   ]
  },
  {
   "cell_type": "code",
   "execution_count": 30,
   "metadata": {},
   "outputs": [
    {
     "data": {
      "text/plain": [
       "LogisticRegression(class_weight={0: 1, 1: 50})"
      ]
     },
     "execution_count": 30,
     "metadata": {},
     "output_type": "execute_result"
    }
   ],
   "source": [
    "lr = LogisticRegression(class_weight={1:50,0:1})\n",
    "lr.fit(embeddings,data.train_cls_label)"
   ]
  },
  {
   "cell_type": "code",
   "execution_count": 31,
   "metadata": {},
   "outputs": [],
   "source": [
    "y_prob = lr.predict_proba(test_embeddings)[:,1]"
   ]
  },
  {
   "cell_type": "code",
   "execution_count": 32,
   "metadata": {},
   "outputs": [
    {
     "name": "stdout",
     "output_type": "stream",
     "text": [
      "Checking top 1% suspicious transactions: 2749\n",
      "Precision: 0.0382, Recall: 0.0154, Revenue: 0.0240\n",
      "Checking top 2% suspicious transactions: 5497\n",
      "Precision: 0.0326, Recall: 0.0263, Revenue: 0.0348\n",
      "Checking top 5% suspicious transactions: 13741\n",
      "Precision: 0.0313, Recall: 0.0633, Revenue: 0.0959\n",
      "Checking top 10% suspicious transactions: 27481\n",
      "Precision: 0.0309, Recall: 0.1248, Revenue: 0.2028\n"
     ]
    }
   ],
   "source": [
    "_ = metrics(y_prob, data.test_cls_label,data.test_reg_label,None)"
   ]
  },
  {
   "cell_type": "markdown",
   "metadata": {},
   "source": [
    "## Fine tuning"
   ]
  },
  {
   "cell_type": "code",
   "execution_count": 33,
   "metadata": {},
   "outputs": [],
   "source": [
    "from torch_geometric.nn import GATConv,TransformerConv\n",
    "from pygData_util import *"
   ]
  },
  {
   "cell_type": "code",
   "execution_count": 34,
   "metadata": {},
   "outputs": [],
   "source": [
    "class Predictor(LightningModule):\n",
    "    def __init__(self,input_dim, hidden_dim, numLayers, useXGB=True):\n",
    "        super().__init__()\n",
    "        self.gnn_encoder = PretrainGNN(input_dim, hidden_size, numLayers, useXGB)\n",
    "        self.dim = hidden_dim * 2\n",
    "        \n",
    "        # output\n",
    "        self.clsLayer = nn.Linear(self.dim,1) #GATConv(self.dim,1)\n",
    "        self.revLayer = nn.Linear(self.dim,1) #GATConv(self.dim,1)\n",
    "        self.loss_func = nn.BCEWithLogitsLoss(pos_weight = torch.tensor([20])) #FocalLoss(logits=True)\n",
    "        \n",
    "    def load_fromPretrain(self,path):\n",
    "        self.gnn_encoder.load_from_checkpoint(path)\n",
    "        \n",
    "    def loadGNN_state(self,model):\n",
    "        self.gnn_encoder.load_state_dict(model.state_dict())\n",
    "\n",
    "    def forward(self, x,adjs):\n",
    "#         firstHop_neighbor = adjs[-1][0]\n",
    "        # get node embedding from pre-trained model\n",
    "        embedding = self.gnn_encoder(x,adjs)\n",
    "        logit = self.clsLayer(embedding)\n",
    "        revenue = self.revLayer(embedding)\n",
    "        \n",
    "        return logit, revenue\n",
    "    \n",
    "    def compute_CLS_loss(self,logit, label):\n",
    "        logit = logit.flatten()\n",
    "        loss = self.loss_func(logit,label)\n",
    "        return loss\n",
    "    \n",
    "    def compute_REG_loss(self,pred_rev, rev):\n",
    "        pred_rev = pred_rev.flatten()\n",
    "        loss = F.mse_loss(pred_rev,rev)\n",
    "        return loss \n",
    "\n",
    "    def training_step(self, batch, batch_idx: int):\n",
    "        logits, revenues = self(batch.x, batch.adjs_t)\n",
    "        CLS_loss = self.compute_CLS_loss(logits, batch.y)  \n",
    "        REG_loss = self.compute_REG_loss(revenues, batch.rev)\n",
    "        train_loss = CLS_loss + 10 * REG_loss\n",
    "        self.log('train_loss', train_loss)\n",
    "        return train_loss\n",
    "    \n",
    "    def validation_step(self, batch, batch_idx: int):\n",
    "        logits, revenues = self(batch.x, batch.adjs_t)\n",
    "        CLS_loss = self.compute_CLS_loss(logits, batch.y)  \n",
    "        REG_loss = self.compute_REG_loss(revenues, batch.rev)\n",
    "        valid_loss = CLS_loss + 1 * REG_loss\n",
    "        self.log('val_loss', valid_loss, on_step=True, on_epoch=True, sync_dist=True)\n",
    "        return logits\n",
    "    \n",
    "    def validation_epoch_end(self, val_step_outputs):\n",
    "        predictions = torch.cat(val_step_outputs).detach().cpu().numpy().ravel()\n",
    "        f,pr, re, rev = torch_metrics(predictions, self.data.valid_cls_label, self.data.valid_reg_label)\n",
    "        f1_top = np.mean(f)\n",
    "        self.log(\"F1-top\",f1_top)\n",
    "        performance = [*f, *pr, *re, *rev]\n",
    "        name_performance = [\"F1@1\",\"F1@2\",\"F1@5\",\"F1@10\",\"Pr@1\",\"Pr@2\",\"Pr@5\",\"Pr@10\",\n",
    "                            \"Re@1\",\"Re@2\",\"Re@5\",\"Re@10\",\"Rev@1\",\"Rev@2\",\"Rev@5\",\"Rev@10\"]\n",
    "        name_performance = [\"Val/\"+i for i in name_performance]\n",
    "        tensorboard_logs = dict(zip(name_performance,performance))\n",
    "        return {\"Val/F1-top\":f1_top, \"log\":tensorboard_logs}\n",
    "        \n",
    "    def test_step(self,batch, batch_idx):\n",
    "        return self.validation_step(batch, batch_idx)\n",
    "    \n",
    "    def test_epoch_end(self,val_step_outputs):\n",
    "        predictions = torch.cat(val_step_outputs).detach().cpu().numpy().ravel()\n",
    "        f,pr, re, rev = torch_metrics(predictions, self.data.test_cls_label, self.data.test_reg_label)\n",
    "        f1_top = np.mean(f)\n",
    "        performance = [*f, *pr, *re, *rev]\n",
    "        name_performance = [\"F1@1\",\"F1@2\",\"F1@5\",\"F1@10\",\"Pr@1\",\"Pr@2\",\"Pr@5\",\"Pr@10\",\n",
    "                            \"Re@1\",\"Re@2\",\"Re@5\",\"Re@10\",\"Rev@1\",\"Rev@2\",\"Rev@5\",\"Rev@10\"]\n",
    "        name_performance = [\"Test/\"+i for i in name_performance]\n",
    "        tensorboard_logs = dict(zip(name_performance,performance))\n",
    "        \n",
    "        return {\"F1-top\":f1_top, \"log\":tensorboard_logs}\n",
    "\n",
    "    def configure_optimizers(self):\n",
    "        optimizer = RangerLars(self.parameters(), lr=0.05, weight_decay=0.0001)\n",
    "        scheduler = torch.optim.lr_scheduler.ExponentialLR(optimizer,gamma=0.99)\n",
    "        return [optimizer], [scheduler]"
   ]
  },
  {
   "cell_type": "code",
   "execution_count": 35,
   "metadata": {},
   "outputs": [
    {
     "name": "stderr",
     "output_type": "stream",
     "text": [
      "GPU available: True, used: True\n",
      "TPU available: None, using: 0 TPU cores\n",
      "LOCAL_RANK: 0 - CUDA_VISIBLE_DEVICES: [0,1,2,3]\n",
      "\n",
      "  | Name        | Type              | Params\n",
      "--------------------------------------------------\n",
      "0 | gnn_encoder | PretrainGNN       | 119 K \n",
      "1 | clsLayer    | Linear            | 65    \n",
      "2 | revLayer    | Linear            | 65    \n",
      "3 | loss_func   | BCEWithLogitsLoss | 0     \n",
      "--------------------------------------------------\n",
      "119 K     Trainable params\n",
      "0         Non-trainable params\n",
      "119 K     Total params\n"
     ]
    },
    {
     "data": {
      "application/vnd.jupyter.widget-view+json": {
       "model_id": "f337ba20de28455faa75a2f919fc137f",
       "version_major": 2,
       "version_minor": 0
      },
      "text/plain": [
       "HBox(children=(HTML(value='Training'), FloatProgress(value=1.0, bar_style='info', layout=Layout(flex='2'), max…"
      ]
     },
     "metadata": {},
     "output_type": "display_data"
    },
    {
     "data": {
      "application/vnd.jupyter.widget-view+json": {
       "model_id": "",
       "version_major": 2,
       "version_minor": 0
      },
      "text/plain": [
       "HBox(children=(HTML(value='Validating'), FloatProgress(value=1.0, bar_style='info', layout=Layout(flex='2'), m…"
      ]
     },
     "metadata": {},
     "output_type": "display_data"
    },
    {
     "name": "stdout",
     "output_type": "stream",
     "text": [
      "Checking top 1% suspicious transactions: 710\n",
      "Precision: 0.1380, Recall: 0.0402, Revenue: 0.0147\n",
      "Checking top 2% suspicious transactions: 1419\n",
      "Precision: 0.0930, Recall: 0.0542, Revenue: 0.0251\n",
      "Checking top 5% suspicious transactions: 3545\n",
      "Precision: 0.0663, Recall: 0.0965, Revenue: 0.1236\n",
      "Checking top 10% suspicious transactions: 7092\n",
      "Precision: 0.0544, Recall: 0.1585, Revenue: 0.1886\n"
     ]
    },
    {
     "data": {
      "application/vnd.jupyter.widget-view+json": {
       "model_id": "",
       "version_major": 2,
       "version_minor": 0
      },
      "text/plain": [
       "HBox(children=(HTML(value='Validating'), FloatProgress(value=1.0, bar_style='info', layout=Layout(flex='2'), m…"
      ]
     },
     "metadata": {},
     "output_type": "display_data"
    },
    {
     "name": "stdout",
     "output_type": "stream",
     "text": [
      "Checking top 1% suspicious transactions: 710\n",
      "Precision: 0.1310, Recall: 0.0382, Revenue: 0.0204\n",
      "Checking top 2% suspicious transactions: 1419\n",
      "Precision: 0.1015, Recall: 0.0591, Revenue: 0.0331\n",
      "Checking top 5% suspicious transactions: 3546\n",
      "Precision: 0.0795, Recall: 0.1158, Revenue: 0.0877\n",
      "Checking top 10% suspicious transactions: 7092\n",
      "Precision: 0.0649, Recall: 0.1889, Revenue: 0.1925\n"
     ]
    },
    {
     "data": {
      "application/vnd.jupyter.widget-view+json": {
       "model_id": "",
       "version_major": 2,
       "version_minor": 0
      },
      "text/plain": [
       "HBox(children=(HTML(value='Validating'), FloatProgress(value=1.0, bar_style='info', layout=Layout(flex='2'), m…"
      ]
     },
     "metadata": {},
     "output_type": "display_data"
    },
    {
     "name": "stdout",
     "output_type": "stream",
     "text": [
      "Checking top 1% suspicious transactions: 710\n",
      "Precision: 0.1620, Recall: 0.0472, Revenue: 0.0301\n",
      "Checking top 2% suspicious transactions: 1419\n",
      "Precision: 0.1276, Recall: 0.0743, Revenue: 0.0502\n",
      "Checking top 5% suspicious transactions: 3546\n",
      "Precision: 0.0902, Recall: 0.1314, Revenue: 0.0957\n",
      "Checking top 10% suspicious transactions: 7092\n",
      "Precision: 0.0623, Recall: 0.1815, Revenue: 0.2061\n"
     ]
    },
    {
     "data": {
      "application/vnd.jupyter.widget-view+json": {
       "model_id": "",
       "version_major": 2,
       "version_minor": 0
      },
      "text/plain": [
       "HBox(children=(HTML(value='Validating'), FloatProgress(value=1.0, bar_style='info', layout=Layout(flex='2'), m…"
      ]
     },
     "metadata": {},
     "output_type": "display_data"
    },
    {
     "name": "stdout",
     "output_type": "stream",
     "text": [
      "Checking top 1% suspicious transactions: 710\n",
      "Precision: 0.2000, Recall: 0.0583, Revenue: 0.0398\n",
      "Checking top 2% suspicious transactions: 1418\n",
      "Precision: 0.1474, Recall: 0.0858, Revenue: 0.0484\n",
      "Checking top 5% suspicious transactions: 3546\n",
      "Precision: 0.0911, Recall: 0.1326, Revenue: 0.0764\n",
      "Checking top 10% suspicious transactions: 7090\n",
      "Precision: 0.0674, Recall: 0.1963, Revenue: 0.1528\n"
     ]
    },
    {
     "data": {
      "application/vnd.jupyter.widget-view+json": {
       "model_id": "",
       "version_major": 2,
       "version_minor": 0
      },
      "text/plain": [
       "HBox(children=(HTML(value='Validating'), FloatProgress(value=1.0, bar_style='info', layout=Layout(flex='2'), m…"
      ]
     },
     "metadata": {},
     "output_type": "display_data"
    },
    {
     "name": "stdout",
     "output_type": "stream",
     "text": [
      "Checking top 1% suspicious transactions: 710\n",
      "Precision: 0.1831, Recall: 0.0534, Revenue: 0.0384\n",
      "Checking top 2% suspicious transactions: 1419\n",
      "Precision: 0.1388, Recall: 0.0809, Revenue: 0.0484\n",
      "Checking top 5% suspicious transactions: 3546\n",
      "Precision: 0.0919, Recall: 0.1339, Revenue: 0.0985\n",
      "Checking top 10% suspicious transactions: 7092\n",
      "Precision: 0.0666, Recall: 0.1938, Revenue: 0.1669\n"
     ]
    },
    {
     "data": {
      "application/vnd.jupyter.widget-view+json": {
       "model_id": "",
       "version_major": 2,
       "version_minor": 0
      },
      "text/plain": [
       "HBox(children=(HTML(value='Validating'), FloatProgress(value=1.0, bar_style='info', layout=Layout(flex='2'), m…"
      ]
     },
     "metadata": {},
     "output_type": "display_data"
    },
    {
     "name": "stdout",
     "output_type": "stream",
     "text": [
      "Checking top 1% suspicious transactions: 710\n",
      "Precision: 0.2000, Recall: 0.0583, Revenue: 0.0422\n",
      "Checking top 2% suspicious transactions: 1419\n",
      "Precision: 0.1416, Recall: 0.0825, Revenue: 0.0527\n",
      "Checking top 5% suspicious transactions: 3546\n",
      "Precision: 0.0902, Recall: 0.1314, Revenue: 0.0984\n",
      "Checking top 10% suspicious transactions: 7092\n",
      "Precision: 0.0588, Recall: 0.1713, Revenue: 0.2093\n"
     ]
    },
    {
     "data": {
      "application/vnd.jupyter.widget-view+json": {
       "model_id": "",
       "version_major": 2,
       "version_minor": 0
      },
      "text/plain": [
       "HBox(children=(HTML(value='Validating'), FloatProgress(value=1.0, bar_style='info', layout=Layout(flex='2'), m…"
      ]
     },
     "metadata": {},
     "output_type": "display_data"
    },
    {
     "name": "stdout",
     "output_type": "stream",
     "text": [
      "Checking top 1% suspicious transactions: 710\n",
      "Precision: 0.2493, Recall: 0.0727, Revenue: 0.0441\n",
      "Checking top 2% suspicious transactions: 1419\n",
      "Precision: 0.1586, Recall: 0.0924, Revenue: 0.0504\n",
      "Checking top 5% suspicious transactions: 3546\n",
      "Precision: 0.1001, Recall: 0.1458, Revenue: 0.1137\n",
      "Checking top 10% suspicious transactions: 7092\n",
      "Precision: 0.0919, Recall: 0.2678, Revenue: 0.1948\n"
     ]
    },
    {
     "data": {
      "application/vnd.jupyter.widget-view+json": {
       "model_id": "",
       "version_major": 2,
       "version_minor": 0
      },
      "text/plain": [
       "HBox(children=(HTML(value='Validating'), FloatProgress(value=1.0, bar_style='info', layout=Layout(flex='2'), m…"
      ]
     },
     "metadata": {},
     "output_type": "display_data"
    },
    {
     "name": "stdout",
     "output_type": "stream",
     "text": [
      "Checking top 1% suspicious transactions: 710\n",
      "Precision: 0.2352, Recall: 0.0686, Revenue: 0.0448\n",
      "Checking top 2% suspicious transactions: 1419\n",
      "Precision: 0.1663, Recall: 0.0969, Revenue: 0.0522\n",
      "Checking top 5% suspicious transactions: 3546\n",
      "Precision: 0.1100, Recall: 0.1602, Revenue: 0.1223\n",
      "Checking top 10% suspicious transactions: 7092\n",
      "Precision: 0.1052, Recall: 0.3064, Revenue: 0.1927\n"
     ]
    },
    {
     "data": {
      "application/vnd.jupyter.widget-view+json": {
       "model_id": "",
       "version_major": 2,
       "version_minor": 0
      },
      "text/plain": [
       "HBox(children=(HTML(value='Validating'), FloatProgress(value=1.0, bar_style='info', layout=Layout(flex='2'), m…"
      ]
     },
     "metadata": {},
     "output_type": "display_data"
    },
    {
     "name": "stdout",
     "output_type": "stream",
     "text": [
      "Checking top 1% suspicious transactions: 710\n",
      "Precision: 0.2634, Recall: 0.0768, Revenue: 0.0467\n",
      "Checking top 2% suspicious transactions: 1419\n",
      "Precision: 0.1783, Recall: 0.1039, Revenue: 0.0547\n",
      "Checking top 5% suspicious transactions: 3546\n",
      "Precision: 0.1111, Recall: 0.1618, Revenue: 0.1243\n",
      "Checking top 10% suspicious transactions: 7092\n",
      "Precision: 0.1103, Recall: 0.3211, Revenue: 0.2192\n"
     ]
    },
    {
     "data": {
      "application/vnd.jupyter.widget-view+json": {
       "model_id": "",
       "version_major": 2,
       "version_minor": 0
      },
      "text/plain": [
       "HBox(children=(HTML(value='Validating'), FloatProgress(value=1.0, bar_style='info', layout=Layout(flex='2'), m…"
      ]
     },
     "metadata": {},
     "output_type": "display_data"
    },
    {
     "name": "stdout",
     "output_type": "stream",
     "text": [
      "Checking top 1% suspicious transactions: 710\n",
      "Precision: 0.2577, Recall: 0.0752, Revenue: 0.0468\n",
      "Checking top 2% suspicious transactions: 1419\n",
      "Precision: 0.1705, Recall: 0.0994, Revenue: 0.0533\n",
      "Checking top 5% suspicious transactions: 3546\n",
      "Precision: 0.1043, Recall: 0.1520, Revenue: 0.1194\n",
      "Checking top 10% suspicious transactions: 7091\n",
      "Precision: 0.0966, Recall: 0.2813, Revenue: 0.2569\n"
     ]
    },
    {
     "data": {
      "application/vnd.jupyter.widget-view+json": {
       "model_id": "",
       "version_major": 2,
       "version_minor": 0
      },
      "text/plain": [
       "HBox(children=(HTML(value='Validating'), FloatProgress(value=1.0, bar_style='info', layout=Layout(flex='2'), m…"
      ]
     },
     "metadata": {},
     "output_type": "display_data"
    },
    {
     "name": "stdout",
     "output_type": "stream",
     "text": [
      "Checking top 1% suspicious transactions: 710\n",
      "Precision: 0.2986, Recall: 0.0871, Revenue: 0.0475\n",
      "Checking top 2% suspicious transactions: 1419\n",
      "Precision: 0.1755, Recall: 0.1023, Revenue: 0.0550\n",
      "Checking top 5% suspicious transactions: 3545\n",
      "Precision: 0.1044, Recall: 0.1520, Revenue: 0.1215\n",
      "Checking top 10% suspicious transactions: 7092\n",
      "Precision: 0.1004, Recall: 0.2924, Revenue: 0.2458\n"
     ]
    },
    {
     "data": {
      "application/vnd.jupyter.widget-view+json": {
       "model_id": "",
       "version_major": 2,
       "version_minor": 0
      },
      "text/plain": [
       "HBox(children=(HTML(value='Validating'), FloatProgress(value=1.0, bar_style='info', layout=Layout(flex='2'), m…"
      ]
     },
     "metadata": {},
     "output_type": "display_data"
    },
    {
     "name": "stdout",
     "output_type": "stream",
     "text": [
      "Checking top 1% suspicious transactions: 710\n",
      "Precision: 0.3155, Recall: 0.0920, Revenue: 0.0523\n",
      "Checking top 2% suspicious transactions: 1419\n",
      "Precision: 0.1994, Recall: 0.1162, Revenue: 0.0695\n",
      "Checking top 5% suspicious transactions: 3546\n",
      "Precision: 0.1385, Recall: 0.2016, Revenue: 0.1404\n",
      "Checking top 10% suspicious transactions: 7092\n",
      "Precision: 0.1348, Recall: 0.3926, Revenue: 0.2458\n"
     ]
    },
    {
     "data": {
      "application/vnd.jupyter.widget-view+json": {
       "model_id": "",
       "version_major": 2,
       "version_minor": 0
      },
      "text/plain": [
       "HBox(children=(HTML(value='Validating'), FloatProgress(value=1.0, bar_style='info', layout=Layout(flex='2'), m…"
      ]
     },
     "metadata": {},
     "output_type": "display_data"
    },
    {
     "name": "stdout",
     "output_type": "stream",
     "text": [
      "Checking top 1% suspicious transactions: 710\n",
      "Precision: 0.3155, Recall: 0.0920, Revenue: 0.0632\n",
      "Checking top 2% suspicious transactions: 1419\n",
      "Precision: 0.2008, Recall: 0.1170, Revenue: 0.0842\n",
      "Checking top 5% suspicious transactions: 3546\n",
      "Precision: 0.1351, Recall: 0.1967, Revenue: 0.1432\n",
      "Checking top 10% suspicious transactions: 7092\n",
      "Precision: 0.1428, Recall: 0.4160, Revenue: 0.2689\n"
     ]
    },
    {
     "data": {
      "application/vnd.jupyter.widget-view+json": {
       "model_id": "",
       "version_major": 2,
       "version_minor": 0
      },
      "text/plain": [
       "HBox(children=(HTML(value='Validating'), FloatProgress(value=1.0, bar_style='info', layout=Layout(flex='2'), m…"
      ]
     },
     "metadata": {},
     "output_type": "display_data"
    },
    {
     "name": "stdout",
     "output_type": "stream",
     "text": [
      "Checking top 1% suspicious transactions: 710\n",
      "Precision: 0.3437, Recall: 0.1002, Revenue: 0.0644\n",
      "Checking top 2% suspicious transactions: 1419\n",
      "Precision: 0.2121, Recall: 0.1236, Revenue: 0.0877\n",
      "Checking top 5% suspicious transactions: 3546\n",
      "Precision: 0.1277, Recall: 0.1860, Revenue: 0.1340\n",
      "Checking top 10% suspicious transactions: 7092\n",
      "Precision: 0.1304, Recall: 0.3799, Revenue: 0.2465\n"
     ]
    },
    {
     "data": {
      "application/vnd.jupyter.widget-view+json": {
       "model_id": "",
       "version_major": 2,
       "version_minor": 0
      },
      "text/plain": [
       "HBox(children=(HTML(value='Validating'), FloatProgress(value=1.0, bar_style='info', layout=Layout(flex='2'), m…"
      ]
     },
     "metadata": {},
     "output_type": "display_data"
    },
    {
     "name": "stdout",
     "output_type": "stream",
     "text": [
      "Checking top 1% suspicious transactions: 710\n",
      "Precision: 0.3070, Recall: 0.0895, Revenue: 0.0605\n",
      "Checking top 2% suspicious transactions: 1416\n",
      "Precision: 0.2161, Recall: 0.1257, Revenue: 0.0860\n",
      "Checking top 5% suspicious transactions: 3546\n",
      "Precision: 0.1421, Recall: 0.2070, Revenue: 0.1459\n",
      "Checking top 10% suspicious transactions: 7092\n",
      "Precision: 0.1434, Recall: 0.4177, Revenue: 0.2656\n"
     ]
    },
    {
     "data": {
      "application/vnd.jupyter.widget-view+json": {
       "model_id": "",
       "version_major": 2,
       "version_minor": 0
      },
      "text/plain": [
       "HBox(children=(HTML(value='Validating'), FloatProgress(value=1.0, bar_style='info', layout=Layout(flex='2'), m…"
      ]
     },
     "metadata": {},
     "output_type": "display_data"
    },
    {
     "name": "stdout",
     "output_type": "stream",
     "text": [
      "Checking top 1% suspicious transactions: 709\n",
      "Precision: 0.3300, Recall: 0.0961, Revenue: 0.0695\n",
      "Checking top 2% suspicious transactions: 1419\n",
      "Precision: 0.2276, Recall: 0.1326, Revenue: 0.0883\n",
      "Checking top 5% suspicious transactions: 3546\n",
      "Precision: 0.1475, Recall: 0.2148, Revenue: 0.1474\n",
      "Checking top 10% suspicious transactions: 7092\n",
      "Precision: 0.1387, Recall: 0.4041, Revenue: 0.2562\n"
     ]
    },
    {
     "data": {
      "application/vnd.jupyter.widget-view+json": {
       "model_id": "",
       "version_major": 2,
       "version_minor": 0
      },
      "text/plain": [
       "HBox(children=(HTML(value='Validating'), FloatProgress(value=1.0, bar_style='info', layout=Layout(flex='2'), m…"
      ]
     },
     "metadata": {},
     "output_type": "display_data"
    },
    {
     "name": "stdout",
     "output_type": "stream",
     "text": [
      "Checking top 1% suspicious transactions: 710\n",
      "Precision: 0.3338, Recall: 0.0973, Revenue: 0.0723\n",
      "Checking top 2% suspicious transactions: 1419\n",
      "Precision: 0.2333, Recall: 0.1359, Revenue: 0.0896\n",
      "Checking top 5% suspicious transactions: 3546\n",
      "Precision: 0.1892, Recall: 0.2756, Revenue: 0.1714\n",
      "Checking top 10% suspicious transactions: 7092\n",
      "Precision: 0.1803, Recall: 0.5253, Revenue: 0.3190\n"
     ]
    },
    {
     "data": {
      "application/vnd.jupyter.widget-view+json": {
       "model_id": "",
       "version_major": 2,
       "version_minor": 0
      },
      "text/plain": [
       "HBox(children=(HTML(value='Validating'), FloatProgress(value=1.0, bar_style='info', layout=Layout(flex='2'), m…"
      ]
     },
     "metadata": {},
     "output_type": "display_data"
    },
    {
     "name": "stdout",
     "output_type": "stream",
     "text": [
      "Checking top 1% suspicious transactions: 710\n",
      "Precision: 0.3676, Recall: 0.1072, Revenue: 0.0785\n",
      "Checking top 2% suspicious transactions: 1419\n",
      "Precision: 0.2650, Recall: 0.1544, Revenue: 0.0954\n",
      "Checking top 5% suspicious transactions: 3546\n",
      "Precision: 0.2177, Recall: 0.3170, Revenue: 0.1962\n",
      "Checking top 10% suspicious transactions: 7080\n",
      "Precision: 0.1919, Recall: 0.5581, Revenue: 0.3252\n"
     ]
    },
    {
     "data": {
      "application/vnd.jupyter.widget-view+json": {
       "model_id": "",
       "version_major": 2,
       "version_minor": 0
      },
      "text/plain": [
       "HBox(children=(HTML(value='Validating'), FloatProgress(value=1.0, bar_style='info', layout=Layout(flex='2'), m…"
      ]
     },
     "metadata": {},
     "output_type": "display_data"
    },
    {
     "name": "stdout",
     "output_type": "stream",
     "text": [
      "Checking top 1% suspicious transactions: 709\n",
      "Precision: 0.3540, Recall: 0.1031, Revenue: 0.0787\n",
      "Checking top 2% suspicious transactions: 1419\n",
      "Precision: 0.2459, Recall: 0.1433, Revenue: 0.0941\n",
      "Checking top 5% suspicious transactions: 3546\n",
      "Precision: 0.1748, Recall: 0.2546, Revenue: 0.1763\n",
      "Checking top 10% suspicious transactions: 7090\n",
      "Precision: 0.1640, Recall: 0.4776, Revenue: 0.2812\n"
     ]
    },
    {
     "data": {
      "application/vnd.jupyter.widget-view+json": {
       "model_id": "",
       "version_major": 2,
       "version_minor": 0
      },
      "text/plain": [
       "HBox(children=(HTML(value='Validating'), FloatProgress(value=1.0, bar_style='info', layout=Layout(flex='2'), m…"
      ]
     },
     "metadata": {},
     "output_type": "display_data"
    },
    {
     "name": "stdout",
     "output_type": "stream",
     "text": [
      "Checking top 1% suspicious transactions: 710\n",
      "Precision: 0.3394, Recall: 0.0990, Revenue: 0.0746\n",
      "Checking top 2% suspicious transactions: 1419\n",
      "Precision: 0.2438, Recall: 0.1421, Revenue: 0.0920\n",
      "Checking top 5% suspicious transactions: 3545\n",
      "Precision: 0.1800, Recall: 0.2620, Revenue: 0.1791\n",
      "Checking top 10% suspicious transactions: 7092\n",
      "Precision: 0.1600, Recall: 0.4661, Revenue: 0.3016\n"
     ]
    },
    {
     "data": {
      "application/vnd.jupyter.widget-view+json": {
       "model_id": "",
       "version_major": 2,
       "version_minor": 0
      },
      "text/plain": [
       "HBox(children=(HTML(value='Validating'), FloatProgress(value=1.0, bar_style='info', layout=Layout(flex='2'), m…"
      ]
     },
     "metadata": {},
     "output_type": "display_data"
    },
    {
     "name": "stdout",
     "output_type": "stream",
     "text": [
      "Checking top 1% suspicious transactions: 710\n",
      "Precision: 0.3648, Recall: 0.1064, Revenue: 0.0763\n",
      "Checking top 2% suspicious transactions: 1419\n",
      "Precision: 0.2622, Recall: 0.1528, Revenue: 0.0948\n",
      "Checking top 5% suspicious transactions: 3546\n",
      "Precision: 0.2239, Recall: 0.3261, Revenue: 0.1990\n",
      "Checking top 10% suspicious transactions: 7092\n",
      "Precision: 0.1827, Recall: 0.5322, Revenue: 0.3072\n"
     ]
    },
    {
     "data": {
      "application/vnd.jupyter.widget-view+json": {
       "model_id": "",
       "version_major": 2,
       "version_minor": 0
      },
      "text/plain": [
       "HBox(children=(HTML(value='Validating'), FloatProgress(value=1.0, bar_style='info', layout=Layout(flex='2'), m…"
      ]
     },
     "metadata": {},
     "output_type": "display_data"
    },
    {
     "name": "stdout",
     "output_type": "stream",
     "text": [
      "Checking top 1% suspicious transactions: 710\n",
      "Precision: 0.3690, Recall: 0.1076, Revenue: 0.0767\n",
      "Checking top 2% suspicious transactions: 1419\n",
      "Precision: 0.2777, Recall: 0.1618, Revenue: 0.1007\n",
      "Checking top 5% suspicious transactions: 3546\n",
      "Precision: 0.2403, Recall: 0.3499, Revenue: 0.2077\n",
      "Checking top 10% suspicious transactions: 7092\n",
      "Precision: 0.1923, Recall: 0.5602, Revenue: 0.3408\n"
     ]
    },
    {
     "data": {
      "application/vnd.jupyter.widget-view+json": {
       "model_id": "",
       "version_major": 2,
       "version_minor": 0
      },
      "text/plain": [
       "HBox(children=(HTML(value='Validating'), FloatProgress(value=1.0, bar_style='info', layout=Layout(flex='2'), m…"
      ]
     },
     "metadata": {},
     "output_type": "display_data"
    },
    {
     "name": "stdout",
     "output_type": "stream",
     "text": [
      "Checking top 1% suspicious transactions: 707\n",
      "Precision: 0.3564, Recall: 0.1035, Revenue: 0.0763\n",
      "Checking top 2% suspicious transactions: 1419\n",
      "Precision: 0.2685, Recall: 0.1565, Revenue: 0.1003\n",
      "Checking top 5% suspicious transactions: 3546\n",
      "Precision: 0.2343, Recall: 0.3413, Revenue: 0.2041\n",
      "Checking top 10% suspicious transactions: 7092\n",
      "Precision: 0.1936, Recall: 0.5639, Revenue: 0.3306\n"
     ]
    },
    {
     "data": {
      "application/vnd.jupyter.widget-view+json": {
       "model_id": "",
       "version_major": 2,
       "version_minor": 0
      },
      "text/plain": [
       "HBox(children=(HTML(value='Validating'), FloatProgress(value=1.0, bar_style='info', layout=Layout(flex='2'), m…"
      ]
     },
     "metadata": {},
     "output_type": "display_data"
    },
    {
     "name": "stdout",
     "output_type": "stream",
     "text": [
      "Checking top 1% suspicious transactions: 710\n",
      "Precision: 0.3845, Recall: 0.1121, Revenue: 0.0807\n",
      "Checking top 2% suspicious transactions: 1419\n",
      "Precision: 0.2925, Recall: 0.1704, Revenue: 0.1043\n",
      "Checking top 5% suspicious transactions: 3546\n",
      "Precision: 0.2504, Recall: 0.3647, Revenue: 0.2135\n",
      "Checking top 10% suspicious transactions: 7092\n",
      "Precision: 0.1973, Recall: 0.5745, Revenue: 0.3426\n"
     ]
    },
    {
     "data": {
      "application/vnd.jupyter.widget-view+json": {
       "model_id": "",
       "version_major": 2,
       "version_minor": 0
      },
      "text/plain": [
       "HBox(children=(HTML(value='Validating'), FloatProgress(value=1.0, bar_style='info', layout=Layout(flex='2'), m…"
      ]
     },
     "metadata": {},
     "output_type": "display_data"
    },
    {
     "name": "stdout",
     "output_type": "stream",
     "text": [
      "Checking top 1% suspicious transactions: 710\n",
      "Precision: 0.3789, Recall: 0.1105, Revenue: 0.0799\n",
      "Checking top 2% suspicious transactions: 1414\n",
      "Precision: 0.3112, Recall: 0.1807, Revenue: 0.1081\n",
      "Checking top 5% suspicious transactions: 3541\n",
      "Precision: 0.2717, Recall: 0.3951, Revenue: 0.2174\n",
      "Checking top 10% suspicious transactions: 7092\n",
      "Precision: 0.1951, Recall: 0.5684, Revenue: 0.3286\n"
     ]
    },
    {
     "data": {
      "application/vnd.jupyter.widget-view+json": {
       "model_id": "",
       "version_major": 2,
       "version_minor": 0
      },
      "text/plain": [
       "HBox(children=(HTML(value='Validating'), FloatProgress(value=1.0, bar_style='info', layout=Layout(flex='2'), m…"
      ]
     },
     "metadata": {},
     "output_type": "display_data"
    },
    {
     "name": "stdout",
     "output_type": "stream",
     "text": [
      "Checking top 1% suspicious transactions: 709\n",
      "Precision: 0.3822, Recall: 0.1113, Revenue: 0.0793\n",
      "Checking top 2% suspicious transactions: 1419\n",
      "Precision: 0.2911, Recall: 0.1696, Revenue: 0.1061\n",
      "Checking top 5% suspicious transactions: 3546\n",
      "Precision: 0.2592, Recall: 0.3774, Revenue: 0.2289\n",
      "Checking top 10% suspicious transactions: 7091\n",
      "Precision: 0.1902, Recall: 0.5540, Revenue: 0.3463\n"
     ]
    },
    {
     "data": {
      "application/vnd.jupyter.widget-view+json": {
       "model_id": "",
       "version_major": 2,
       "version_minor": 0
      },
      "text/plain": [
       "HBox(children=(HTML(value='Validating'), FloatProgress(value=1.0, bar_style='info', layout=Layout(flex='2'), m…"
      ]
     },
     "metadata": {},
     "output_type": "display_data"
    },
    {
     "name": "stdout",
     "output_type": "stream",
     "text": [
      "Checking top 1% suspicious transactions: 710\n",
      "Precision: 0.3944, Recall: 0.1150, Revenue: 0.0812\n",
      "Checking top 2% suspicious transactions: 1419\n",
      "Precision: 0.3101, Recall: 0.1807, Revenue: 0.1153\n",
      "Checking top 5% suspicious transactions: 3546\n",
      "Precision: 0.2908, Recall: 0.4234, Revenue: 0.2333\n",
      "Checking top 10% suspicious transactions: 7050\n",
      "Precision: 0.1997, Recall: 0.5782, Revenue: 0.3424\n"
     ]
    },
    {
     "data": {
      "application/vnd.jupyter.widget-view+json": {
       "model_id": "",
       "version_major": 2,
       "version_minor": 0
      },
      "text/plain": [
       "HBox(children=(HTML(value='Validating'), FloatProgress(value=1.0, bar_style='info', layout=Layout(flex='2'), m…"
      ]
     },
     "metadata": {},
     "output_type": "display_data"
    },
    {
     "name": "stdout",
     "output_type": "stream",
     "text": [
      "Checking top 1% suspicious transactions: 709\n",
      "Precision: 0.4175, Recall: 0.1216, Revenue: 0.0839\n",
      "Checking top 2% suspicious transactions: 1419\n",
      "Precision: 0.3524, Recall: 0.2053, Revenue: 0.1201\n",
      "Checking top 5% suspicious transactions: 3546\n",
      "Precision: 0.2919, Recall: 0.4251, Revenue: 0.2302\n",
      "Checking top 10% suspicious transactions: 7083\n",
      "Precision: 0.2044, Recall: 0.5947, Revenue: 0.3490\n"
     ]
    },
    {
     "data": {
      "application/vnd.jupyter.widget-view+json": {
       "model_id": "",
       "version_major": 2,
       "version_minor": 0
      },
      "text/plain": [
       "HBox(children=(HTML(value='Validating'), FloatProgress(value=1.0, bar_style='info', layout=Layout(flex='2'), m…"
      ]
     },
     "metadata": {},
     "output_type": "display_data"
    },
    {
     "name": "stdout",
     "output_type": "stream",
     "text": [
      "Checking top 1% suspicious transactions: 710\n",
      "Precision: 0.3817, Recall: 0.1113, Revenue: 0.0813\n",
      "Checking top 2% suspicious transactions: 1419\n",
      "Precision: 0.3143, Recall: 0.1832, Revenue: 0.1074\n",
      "Checking top 5% suspicious transactions: 3546\n",
      "Precision: 0.2876, Recall: 0.4189, Revenue: 0.2389\n",
      "Checking top 10% suspicious transactions: 7092\n",
      "Precision: 0.2069, Recall: 0.6025, Revenue: 0.3525\n"
     ]
    },
    {
     "data": {
      "application/vnd.jupyter.widget-view+json": {
       "model_id": "",
       "version_major": 2,
       "version_minor": 0
      },
      "text/plain": [
       "HBox(children=(HTML(value='Validating'), FloatProgress(value=1.0, bar_style='info', layout=Layout(flex='2'), m…"
      ]
     },
     "metadata": {},
     "output_type": "display_data"
    },
    {
     "name": "stdout",
     "output_type": "stream",
     "text": [
      "Checking top 1% suspicious transactions: 710\n",
      "Precision: 0.4127, Recall: 0.1203, Revenue: 0.0850\n",
      "Checking top 2% suspicious transactions: 1418\n",
      "Precision: 0.3456, Recall: 0.2012, Revenue: 0.1148\n",
      "Checking top 5% suspicious transactions: 3546\n",
      "Precision: 0.3003, Recall: 0.4374, Revenue: 0.2496\n",
      "Checking top 10% suspicious transactions: 7092\n",
      "Precision: 0.2015, Recall: 0.5869, Revenue: 0.3449\n"
     ]
    },
    {
     "data": {
      "application/vnd.jupyter.widget-view+json": {
       "model_id": "",
       "version_major": 2,
       "version_minor": 0
      },
      "text/plain": [
       "HBox(children=(HTML(value='Validating'), FloatProgress(value=1.0, bar_style='info', layout=Layout(flex='2'), m…"
      ]
     },
     "metadata": {},
     "output_type": "display_data"
    },
    {
     "name": "stdout",
     "output_type": "stream",
     "text": [
      "Checking top 1% suspicious transactions: 710\n",
      "Precision: 0.4014, Recall: 0.1170, Revenue: 0.0825\n",
      "Checking top 2% suspicious transactions: 1419\n",
      "Precision: 0.3284, Recall: 0.1914, Revenue: 0.1096\n",
      "Checking top 5% suspicious transactions: 3546\n",
      "Precision: 0.2879, Recall: 0.4193, Revenue: 0.2365\n",
      "Checking top 10% suspicious transactions: 7092\n",
      "Precision: 0.1957, Recall: 0.5700, Revenue: 0.3440\n"
     ]
    },
    {
     "data": {
      "application/vnd.jupyter.widget-view+json": {
       "model_id": "",
       "version_major": 2,
       "version_minor": 0
      },
      "text/plain": [
       "HBox(children=(HTML(value='Validating'), FloatProgress(value=1.0, bar_style='info', layout=Layout(flex='2'), m…"
      ]
     },
     "metadata": {},
     "output_type": "display_data"
    },
    {
     "name": "stdout",
     "output_type": "stream",
     "text": [
      "Checking top 1% suspicious transactions: 710\n",
      "Precision: 0.3873, Recall: 0.1129, Revenue: 0.0816\n",
      "Checking top 2% suspicious transactions: 1419\n",
      "Precision: 0.3178, Recall: 0.1852, Revenue: 0.1082\n",
      "Checking top 5% suspicious transactions: 3546\n",
      "Precision: 0.2806, Recall: 0.4086, Revenue: 0.2366\n",
      "Checking top 10% suspicious transactions: 7052\n",
      "Precision: 0.2026, Recall: 0.5869, Revenue: 0.3475\n"
     ]
    },
    {
     "data": {
      "application/vnd.jupyter.widget-view+json": {
       "model_id": "",
       "version_major": 2,
       "version_minor": 0
      },
      "text/plain": [
       "HBox(children=(HTML(value='Validating'), FloatProgress(value=1.0, bar_style='info', layout=Layout(flex='2'), m…"
      ]
     },
     "metadata": {},
     "output_type": "display_data"
    },
    {
     "name": "stdout",
     "output_type": "stream",
     "text": [
      "Checking top 1% suspicious transactions: 710\n",
      "Precision: 0.4042, Recall: 0.1179, Revenue: 0.0848\n",
      "Checking top 2% suspicious transactions: 1411\n",
      "Precision: 0.3451, Recall: 0.2000, Revenue: 0.1158\n",
      "Checking top 5% suspicious transactions: 3546\n",
      "Precision: 0.3170, Recall: 0.4616, Revenue: 0.2793\n",
      "Checking top 10% suspicious transactions: 7091\n",
      "Precision: 0.2110, Recall: 0.6144, Revenue: 0.3777\n"
     ]
    },
    {
     "data": {
      "application/vnd.jupyter.widget-view+json": {
       "model_id": "",
       "version_major": 2,
       "version_minor": 0
      },
      "text/plain": [
       "HBox(children=(HTML(value='Validating'), FloatProgress(value=1.0, bar_style='info', layout=Layout(flex='2'), m…"
      ]
     },
     "metadata": {},
     "output_type": "display_data"
    },
    {
     "name": "stdout",
     "output_type": "stream",
     "text": [
      "Checking top 1% suspicious transactions: 710\n",
      "Precision: 0.4127, Recall: 0.1203, Revenue: 0.0857\n",
      "Checking top 2% suspicious transactions: 1412\n",
      "Precision: 0.3421, Recall: 0.1984, Revenue: 0.1123\n",
      "Checking top 5% suspicious transactions: 3546\n",
      "Precision: 0.2936, Recall: 0.4275, Revenue: 0.2548\n",
      "Checking top 10% suspicious transactions: 7092\n",
      "Precision: 0.2023, Recall: 0.5893, Revenue: 0.3448\n"
     ]
    },
    {
     "data": {
      "application/vnd.jupyter.widget-view+json": {
       "model_id": "",
       "version_major": 2,
       "version_minor": 0
      },
      "text/plain": [
       "HBox(children=(HTML(value='Validating'), FloatProgress(value=1.0, bar_style='info', layout=Layout(flex='2'), m…"
      ]
     },
     "metadata": {},
     "output_type": "display_data"
    },
    {
     "name": "stdout",
     "output_type": "stream",
     "text": [
      "Checking top 1% suspicious transactions: 710\n",
      "Precision: 0.3789, Recall: 0.1105, Revenue: 0.0793\n",
      "Checking top 2% suspicious transactions: 1419\n",
      "Precision: 0.3333, Recall: 0.1943, Revenue: 0.1084\n",
      "Checking top 5% suspicious transactions: 3546\n",
      "Precision: 0.2840, Recall: 0.4136, Revenue: 0.2414\n",
      "Checking top 10% suspicious transactions: 7040\n",
      "Precision: 0.1999, Recall: 0.5778, Revenue: 0.3487\n"
     ]
    },
    {
     "data": {
      "application/vnd.jupyter.widget-view+json": {
       "model_id": "",
       "version_major": 2,
       "version_minor": 0
      },
      "text/plain": [
       "HBox(children=(HTML(value='Validating'), FloatProgress(value=1.0, bar_style='info', layout=Layout(flex='2'), m…"
      ]
     },
     "metadata": {},
     "output_type": "display_data"
    },
    {
     "name": "stdout",
     "output_type": "stream",
     "text": [
      "Checking top 1% suspicious transactions: 710\n",
      "Precision: 0.4155, Recall: 0.1211, Revenue: 0.0866\n",
      "Checking top 2% suspicious transactions: 1419\n",
      "Precision: 0.3460, Recall: 0.2016, Revenue: 0.1164\n",
      "Checking top 5% suspicious transactions: 3546\n",
      "Precision: 0.3029, Recall: 0.4411, Revenue: 0.2637\n",
      "Checking top 10% suspicious transactions: 7061\n",
      "Precision: 0.2037, Recall: 0.5906, Revenue: 0.3723\n"
     ]
    },
    {
     "data": {
      "application/vnd.jupyter.widget-view+json": {
       "model_id": "",
       "version_major": 2,
       "version_minor": 0
      },
      "text/plain": [
       "HBox(children=(HTML(value='Validating'), FloatProgress(value=1.0, bar_style='info', layout=Layout(flex='2'), m…"
      ]
     },
     "metadata": {},
     "output_type": "display_data"
    },
    {
     "name": "stdout",
     "output_type": "stream",
     "text": [
      "Checking top 1% suspicious transactions: 710\n",
      "Precision: 0.3972, Recall: 0.1158, Revenue: 0.0840\n",
      "Checking top 2% suspicious transactions: 1419\n",
      "Precision: 0.3474, Recall: 0.2025, Revenue: 0.1155\n",
      "Checking top 5% suspicious transactions: 3545\n",
      "Precision: 0.3058, Recall: 0.4452, Revenue: 0.2635\n",
      "Checking top 10% suspicious transactions: 7038\n",
      "Precision: 0.2062, Recall: 0.5959, Revenue: 0.3639\n"
     ]
    },
    {
     "data": {
      "application/vnd.jupyter.widget-view+json": {
       "model_id": "",
       "version_major": 2,
       "version_minor": 0
      },
      "text/plain": [
       "HBox(children=(HTML(value='Validating'), FloatProgress(value=1.0, bar_style='info', layout=Layout(flex='2'), m…"
      ]
     },
     "metadata": {},
     "output_type": "display_data"
    },
    {
     "name": "stdout",
     "output_type": "stream",
     "text": [
      "Checking top 1% suspicious transactions: 710\n",
      "Precision: 0.3817, Recall: 0.1113, Revenue: 0.0797\n",
      "Checking top 2% suspicious transactions: 1419\n",
      "Precision: 0.3531, Recall: 0.2057, Revenue: 0.1141\n",
      "Checking top 5% suspicious transactions: 3546\n",
      "Precision: 0.2953, Recall: 0.4300, Revenue: 0.2479\n",
      "Checking top 10% suspicious transactions: 7033\n",
      "Precision: 0.1927, Recall: 0.5565, Revenue: 0.3389\n"
     ]
    },
    {
     "data": {
      "application/vnd.jupyter.widget-view+json": {
       "model_id": "",
       "version_major": 2,
       "version_minor": 0
      },
      "text/plain": [
       "HBox(children=(HTML(value='Validating'), FloatProgress(value=1.0, bar_style='info', layout=Layout(flex='2'), m…"
      ]
     },
     "metadata": {},
     "output_type": "display_data"
    },
    {
     "name": "stdout",
     "output_type": "stream",
     "text": [
      "Checking top 1% suspicious transactions: 709\n",
      "Precision: 0.3949, Recall: 0.1150, Revenue: 0.0851\n",
      "Checking top 2% suspicious transactions: 1419\n",
      "Precision: 0.3841, Recall: 0.2238, Revenue: 0.1258\n",
      "Checking top 5% suspicious transactions: 3546\n",
      "Precision: 0.3314, Recall: 0.4825, Revenue: 0.2904\n",
      "Checking top 10% suspicious transactions: 7048\n",
      "Precision: 0.2030, Recall: 0.5877, Revenue: 0.3707\n"
     ]
    },
    {
     "data": {
      "application/vnd.jupyter.widget-view+json": {
       "model_id": "",
       "version_major": 2,
       "version_minor": 0
      },
      "text/plain": [
       "HBox(children=(HTML(value='Validating'), FloatProgress(value=1.0, bar_style='info', layout=Layout(flex='2'), m…"
      ]
     },
     "metadata": {},
     "output_type": "display_data"
    },
    {
     "name": "stdout",
     "output_type": "stream",
     "text": [
      "Checking top 1% suspicious transactions: 710\n",
      "Precision: 0.4521, Recall: 0.1318, Revenue: 0.0893\n",
      "Checking top 2% suspicious transactions: 1419\n",
      "Precision: 0.4193, Recall: 0.2444, Revenue: 0.1310\n",
      "Checking top 5% suspicious transactions: 3545\n",
      "Precision: 0.3337, Recall: 0.4858, Revenue: 0.2740\n",
      "Checking top 10% suspicious transactions: 7092\n",
      "Precision: 0.2006, Recall: 0.5844, Revenue: 0.3382\n",
      "\n"
     ]
    },
    {
     "data": {
      "text/plain": [
       "1"
      ]
     },
     "execution_count": 35,
     "metadata": {},
     "output_type": "execute_result"
    }
   ],
   "source": [
    "# model config\n",
    "seed_everything(5674)\n",
    "input_dim = gdata.leaf_dim\n",
    "hidden_size = 32\n",
    "sizes = [-1,200]\n",
    "numLayers = len(sizes)\n",
    "batch_size = 512\n",
    "pretrain_path = \"./saved_model/pretrained.ckpt\"\n",
    "\n",
    "predictor = Predictor(input_dim, hidden_size, numLayers)\n",
    "predictor.loadGNN_state(model)\n",
    "# predictor.load_fromPretrain(pretrain_path)\n",
    "predictor.data = data\n",
    "\n",
    "# lightning config\n",
    "stacked_data = StackData(trainLab_data,unlab_data,valid_data, test_data)\n",
    "datamodule = CustomData(stacked_data, sizes = sizes, batch_size=batch_size)\n",
    "logger = TensorBoardLogger(\"ssl_exp\",name=\"Tdata\")\n",
    "logger.log_hyperparams(model.hparams, metrics={\"F1-top\":0})\n",
    "checkpoint_callback = ModelCheckpoint(\n",
    "    monitor='F1-top',    \n",
    "    dirpath='./saved_model',\n",
    "    filename='Analysis-Tdata5-{F1-top:.4f}',\n",
    "    save_top_k=1,\n",
    "    mode='max',\n",
    ")\n",
    "trainer = Trainer(gpus=[0], max_epochs=40,\n",
    "                 num_sanity_val_steps=0,\n",
    "                  check_val_every_n_epoch=1,\n",
    "                  callbacks=[checkpoint_callback],\n",
    "                 )\n",
    "trainer.fit(predictor, datamodule=datamodule)"
   ]
  },
  {
   "cell_type": "code",
   "execution_count": 36,
   "metadata": {
    "scrolled": true
   },
   "outputs": [
    {
     "data": {
      "application/vnd.jupyter.widget-view+json": {
       "model_id": "03d3ce164f4b4bfb902a024ff9be8f28",
       "version_major": 2,
       "version_minor": 0
      },
      "text/plain": [
       "HBox(children=(HTML(value='Testing'), FloatProgress(value=1.0, bar_style='info', layout=Layout(flex='2'), max=…"
      ]
     },
     "metadata": {},
     "output_type": "display_data"
    },
    {
     "name": "stdout",
     "output_type": "stream",
     "text": [
      "Checking top 1% suspicious transactions: 2749\n",
      "Precision: 0.4569, Recall: 0.1848, Revenue: 0.1668\n",
      "Checking top 2% suspicious transactions: 5497\n",
      "Precision: 0.4370, Recall: 0.3534, Revenue: 0.2662\n",
      "Checking top 5% suspicious transactions: 13740\n",
      "Precision: 0.2868, Recall: 0.5797, Revenue: 0.4017\n",
      "Checking top 10% suspicious transactions: 27481\n",
      "Precision: 0.1540, Recall: 0.6226, Revenue: 0.4392\n",
      "\n",
      "--------------------------------------------------------------------------------\n",
      "DATALOADER:0 TEST RESULTS\n",
      "{'F1-top': 0.3211316321176841,\n",
      " 'Test/F1@1': 0.2631468677980306,\n",
      " 'Test/F1@10': 0.24692222416710427,\n",
      " 'Test/F1@2': 0.39075972018870997,\n",
      " 'Test/F1@5': 0.38369771631689154,\n",
      " 'Test/Pr@1': 0.4568934157875591,\n",
      " 'Test/Pr@10': 0.15399730723045013,\n",
      " 'Test/Pr@2': 0.43696561760960523,\n",
      " 'Test/Pr@5': 0.2867540029112082,\n",
      " 'Test/Re@1': 0.18478740620862144,\n",
      " 'Test/Re@10': 0.6226276298366926,\n",
      " 'Test/Re@2': 0.35339120200088275,\n",
      " 'Test/Re@5': 0.5796675003678093,\n",
      " 'Test/Rev@1': 0.16681706804627314,\n",
      " 'Test/Rev@10': 0.4391643519836273,\n",
      " 'Test/Rev@2': 0.26624723219174173,\n",
      " 'Test/Rev@5': 0.40170490177245305,\n",
      " 'Val/F1-top': 0.3018214384189277,\n",
      " 'Val/F1@1': 0.20413354531001593,\n",
      " 'Val/F1@10': 0.2987299254749659,\n",
      " 'Val/F1@2': 0.3087701089776855,\n",
      " 'Val/F1@5': 0.3956521739130435,\n",
      " 'Val/Pr@1': 0.45211267605633804,\n",
      " 'Val/Pr@10': 0.20064861816130852,\n",
      " 'Val/Pr@2': 0.4193093727977449,\n",
      " 'Val/Pr@5': 0.33370944992947815,\n",
      " 'Val/Re@1': 0.13182751540041068,\n",
      " 'Val/Re@10': 0.584394250513347,\n",
      " 'Val/Re@2': 0.24435318275154005,\n",
      " 'Val/Re@5': 0.48583162217659137,\n",
      " 'Val/Rev@1': 0.0893380477186407,\n",
      " 'Val/Rev@10': 0.3382438421211348,\n",
      " 'Val/Rev@2': 0.13099129895353634,\n",
      " 'Val/Rev@5': 0.27399932245813347,\n",
      " 'val_loss': tensor(1.5478, device='cuda:0'),\n",
      " 'val_loss_epoch': tensor(3.2925, device='cuda:0')}\n",
      "--------------------------------------------------------------------------------\n"
     ]
    },
    {
     "data": {
      "text/plain": [
       "[{'Test/F1@1': 0.2631468677980306,\n",
       "  'Test/F1@2': 0.39075972018870997,\n",
       "  'Test/F1@5': 0.38369771631689154,\n",
       "  'Test/F1@10': 0.24692222416710427,\n",
       "  'Test/Pr@1': 0.4568934157875591,\n",
       "  'Test/Pr@2': 0.43696561760960523,\n",
       "  'Test/Pr@5': 0.2867540029112082,\n",
       "  'Test/Pr@10': 0.15399730723045013,\n",
       "  'Test/Re@1': 0.18478740620862144,\n",
       "  'Test/Re@2': 0.35339120200088275,\n",
       "  'Test/Re@5': 0.5796675003678093,\n",
       "  'Test/Re@10': 0.6226276298366926,\n",
       "  'Test/Rev@1': 0.16681706804627314,\n",
       "  'Test/Rev@2': 0.26624723219174173,\n",
       "  'Test/Rev@5': 0.40170490177245305,\n",
       "  'Test/Rev@10': 0.4391643519836273,\n",
       "  'F1-top': 0.3211316321176841,\n",
       "  'val_loss_epoch': 3.2925469875335693,\n",
       "  'val_loss': 1.5478118658065796,\n",
       "  'Val/F1-top': 0.3018214384189277,\n",
       "  'Val/F1@1': 0.20413354531001593,\n",
       "  'Val/F1@2': 0.3087701089776855,\n",
       "  'Val/F1@5': 0.3956521739130435,\n",
       "  'Val/F1@10': 0.2987299254749659,\n",
       "  'Val/Pr@1': 0.45211267605633804,\n",
       "  'Val/Pr@2': 0.4193093727977449,\n",
       "  'Val/Pr@5': 0.33370944992947815,\n",
       "  'Val/Pr@10': 0.20064861816130852,\n",
       "  'Val/Re@1': 0.13182751540041068,\n",
       "  'Val/Re@2': 0.24435318275154005,\n",
       "  'Val/Re@5': 0.48583162217659137,\n",
       "  'Val/Re@10': 0.584394250513347,\n",
       "  'Val/Rev@1': 0.0893380477186407,\n",
       "  'Val/Rev@2': 0.13099129895353634,\n",
       "  'Val/Rev@5': 0.27399932245813347,\n",
       "  'Val/Rev@10': 0.3382438421211348}]"
      ]
     },
     "execution_count": 36,
     "metadata": {},
     "output_type": "execute_result"
    }
   ],
   "source": [
    "trainer.test()"
   ]
  },
  {
   "cell_type": "code",
   "execution_count": null,
   "metadata": {},
   "outputs": [],
   "source": []
  }
 ],
 "metadata": {
  "kernelspec": {
   "display_name": "Python 3",
   "language": "python",
   "name": "python3"
  },
  "language_info": {
   "codemirror_mode": {
    "name": "ipython",
    "version": 3
   },
   "file_extension": ".py",
   "mimetype": "text/x-python",
   "name": "python",
   "nbconvert_exporter": "python",
   "pygments_lexer": "ipython3",
   "version": "3.8.6"
  }
 },
 "nbformat": 4,
 "nbformat_minor": 4
}
